{
 "cells": [
  {
   "cell_type": "markdown",
   "metadata": {},
   "source": [
    "\n",
    " <body>\n",
    "  <h1>Objective of the project</h1>\n",
    "    <p style='font-size:15px'>The train data (train_v2.csv) contains user transactions from August 1st 2016 to April 30th 2018.\n",
    "The test data (test_v2.csv) contains user transactions from May 1st 2018 to October 15th 2018.</p>\n",
    "  <p style='font-size:15px'>Our goal is to predict users' trasactions during the period 2018.12 - 2019.1 given \n",
    "the test data(test_v2.csv).</p>\n",
    "    <p style='font-size:15px'>To see the more detailed data descriptions and evaluation creterion etc, please visit the site,\n",
    "https://www.kaggle.com/c/ga-customer-revenue-prediction</p>\n",
    "</body>\n",
    "\n",
    "\n",
    "\n",
    " <body>\n",
    "  <h1>Stretegy</h1>\n",
    "    <p style='font-size:15px'>Our strategy is to set the data from May 1st 2017 to October 31st 2017 as the \n",
    "training set and extract target variable from the data of period, December 1st 2017 to January 31st 2018.</p>\n",
    "  <p style='font-size:15px'>A few important steps are the followings:</p>\n",
    "    <p style='font-size:15px'>1. We first explore how the given data set looks like. We will see most columns are categorical columns in which some of the have thousands of unique values. Also, in this stage, we simply clean data for furture use. For instance, we drop columns with constant values which are not useful for our training stage.</p>\n",
    "    <p style='font-size:15px'>2. Since many categorical columns have numerous unique values, we can not simply apply one-hot encoding for those columns. Thus, we will perform Principal Component Analysis (PCA) in the later stage. To do so, we investigate how each categorical columns are related to the amount of transactions so that we determine the dimension in the PCA part. </p>\n",
    "    <p style='font-size:15px'>3. Based on the observations in the previous stage, we perform feature engineering such as PCA, one-hot encoding, normalization etc.</p>\n",
    "    <p style='font-size:15px'>4. While we are asked to predict each visitor's future trasaction amount, the given data set consists of individual visit log information.Therefore, we rearrange data with respect to visitor IDs.</p>\n",
    "    <p style='font-size:15px'>5. Finally, we perform training using Long-Short Term Memory(LSTM) with each visitors' visit history.</p>\n",
    "</body>\n",
    "\n",
    "\n",
    "\n"
   ]
  },
  {
   "cell_type": "code",
   "execution_count": 1,
   "metadata": {},
   "outputs": [],
   "source": [
    "# This Python 3 environment comes with many helpful analytics libraries installed\n",
    "# It is defined by the kaggle/python Docker image: https://github.com/kaggle/docker-python\n",
    "# For example, here's several helpful packages to load\n",
    "\n",
    "import numpy as np # linear algebra\n",
    "import pandas as pd # data processing, CSV file I/O (e.g. pd.read_csv)\n",
    "import os\n",
    "import json\n",
    "import time\n",
    "from datetime import datetime\n",
    "from pandas import json_normalize\n",
    "#from pandas.io.json import json_normalize\n",
    "from sklearn.metrics import mean_squared_error\n",
    "from sklearn.model_selection import KFold\n",
    "import matplotlib.pyplot as plt\n",
    "import seaborn as sns\n",
    "import gc\n",
    "from zipfile import ZipFile\n",
    "gc.enable()\n",
    "# Input data files are available in the read-only \"../input/\" directory\n",
    "# For example, running this (by clicking run or pressing Shift+Enter) will list all files under the input directory\n",
    "\n",
    "import os\n",
    "for dirname, _, filenames in os.walk('/home/username/input/train_v2.csv.zip'):\n",
    "    for filename in filenames:\n",
    "        print(os.path.join(dirname, filename))"
   ]
  },
  {
   "cell_type": "code",
   "execution_count": 2,
   "metadata": {},
   "outputs": [],
   "source": [
    "'''\n",
    "-------------In the data loading process, we only choose data from May 1st 2017 to January 31st 2018---------\n",
    "'''\n",
    "\n",
    "\n",
    "def load_df(csv_path, nrows=None):\n",
    "    JSON_COLUMNS = ['geoNetwork','device','totals','trafficSource']\n",
    "    JSON_ARR_COL = ['customDimensions']\n",
    "    zf = ZipFile(csv_path)\n",
    "    frames = [tf[(20180201 > tf['date']) & (tf['date'] >= 20170501)] for tf in pd.read_csv(zf.open('train_v2.csv'),\n",
    "                                       converters={column: json.loads for column in JSON_COLUMNS},\n",
    "                                       dtype={'fullVisitorId': 'str'}, # Important!!\n",
    "                                       chunksize = 50000)]\n",
    "    \n",
    "    df = pd.concat(frames,ignore_index=True)\n",
    "    for column in JSON_COLUMNS:\n",
    "        column_as_df = json_normalize(df[column])\n",
    "        column_as_df.columns = [f\"{column}.{subcolumn}\" for subcolumn in column_as_df.columns]\n",
    "        df = df.drop(column, axis=1).merge(column_as_df, right_index=True, left_index=True)\n",
    "\n",
    "    return df"
   ]
  },
  {
   "cell_type": "code",
   "execution_count": 3,
   "metadata": {},
   "outputs": [],
   "source": [
    "X_train = load_df('/Users/hyunkyujun/train_v2.csv.zip')\n"
   ]
  },
  {
   "cell_type": "code",
   "execution_count": 4,
   "metadata": {},
   "outputs": [
    {
     "data": {
      "text/plain": [
       "(748307, 59)"
      ]
     },
     "execution_count": 4,
     "metadata": {},
     "output_type": "execute_result"
    }
   ],
   "source": [
    "'''\n",
    "--------------------There are 748307 rows--------------------\n",
    "'''\n",
    "\n",
    "X_train.shape "
   ]
  },
  {
   "cell_type": "code",
   "execution_count": 5,
   "metadata": {},
   "outputs": [],
   "source": [
    "pd.set_option('display.max_columns', 5000)"
   ]
  },
  {
   "cell_type": "code",
   "execution_count": 6,
   "metadata": {},
   "outputs": [
    {
     "name": "stdout",
     "output_type": "stream",
     "text": [
      "<class 'pandas.core.frame.DataFrame'>\n",
      "RangeIndex: 748307 entries, 0 to 748306\n",
      "Data columns (total 59 columns):\n",
      " #   Column                                             Non-Null Count   Dtype \n",
      "---  ------                                             --------------   ----- \n",
      " 0   channelGrouping                                    748307 non-null  object\n",
      " 1   customDimensions                                   748307 non-null  object\n",
      " 2   date                                               748307 non-null  int64 \n",
      " 3   fullVisitorId                                      748307 non-null  object\n",
      " 4   hits                                               748307 non-null  object\n",
      " 5   socialEngagementType                               748307 non-null  object\n",
      " 6   visitId                                            748307 non-null  int64 \n",
      " 7   visitNumber                                        748307 non-null  int64 \n",
      " 8   visitStartTime                                     748307 non-null  int64 \n",
      " 9   geoNetwork.continent                               748307 non-null  object\n",
      " 10  geoNetwork.subContinent                            748307 non-null  object\n",
      " 11  geoNetwork.country                                 748307 non-null  object\n",
      " 12  geoNetwork.region                                  748307 non-null  object\n",
      " 13  geoNetwork.metro                                   748307 non-null  object\n",
      " 14  geoNetwork.city                                    748307 non-null  object\n",
      " 15  geoNetwork.cityId                                  748307 non-null  object\n",
      " 16  geoNetwork.networkDomain                           748307 non-null  object\n",
      " 17  geoNetwork.latitude                                748307 non-null  object\n",
      " 18  geoNetwork.longitude                               748307 non-null  object\n",
      " 19  geoNetwork.networkLocation                         748307 non-null  object\n",
      " 20  device.browser                                     748307 non-null  object\n",
      " 21  device.browserVersion                              748307 non-null  object\n",
      " 22  device.browserSize                                 748307 non-null  object\n",
      " 23  device.operatingSystem                             748307 non-null  object\n",
      " 24  device.operatingSystemVersion                      748307 non-null  object\n",
      " 25  device.isMobile                                    748307 non-null  bool  \n",
      " 26  device.mobileDeviceBranding                        748307 non-null  object\n",
      " 27  device.mobileDeviceModel                           748307 non-null  object\n",
      " 28  device.mobileInputSelector                         748307 non-null  object\n",
      " 29  device.mobileDeviceInfo                            748307 non-null  object\n",
      " 30  device.mobileDeviceMarketingName                   748307 non-null  object\n",
      " 31  device.flashVersion                                748307 non-null  object\n",
      " 32  device.language                                    748307 non-null  object\n",
      " 33  device.screenColors                                748307 non-null  object\n",
      " 34  device.screenResolution                            748307 non-null  object\n",
      " 35  device.deviceCategory                              748307 non-null  object\n",
      " 36  totals.visits                                      748307 non-null  object\n",
      " 37  totals.hits                                        748307 non-null  object\n",
      " 38  totals.pageviews                                   748197 non-null  object\n",
      " 39  totals.bounces                                     394645 non-null  object\n",
      " 40  totals.newVisits                                   563466 non-null  object\n",
      " 41  totals.sessionQualityDim                           613369 non-null  object\n",
      " 42  totals.timeOnSite                                  352161 non-null  object\n",
      " 43  totals.transactions                                7901 non-null    object\n",
      " 44  totals.transactionRevenue                          7901 non-null    object\n",
      " 45  totals.totalTransactionRevenue                     7901 non-null    object\n",
      " 46  trafficSource.campaign                             748307 non-null  object\n",
      " 47  trafficSource.source                               748307 non-null  object\n",
      " 48  trafficSource.medium                               748307 non-null  object\n",
      " 49  trafficSource.keyword                              387642 non-null  object\n",
      " 50  trafficSource.adwordsClickInfo.criteriaParameters  748307 non-null  object\n",
      " 51  trafficSource.referralPath                         185114 non-null  object\n",
      " 52  trafficSource.isTrueDirect                         248856 non-null  object\n",
      " 53  trafficSource.adContent                            51993 non-null   object\n",
      " 54  trafficSource.adwordsClickInfo.page                57908 non-null   object\n",
      " 55  trafficSource.adwordsClickInfo.slot                57908 non-null   object\n",
      " 56  trafficSource.adwordsClickInfo.gclId               57988 non-null   object\n",
      " 57  trafficSource.adwordsClickInfo.adNetworkType       57908 non-null   object\n",
      " 58  trafficSource.adwordsClickInfo.isVideoAd           57908 non-null   object\n",
      "dtypes: bool(1), int64(4), object(54)\n",
      "memory usage: 331.8+ MB\n"
     ]
    }
   ],
   "source": [
    "X_train.info()"
   ]
  },
  {
   "cell_type": "code",
   "execution_count": 7,
   "metadata": {},
   "outputs": [
    {
     "data": {
      "text/html": [
       "<div>\n",
       "<style scoped>\n",
       "    .dataframe tbody tr th:only-of-type {\n",
       "        vertical-align: middle;\n",
       "    }\n",
       "\n",
       "    .dataframe tbody tr th {\n",
       "        vertical-align: top;\n",
       "    }\n",
       "\n",
       "    .dataframe thead th {\n",
       "        text-align: right;\n",
       "    }\n",
       "</style>\n",
       "<table border=\"1\" class=\"dataframe\">\n",
       "  <thead>\n",
       "    <tr style=\"text-align: right;\">\n",
       "      <th></th>\n",
       "      <th>channelGrouping</th>\n",
       "      <th>customDimensions</th>\n",
       "      <th>date</th>\n",
       "      <th>fullVisitorId</th>\n",
       "      <th>hits</th>\n",
       "      <th>socialEngagementType</th>\n",
       "      <th>visitId</th>\n",
       "      <th>visitNumber</th>\n",
       "      <th>visitStartTime</th>\n",
       "      <th>geoNetwork.continent</th>\n",
       "      <th>geoNetwork.subContinent</th>\n",
       "      <th>geoNetwork.country</th>\n",
       "      <th>geoNetwork.region</th>\n",
       "      <th>geoNetwork.metro</th>\n",
       "      <th>geoNetwork.city</th>\n",
       "      <th>geoNetwork.cityId</th>\n",
       "      <th>geoNetwork.networkDomain</th>\n",
       "      <th>geoNetwork.latitude</th>\n",
       "      <th>geoNetwork.longitude</th>\n",
       "      <th>geoNetwork.networkLocation</th>\n",
       "      <th>device.browser</th>\n",
       "      <th>device.browserVersion</th>\n",
       "      <th>device.browserSize</th>\n",
       "      <th>device.operatingSystem</th>\n",
       "      <th>device.operatingSystemVersion</th>\n",
       "      <th>device.isMobile</th>\n",
       "      <th>device.mobileDeviceBranding</th>\n",
       "      <th>device.mobileDeviceModel</th>\n",
       "      <th>device.mobileInputSelector</th>\n",
       "      <th>device.mobileDeviceInfo</th>\n",
       "      <th>device.mobileDeviceMarketingName</th>\n",
       "      <th>device.flashVersion</th>\n",
       "      <th>device.language</th>\n",
       "      <th>device.screenColors</th>\n",
       "      <th>device.screenResolution</th>\n",
       "      <th>device.deviceCategory</th>\n",
       "      <th>totals.visits</th>\n",
       "      <th>totals.hits</th>\n",
       "      <th>totals.pageviews</th>\n",
       "      <th>totals.bounces</th>\n",
       "      <th>totals.newVisits</th>\n",
       "      <th>totals.sessionQualityDim</th>\n",
       "      <th>totals.timeOnSite</th>\n",
       "      <th>totals.transactions</th>\n",
       "      <th>totals.transactionRevenue</th>\n",
       "      <th>totals.totalTransactionRevenue</th>\n",
       "      <th>trafficSource.campaign</th>\n",
       "      <th>trafficSource.source</th>\n",
       "      <th>trafficSource.medium</th>\n",
       "      <th>trafficSource.keyword</th>\n",
       "      <th>trafficSource.adwordsClickInfo.criteriaParameters</th>\n",
       "      <th>trafficSource.referralPath</th>\n",
       "      <th>trafficSource.isTrueDirect</th>\n",
       "      <th>trafficSource.adContent</th>\n",
       "      <th>trafficSource.adwordsClickInfo.page</th>\n",
       "      <th>trafficSource.adwordsClickInfo.slot</th>\n",
       "      <th>trafficSource.adwordsClickInfo.gclId</th>\n",
       "      <th>trafficSource.adwordsClickInfo.adNetworkType</th>\n",
       "      <th>trafficSource.adwordsClickInfo.isVideoAd</th>\n",
       "    </tr>\n",
       "  </thead>\n",
       "  <tbody>\n",
       "    <tr>\n",
       "      <th>0</th>\n",
       "      <td>Organic Search</td>\n",
       "      <td>[{'index': '4', 'value': 'EMEA'}]</td>\n",
       "      <td>20171016</td>\n",
       "      <td>3162355547410993243</td>\n",
       "      <td>[{'hitNumber': '1', 'time': '0', 'hour': '17',...</td>\n",
       "      <td>Not Socially Engaged</td>\n",
       "      <td>1508198450</td>\n",
       "      <td>1</td>\n",
       "      <td>1508198450</td>\n",
       "      <td>Europe</td>\n",
       "      <td>Western Europe</td>\n",
       "      <td>Germany</td>\n",
       "      <td>not available in demo dataset</td>\n",
       "      <td>not available in demo dataset</td>\n",
       "      <td>not available in demo dataset</td>\n",
       "      <td>not available in demo dataset</td>\n",
       "      <td>(not set)</td>\n",
       "      <td>not available in demo dataset</td>\n",
       "      <td>not available in demo dataset</td>\n",
       "      <td>not available in demo dataset</td>\n",
       "      <td>Firefox</td>\n",
       "      <td>not available in demo dataset</td>\n",
       "      <td>not available in demo dataset</td>\n",
       "      <td>Windows</td>\n",
       "      <td>not available in demo dataset</td>\n",
       "      <td>False</td>\n",
       "      <td>not available in demo dataset</td>\n",
       "      <td>not available in demo dataset</td>\n",
       "      <td>not available in demo dataset</td>\n",
       "      <td>not available in demo dataset</td>\n",
       "      <td>not available in demo dataset</td>\n",
       "      <td>not available in demo dataset</td>\n",
       "      <td>not available in demo dataset</td>\n",
       "      <td>not available in demo dataset</td>\n",
       "      <td>not available in demo dataset</td>\n",
       "      <td>desktop</td>\n",
       "      <td>1</td>\n",
       "      <td>1</td>\n",
       "      <td>1</td>\n",
       "      <td>1</td>\n",
       "      <td>1</td>\n",
       "      <td>1</td>\n",
       "      <td>NaN</td>\n",
       "      <td>NaN</td>\n",
       "      <td>NaN</td>\n",
       "      <td>NaN</td>\n",
       "      <td>(not set)</td>\n",
       "      <td>google</td>\n",
       "      <td>organic</td>\n",
       "      <td>water bottle</td>\n",
       "      <td>not available in demo dataset</td>\n",
       "      <td>NaN</td>\n",
       "      <td>NaN</td>\n",
       "      <td>NaN</td>\n",
       "      <td>NaN</td>\n",
       "      <td>NaN</td>\n",
       "      <td>NaN</td>\n",
       "      <td>NaN</td>\n",
       "      <td>NaN</td>\n",
       "    </tr>\n",
       "    <tr>\n",
       "      <th>1</th>\n",
       "      <td>Referral</td>\n",
       "      <td>[{'index': '4', 'value': 'North America'}]</td>\n",
       "      <td>20171016</td>\n",
       "      <td>8934116514970143966</td>\n",
       "      <td>[{'hitNumber': '1', 'time': '0', 'hour': '10',...</td>\n",
       "      <td>Not Socially Engaged</td>\n",
       "      <td>1508176307</td>\n",
       "      <td>6</td>\n",
       "      <td>1508176307</td>\n",
       "      <td>Americas</td>\n",
       "      <td>Northern America</td>\n",
       "      <td>United States</td>\n",
       "      <td>California</td>\n",
       "      <td>San Francisco-Oakland-San Jose CA</td>\n",
       "      <td>Cupertino</td>\n",
       "      <td>not available in demo dataset</td>\n",
       "      <td>(not set)</td>\n",
       "      <td>not available in demo dataset</td>\n",
       "      <td>not available in demo dataset</td>\n",
       "      <td>not available in demo dataset</td>\n",
       "      <td>Chrome</td>\n",
       "      <td>not available in demo dataset</td>\n",
       "      <td>not available in demo dataset</td>\n",
       "      <td>Chrome OS</td>\n",
       "      <td>not available in demo dataset</td>\n",
       "      <td>False</td>\n",
       "      <td>not available in demo dataset</td>\n",
       "      <td>not available in demo dataset</td>\n",
       "      <td>not available in demo dataset</td>\n",
       "      <td>not available in demo dataset</td>\n",
       "      <td>not available in demo dataset</td>\n",
       "      <td>not available in demo dataset</td>\n",
       "      <td>not available in demo dataset</td>\n",
       "      <td>not available in demo dataset</td>\n",
       "      <td>not available in demo dataset</td>\n",
       "      <td>desktop</td>\n",
       "      <td>1</td>\n",
       "      <td>2</td>\n",
       "      <td>2</td>\n",
       "      <td>NaN</td>\n",
       "      <td>NaN</td>\n",
       "      <td>2</td>\n",
       "      <td>28</td>\n",
       "      <td>NaN</td>\n",
       "      <td>NaN</td>\n",
       "      <td>NaN</td>\n",
       "      <td>(not set)</td>\n",
       "      <td>sites.google.com</td>\n",
       "      <td>referral</td>\n",
       "      <td>NaN</td>\n",
       "      <td>not available in demo dataset</td>\n",
       "      <td>/a/google.com/transportation/mtv-services/bike...</td>\n",
       "      <td>NaN</td>\n",
       "      <td>NaN</td>\n",
       "      <td>NaN</td>\n",
       "      <td>NaN</td>\n",
       "      <td>NaN</td>\n",
       "      <td>NaN</td>\n",
       "      <td>NaN</td>\n",
       "    </tr>\n",
       "    <tr>\n",
       "      <th>2</th>\n",
       "      <td>Direct</td>\n",
       "      <td>[{'index': '4', 'value': 'North America'}]</td>\n",
       "      <td>20171016</td>\n",
       "      <td>7992466427990357681</td>\n",
       "      <td>[{'hitNumber': '1', 'time': '0', 'hour': '17',...</td>\n",
       "      <td>Not Socially Engaged</td>\n",
       "      <td>1508201613</td>\n",
       "      <td>1</td>\n",
       "      <td>1508201613</td>\n",
       "      <td>Americas</td>\n",
       "      <td>Northern America</td>\n",
       "      <td>United States</td>\n",
       "      <td>not available in demo dataset</td>\n",
       "      <td>not available in demo dataset</td>\n",
       "      <td>not available in demo dataset</td>\n",
       "      <td>not available in demo dataset</td>\n",
       "      <td>windjammercable.net</td>\n",
       "      <td>not available in demo dataset</td>\n",
       "      <td>not available in demo dataset</td>\n",
       "      <td>not available in demo dataset</td>\n",
       "      <td>Chrome</td>\n",
       "      <td>not available in demo dataset</td>\n",
       "      <td>not available in demo dataset</td>\n",
       "      <td>Android</td>\n",
       "      <td>not available in demo dataset</td>\n",
       "      <td>True</td>\n",
       "      <td>not available in demo dataset</td>\n",
       "      <td>not available in demo dataset</td>\n",
       "      <td>not available in demo dataset</td>\n",
       "      <td>not available in demo dataset</td>\n",
       "      <td>not available in demo dataset</td>\n",
       "      <td>not available in demo dataset</td>\n",
       "      <td>not available in demo dataset</td>\n",
       "      <td>not available in demo dataset</td>\n",
       "      <td>not available in demo dataset</td>\n",
       "      <td>mobile</td>\n",
       "      <td>1</td>\n",
       "      <td>2</td>\n",
       "      <td>2</td>\n",
       "      <td>NaN</td>\n",
       "      <td>1</td>\n",
       "      <td>1</td>\n",
       "      <td>38</td>\n",
       "      <td>NaN</td>\n",
       "      <td>NaN</td>\n",
       "      <td>NaN</td>\n",
       "      <td>(not set)</td>\n",
       "      <td>(direct)</td>\n",
       "      <td>(none)</td>\n",
       "      <td>NaN</td>\n",
       "      <td>not available in demo dataset</td>\n",
       "      <td>NaN</td>\n",
       "      <td>True</td>\n",
       "      <td>NaN</td>\n",
       "      <td>NaN</td>\n",
       "      <td>NaN</td>\n",
       "      <td>NaN</td>\n",
       "      <td>NaN</td>\n",
       "      <td>NaN</td>\n",
       "    </tr>\n",
       "    <tr>\n",
       "      <th>3</th>\n",
       "      <td>Organic Search</td>\n",
       "      <td>[{'index': '4', 'value': 'EMEA'}]</td>\n",
       "      <td>20171016</td>\n",
       "      <td>9075655783635761930</td>\n",
       "      <td>[{'hitNumber': '1', 'time': '0', 'hour': '9', ...</td>\n",
       "      <td>Not Socially Engaged</td>\n",
       "      <td>1508169851</td>\n",
       "      <td>1</td>\n",
       "      <td>1508169851</td>\n",
       "      <td>Asia</td>\n",
       "      <td>Western Asia</td>\n",
       "      <td>Turkey</td>\n",
       "      <td>not available in demo dataset</td>\n",
       "      <td>not available in demo dataset</td>\n",
       "      <td>not available in demo dataset</td>\n",
       "      <td>not available in demo dataset</td>\n",
       "      <td>unknown.unknown</td>\n",
       "      <td>not available in demo dataset</td>\n",
       "      <td>not available in demo dataset</td>\n",
       "      <td>not available in demo dataset</td>\n",
       "      <td>Chrome</td>\n",
       "      <td>not available in demo dataset</td>\n",
       "      <td>not available in demo dataset</td>\n",
       "      <td>Windows</td>\n",
       "      <td>not available in demo dataset</td>\n",
       "      <td>False</td>\n",
       "      <td>not available in demo dataset</td>\n",
       "      <td>not available in demo dataset</td>\n",
       "      <td>not available in demo dataset</td>\n",
       "      <td>not available in demo dataset</td>\n",
       "      <td>not available in demo dataset</td>\n",
       "      <td>not available in demo dataset</td>\n",
       "      <td>not available in demo dataset</td>\n",
       "      <td>not available in demo dataset</td>\n",
       "      <td>not available in demo dataset</td>\n",
       "      <td>desktop</td>\n",
       "      <td>1</td>\n",
       "      <td>2</td>\n",
       "      <td>2</td>\n",
       "      <td>NaN</td>\n",
       "      <td>1</td>\n",
       "      <td>1</td>\n",
       "      <td>1</td>\n",
       "      <td>NaN</td>\n",
       "      <td>NaN</td>\n",
       "      <td>NaN</td>\n",
       "      <td>(not set)</td>\n",
       "      <td>google</td>\n",
       "      <td>organic</td>\n",
       "      <td>(not provided)</td>\n",
       "      <td>not available in demo dataset</td>\n",
       "      <td>NaN</td>\n",
       "      <td>NaN</td>\n",
       "      <td>NaN</td>\n",
       "      <td>NaN</td>\n",
       "      <td>NaN</td>\n",
       "      <td>NaN</td>\n",
       "      <td>NaN</td>\n",
       "      <td>NaN</td>\n",
       "    </tr>\n",
       "    <tr>\n",
       "      <th>4</th>\n",
       "      <td>Organic Search</td>\n",
       "      <td>[{'index': '4', 'value': 'Central America'}]</td>\n",
       "      <td>20171016</td>\n",
       "      <td>6960673291025684308</td>\n",
       "      <td>[{'hitNumber': '1', 'time': '0', 'hour': '14',...</td>\n",
       "      <td>Not Socially Engaged</td>\n",
       "      <td>1508190552</td>\n",
       "      <td>1</td>\n",
       "      <td>1508190552</td>\n",
       "      <td>Americas</td>\n",
       "      <td>Central America</td>\n",
       "      <td>Mexico</td>\n",
       "      <td>not available in demo dataset</td>\n",
       "      <td>not available in demo dataset</td>\n",
       "      <td>not available in demo dataset</td>\n",
       "      <td>not available in demo dataset</td>\n",
       "      <td>prod-infinitum.com.mx</td>\n",
       "      <td>not available in demo dataset</td>\n",
       "      <td>not available in demo dataset</td>\n",
       "      <td>not available in demo dataset</td>\n",
       "      <td>Chrome</td>\n",
       "      <td>not available in demo dataset</td>\n",
       "      <td>not available in demo dataset</td>\n",
       "      <td>Windows</td>\n",
       "      <td>not available in demo dataset</td>\n",
       "      <td>False</td>\n",
       "      <td>not available in demo dataset</td>\n",
       "      <td>not available in demo dataset</td>\n",
       "      <td>not available in demo dataset</td>\n",
       "      <td>not available in demo dataset</td>\n",
       "      <td>not available in demo dataset</td>\n",
       "      <td>not available in demo dataset</td>\n",
       "      <td>not available in demo dataset</td>\n",
       "      <td>not available in demo dataset</td>\n",
       "      <td>not available in demo dataset</td>\n",
       "      <td>desktop</td>\n",
       "      <td>1</td>\n",
       "      <td>2</td>\n",
       "      <td>2</td>\n",
       "      <td>NaN</td>\n",
       "      <td>1</td>\n",
       "      <td>1</td>\n",
       "      <td>52</td>\n",
       "      <td>NaN</td>\n",
       "      <td>NaN</td>\n",
       "      <td>NaN</td>\n",
       "      <td>(not set)</td>\n",
       "      <td>google</td>\n",
       "      <td>organic</td>\n",
       "      <td>(not provided)</td>\n",
       "      <td>not available in demo dataset</td>\n",
       "      <td>NaN</td>\n",
       "      <td>NaN</td>\n",
       "      <td>NaN</td>\n",
       "      <td>NaN</td>\n",
       "      <td>NaN</td>\n",
       "      <td>NaN</td>\n",
       "      <td>NaN</td>\n",
       "      <td>NaN</td>\n",
       "    </tr>\n",
       "  </tbody>\n",
       "</table>\n",
       "</div>"
      ],
      "text/plain": [
       "  channelGrouping                              customDimensions      date  \\\n",
       "0  Organic Search             [{'index': '4', 'value': 'EMEA'}]  20171016   \n",
       "1        Referral    [{'index': '4', 'value': 'North America'}]  20171016   \n",
       "2          Direct    [{'index': '4', 'value': 'North America'}]  20171016   \n",
       "3  Organic Search             [{'index': '4', 'value': 'EMEA'}]  20171016   \n",
       "4  Organic Search  [{'index': '4', 'value': 'Central America'}]  20171016   \n",
       "\n",
       "         fullVisitorId                                               hits  \\\n",
       "0  3162355547410993243  [{'hitNumber': '1', 'time': '0', 'hour': '17',...   \n",
       "1  8934116514970143966  [{'hitNumber': '1', 'time': '0', 'hour': '10',...   \n",
       "2  7992466427990357681  [{'hitNumber': '1', 'time': '0', 'hour': '17',...   \n",
       "3  9075655783635761930  [{'hitNumber': '1', 'time': '0', 'hour': '9', ...   \n",
       "4  6960673291025684308  [{'hitNumber': '1', 'time': '0', 'hour': '14',...   \n",
       "\n",
       "   socialEngagementType     visitId  visitNumber  visitStartTime  \\\n",
       "0  Not Socially Engaged  1508198450            1      1508198450   \n",
       "1  Not Socially Engaged  1508176307            6      1508176307   \n",
       "2  Not Socially Engaged  1508201613            1      1508201613   \n",
       "3  Not Socially Engaged  1508169851            1      1508169851   \n",
       "4  Not Socially Engaged  1508190552            1      1508190552   \n",
       "\n",
       "  geoNetwork.continent geoNetwork.subContinent geoNetwork.country  \\\n",
       "0               Europe          Western Europe            Germany   \n",
       "1             Americas        Northern America      United States   \n",
       "2             Americas        Northern America      United States   \n",
       "3                 Asia            Western Asia             Turkey   \n",
       "4             Americas         Central America             Mexico   \n",
       "\n",
       "               geoNetwork.region                   geoNetwork.metro  \\\n",
       "0  not available in demo dataset      not available in demo dataset   \n",
       "1                     California  San Francisco-Oakland-San Jose CA   \n",
       "2  not available in demo dataset      not available in demo dataset   \n",
       "3  not available in demo dataset      not available in demo dataset   \n",
       "4  not available in demo dataset      not available in demo dataset   \n",
       "\n",
       "                 geoNetwork.city              geoNetwork.cityId  \\\n",
       "0  not available in demo dataset  not available in demo dataset   \n",
       "1                      Cupertino  not available in demo dataset   \n",
       "2  not available in demo dataset  not available in demo dataset   \n",
       "3  not available in demo dataset  not available in demo dataset   \n",
       "4  not available in demo dataset  not available in demo dataset   \n",
       "\n",
       "  geoNetwork.networkDomain            geoNetwork.latitude  \\\n",
       "0                (not set)  not available in demo dataset   \n",
       "1                (not set)  not available in demo dataset   \n",
       "2      windjammercable.net  not available in demo dataset   \n",
       "3          unknown.unknown  not available in demo dataset   \n",
       "4    prod-infinitum.com.mx  not available in demo dataset   \n",
       "\n",
       "            geoNetwork.longitude     geoNetwork.networkLocation  \\\n",
       "0  not available in demo dataset  not available in demo dataset   \n",
       "1  not available in demo dataset  not available in demo dataset   \n",
       "2  not available in demo dataset  not available in demo dataset   \n",
       "3  not available in demo dataset  not available in demo dataset   \n",
       "4  not available in demo dataset  not available in demo dataset   \n",
       "\n",
       "  device.browser          device.browserVersion  \\\n",
       "0        Firefox  not available in demo dataset   \n",
       "1         Chrome  not available in demo dataset   \n",
       "2         Chrome  not available in demo dataset   \n",
       "3         Chrome  not available in demo dataset   \n",
       "4         Chrome  not available in demo dataset   \n",
       "\n",
       "              device.browserSize device.operatingSystem  \\\n",
       "0  not available in demo dataset                Windows   \n",
       "1  not available in demo dataset              Chrome OS   \n",
       "2  not available in demo dataset                Android   \n",
       "3  not available in demo dataset                Windows   \n",
       "4  not available in demo dataset                Windows   \n",
       "\n",
       "   device.operatingSystemVersion  device.isMobile  \\\n",
       "0  not available in demo dataset            False   \n",
       "1  not available in demo dataset            False   \n",
       "2  not available in demo dataset             True   \n",
       "3  not available in demo dataset            False   \n",
       "4  not available in demo dataset            False   \n",
       "\n",
       "     device.mobileDeviceBranding       device.mobileDeviceModel  \\\n",
       "0  not available in demo dataset  not available in demo dataset   \n",
       "1  not available in demo dataset  not available in demo dataset   \n",
       "2  not available in demo dataset  not available in demo dataset   \n",
       "3  not available in demo dataset  not available in demo dataset   \n",
       "4  not available in demo dataset  not available in demo dataset   \n",
       "\n",
       "      device.mobileInputSelector        device.mobileDeviceInfo  \\\n",
       "0  not available in demo dataset  not available in demo dataset   \n",
       "1  not available in demo dataset  not available in demo dataset   \n",
       "2  not available in demo dataset  not available in demo dataset   \n",
       "3  not available in demo dataset  not available in demo dataset   \n",
       "4  not available in demo dataset  not available in demo dataset   \n",
       "\n",
       "  device.mobileDeviceMarketingName            device.flashVersion  \\\n",
       "0    not available in demo dataset  not available in demo dataset   \n",
       "1    not available in demo dataset  not available in demo dataset   \n",
       "2    not available in demo dataset  not available in demo dataset   \n",
       "3    not available in demo dataset  not available in demo dataset   \n",
       "4    not available in demo dataset  not available in demo dataset   \n",
       "\n",
       "                 device.language            device.screenColors  \\\n",
       "0  not available in demo dataset  not available in demo dataset   \n",
       "1  not available in demo dataset  not available in demo dataset   \n",
       "2  not available in demo dataset  not available in demo dataset   \n",
       "3  not available in demo dataset  not available in demo dataset   \n",
       "4  not available in demo dataset  not available in demo dataset   \n",
       "\n",
       "         device.screenResolution device.deviceCategory totals.visits  \\\n",
       "0  not available in demo dataset               desktop             1   \n",
       "1  not available in demo dataset               desktop             1   \n",
       "2  not available in demo dataset                mobile             1   \n",
       "3  not available in demo dataset               desktop             1   \n",
       "4  not available in demo dataset               desktop             1   \n",
       "\n",
       "  totals.hits totals.pageviews totals.bounces totals.newVisits  \\\n",
       "0           1                1              1                1   \n",
       "1           2                2            NaN              NaN   \n",
       "2           2                2            NaN                1   \n",
       "3           2                2            NaN                1   \n",
       "4           2                2            NaN                1   \n",
       "\n",
       "  totals.sessionQualityDim totals.timeOnSite totals.transactions  \\\n",
       "0                        1               NaN                 NaN   \n",
       "1                        2                28                 NaN   \n",
       "2                        1                38                 NaN   \n",
       "3                        1                 1                 NaN   \n",
       "4                        1                52                 NaN   \n",
       "\n",
       "  totals.transactionRevenue totals.totalTransactionRevenue  \\\n",
       "0                       NaN                            NaN   \n",
       "1                       NaN                            NaN   \n",
       "2                       NaN                            NaN   \n",
       "3                       NaN                            NaN   \n",
       "4                       NaN                            NaN   \n",
       "\n",
       "  trafficSource.campaign trafficSource.source trafficSource.medium  \\\n",
       "0              (not set)               google              organic   \n",
       "1              (not set)     sites.google.com             referral   \n",
       "2              (not set)             (direct)               (none)   \n",
       "3              (not set)               google              organic   \n",
       "4              (not set)               google              organic   \n",
       "\n",
       "  trafficSource.keyword trafficSource.adwordsClickInfo.criteriaParameters  \\\n",
       "0          water bottle                     not available in demo dataset   \n",
       "1                   NaN                     not available in demo dataset   \n",
       "2                   NaN                     not available in demo dataset   \n",
       "3        (not provided)                     not available in demo dataset   \n",
       "4        (not provided)                     not available in demo dataset   \n",
       "\n",
       "                          trafficSource.referralPath  \\\n",
       "0                                                NaN   \n",
       "1  /a/google.com/transportation/mtv-services/bike...   \n",
       "2                                                NaN   \n",
       "3                                                NaN   \n",
       "4                                                NaN   \n",
       "\n",
       "  trafficSource.isTrueDirect trafficSource.adContent  \\\n",
       "0                        NaN                     NaN   \n",
       "1                        NaN                     NaN   \n",
       "2                       True                     NaN   \n",
       "3                        NaN                     NaN   \n",
       "4                        NaN                     NaN   \n",
       "\n",
       "  trafficSource.adwordsClickInfo.page trafficSource.adwordsClickInfo.slot  \\\n",
       "0                                 NaN                                 NaN   \n",
       "1                                 NaN                                 NaN   \n",
       "2                                 NaN                                 NaN   \n",
       "3                                 NaN                                 NaN   \n",
       "4                                 NaN                                 NaN   \n",
       "\n",
       "  trafficSource.adwordsClickInfo.gclId  \\\n",
       "0                                  NaN   \n",
       "1                                  NaN   \n",
       "2                                  NaN   \n",
       "3                                  NaN   \n",
       "4                                  NaN   \n",
       "\n",
       "  trafficSource.adwordsClickInfo.adNetworkType  \\\n",
       "0                                          NaN   \n",
       "1                                          NaN   \n",
       "2                                          NaN   \n",
       "3                                          NaN   \n",
       "4                                          NaN   \n",
       "\n",
       "  trafficSource.adwordsClickInfo.isVideoAd  \n",
       "0                                      NaN  \n",
       "1                                      NaN  \n",
       "2                                      NaN  \n",
       "3                                      NaN  \n",
       "4                                      NaN  "
      ]
     },
     "execution_count": 7,
     "metadata": {},
     "output_type": "execute_result"
    }
   ],
   "source": [
    "X_train.head()"
   ]
  },
  {
   "cell_type": "markdown",
   "metadata": {},
   "source": [
    " <body>\n",
    "  <h1>Initial Observation</h1>\n",
    "    <p style='font-size:15px'>As we can see, most columns are categorical columns.  Also, below we observe that many categorical columns have thousands' unique values</p>\n",
    "  <p style='font-size:15px'>Thus, we conclude that we can not simply apply one-hot encoding for those categorical columns which will lead to enomous size of dimension. Thus, we will use PCA for feature engineering. To do so, we need to investigate how each categorical columns are related to the amount of transactions so that we determine the dimension in the PCA part.</p>\n",
    "</body>\n",
    "\n"
   ]
  },
  {
   "cell_type": "code",
   "execution_count": 8,
   "metadata": {},
   "outputs": [
    {
     "name": "stdout",
     "output_type": "stream",
     "text": [
      "Column Name:channelGrouping Number of Unique Value:8\n",
      "Column Name:customDimensions Number of Unique Value:6\n",
      "Column Name:date Number of Unique Value:276\n",
      "Column Name:fullVisitorId Number of Unique Value:575250\n",
      "Column Name:hits Number of Unique Value:600973\n",
      "Column Name:socialEngagementType Number of Unique Value:1\n",
      "Column Name:visitId Number of Unique Value:725680\n",
      "Column Name:visitNumber Number of Unique Value:428\n",
      "Column Name:visitStartTime Number of Unique Value:726469\n",
      "Column Name:geoNetwork.continent Number of Unique Value:6\n",
      "Column Name:geoNetwork.subContinent Number of Unique Value:23\n",
      "Column Name:geoNetwork.country Number of Unique Value:220\n",
      "Column Name:geoNetwork.region Number of Unique Value:341\n",
      "Column Name:geoNetwork.metro Number of Unique Value:100\n",
      "Column Name:geoNetwork.city Number of Unique Value:643\n",
      "Column Name:geoNetwork.cityId Number of Unique Value:1\n",
      "Column Name:geoNetwork.networkDomain Number of Unique Value:24923\n",
      "Column Name:geoNetwork.latitude Number of Unique Value:1\n",
      "Column Name:geoNetwork.longitude Number of Unique Value:1\n",
      "Column Name:geoNetwork.networkLocation Number of Unique Value:1\n",
      "Column Name:device.browser Number of Unique Value:70\n",
      "Column Name:device.browserVersion Number of Unique Value:1\n",
      "Column Name:device.browserSize Number of Unique Value:1\n",
      "Column Name:device.operatingSystem Number of Unique Value:20\n",
      "Column Name:device.operatingSystemVersion Number of Unique Value:1\n",
      "Column Name:device.isMobile Number of Unique Value:2\n",
      "Column Name:device.mobileDeviceBranding Number of Unique Value:1\n",
      "Column Name:device.mobileDeviceModel Number of Unique Value:1\n",
      "Column Name:device.mobileInputSelector Number of Unique Value:1\n",
      "Column Name:device.mobileDeviceInfo Number of Unique Value:1\n",
      "Column Name:device.mobileDeviceMarketingName Number of Unique Value:1\n",
      "Column Name:device.flashVersion Number of Unique Value:1\n",
      "Column Name:device.language Number of Unique Value:1\n",
      "Column Name:device.screenColors Number of Unique Value:1\n",
      "Column Name:device.screenResolution Number of Unique Value:1\n",
      "Column Name:device.deviceCategory Number of Unique Value:3\n",
      "Column Name:totals.visits Number of Unique Value:1\n",
      "Column Name:totals.hits Number of Unique Value:222\n",
      "Column Name:totals.pageviews Number of Unique Value:153\n",
      "Column Name:totals.bounces Number of Unique Value:1\n",
      "Column Name:totals.newVisits Number of Unique Value:1\n",
      "Column Name:totals.sessionQualityDim Number of Unique Value:100\n",
      "Column Name:totals.timeOnSite Number of Unique Value:3960\n",
      "Column Name:totals.transactions Number of Unique Value:7\n",
      "Column Name:totals.transactionRevenue Number of Unique Value:3851\n",
      "Column Name:totals.totalTransactionRevenue Number of Unique Value:4515\n",
      "Column Name:trafficSource.campaign Number of Unique Value:30\n",
      "Column Name:trafficSource.source Number of Unique Value:232\n",
      "Column Name:trafficSource.medium Number of Unique Value:7\n",
      "Column Name:trafficSource.keyword Number of Unique Value:2912\n",
      "Column Name:trafficSource.adwordsClickInfo.criteriaParameters Number of Unique Value:1\n",
      "Column Name:trafficSource.referralPath Number of Unique Value:1951\n",
      "Column Name:trafficSource.isTrueDirect Number of Unique Value:1\n",
      "Column Name:trafficSource.adContent Number of Unique Value:56\n",
      "Column Name:trafficSource.adwordsClickInfo.page Number of Unique Value:9\n",
      "Column Name:trafficSource.adwordsClickInfo.slot Number of Unique Value:2\n",
      "Column Name:trafficSource.adwordsClickInfo.gclId Number of Unique Value:44979\n",
      "Column Name:trafficSource.adwordsClickInfo.adNetworkType Number of Unique Value:3\n",
      "Column Name:trafficSource.adwordsClickInfo.isVideoAd Number of Unique Value:1\n"
     ]
    }
   ],
   "source": [
    "for c in X_train.columns:\n",
    "    print('Column Name:' + c, 'Number of Unique Value:'+ str(X_train[c].nunique()))"
   ]
  },
  {
   "cell_type": "code",
   "execution_count": 9,
   "metadata": {},
   "outputs": [],
   "source": [
    "df = X_train.copy()"
   ]
  },
  {
   "cell_type": "code",
   "execution_count": 10,
   "metadata": {},
   "outputs": [],
   "source": [
    "'''\n",
    "--------------------Data Type change--------------------\n",
    "\n",
    "Change the type of columns 'totals.transactions', 'totals.transactionRevenue' and \n",
    "'totals.totalTransactionRevenue' as float and replace the empty value with '0'.\n",
    "'''\n",
    "\n",
    "transaction_col = ['totals.transactions','totals.transactionRevenue' ,'totals.totalTransactionRevenue']\n",
    "for c in transaction_col:\n",
    "    df[c] = df[c].astype(float)\n",
    "    df[c] = df[c].fillna(0)"
   ]
  },
  {
   "cell_type": "code",
   "execution_count": 11,
   "metadata": {},
   "outputs": [],
   "source": [
    "'''\n",
    "--------------------Visit date type--------------------\n",
    "During the training, we will utilize the timing of each visits monthly-wise. \n",
    "For instance, for a visit of 23rd, September 2017, the 'date_' will be '20170901'\n",
    "'''\n",
    "\n",
    "import datetime\n",
    "df['date_'] = df['date'].apply(lambda x: datetime.date(int(str(x)[:4]), int(str(x)[4:6]),1))\n",
    "cnt_srs = df.groupby('date_')['date_'].agg(['count'])\n",
    "cnt_srs.columns = [\"count\"]\n",
    "x = range(cnt_srs.shape[0])\n"
   ]
  },
  {
   "cell_type": "code",
   "execution_count": 12,
   "metadata": {},
   "outputs": [],
   "source": [
    "'''\n",
    "As we mentioned earlier, we use customers' log data \n",
    "from May 1st 2017 to October 31st 2017 as the training set\n",
    "'''\n",
    "\n",
    "train = df.loc[df['date'] < 20171101]"
   ]
  },
  {
   "cell_type": "code",
   "execution_count": 13,
   "metadata": {},
   "outputs": [],
   "source": [
    "'''\n",
    "--------------------Columns with constant values--------------------\n",
    "The columns with constant value will be dropped to save some memory and time in our modeling process.\n",
    "'''\n",
    "\n",
    "train = train.drop(['hits','customDimensions'],axis=1)\n",
    "train = train.drop([c for c in train.columns if train[c].nunique(dropna=False)==1], axis=1)\n",
    "train = train.drop([c for c in train.columns if train[c].nunique(dropna=False)==0], axis=1)"
   ]
  },
  {
   "cell_type": "code",
   "execution_count": 204,
   "metadata": {},
   "outputs": [
    {
     "data": {
      "text/html": [
       "        <script type=\"text/javascript\">\n",
       "        window.PlotlyConfig = {MathJaxConfig: 'local'};\n",
       "        if (window.MathJax) {MathJax.Hub.Config({SVG: {font: \"STIX-Web\"}});}\n",
       "        if (typeof require !== 'undefined') {\n",
       "        require.undef(\"plotly\");\n",
       "        requirejs.config({\n",
       "            paths: {\n",
       "                'plotly': ['https://cdn.plot.ly/plotly-latest.min']\n",
       "            }\n",
       "        });\n",
       "        require(['plotly'], function(Plotly) {\n",
       "            window._Plotly = Plotly;\n",
       "        });\n",
       "        }\n",
       "        </script>\n",
       "        "
      ]
     },
     "metadata": {},
     "output_type": "display_data"
    }
   ],
   "source": [
    "import plotly\n",
    "import plotly.subplots\n",
    "import plotly.offline as py\n",
    "from plotly import tools\n",
    "py.init_notebook_mode(connected=True)\n",
    "import plotly.graph_objs as go\n",
    "\n"
   ]
  },
  {
   "cell_type": "code",
   "execution_count": 205,
   "metadata": {},
   "outputs": [],
   "source": [
    "def horizontal_bar_chart(cnt_srs, color):\n",
    "    trace = go.Bar(\n",
    "        y=cnt_srs.index[::-1],\n",
    "        x=cnt_srs.values[::-1],\n",
    "        showlegend=False,\n",
    "        orientation = 'h',\n",
    "        )\n",
    "    return trace\n",
    "\n"
   ]
  },
  {
   "cell_type": "markdown",
   "metadata": {},
   "source": [
    "\n",
    "    \n",
    " <body>\n",
    "  <h1>Traffic Source Information</h1>\n",
    "  <p style='font-size:15px'>Here, we explore how traffic sources are related to average transactions for each visit.\n",
    "Throughout this observation, we'd like to determine proper number of dimension of traffic source\n",
    "columns during Principle Component Analysis (PCA) process.</p>\n",
    "    <p style='font-size:15px'>The second column of the follwing graph chart indicates avaerage trasaction for each category.</p>\n",
    "</body>\n"
   ]
  },
  {
   "cell_type": "code",
   "execution_count": 206,
   "metadata": {},
   "outputs": [],
   "source": [
    "traffic_source = ['trafficSource.campaign', 'trafficSource.source',\n",
    "       'trafficSource.medium', 'trafficSource.keyword',\n",
    "       'trafficSource.referralPath', 'trafficSource.adContent',\n",
    "       'trafficSource.adwordsClickInfo.page',\n",
    "       'trafficSource.adwordsClickInfo.slot',\n",
    "       'trafficSource.adwordsClickInfo.gclId',\n",
    "       'trafficSource.adwordsClickInfo.adNetworkType',\n",
    "       'trafficSource.adwordsClickInfo.isVideoAd',\n",
    "       'trafficSource.isTrueDirect']\n",
    "\n",
    "i = 1\n",
    "traffic_source_dict = {}\n",
    "for c in traffic_source:\n",
    "    cnt_srs = train.groupby(c)['totals.transactionRevenue'].agg(['size', 'mean'])\n",
    "    cnt_srs.columns = [\"count\", \"mean\"]\n",
    "    cnt_srs = cnt_srs.sort_values(by=\"count\", ascending=False)\n",
    "    traffic_source_dict[(i,1)] = horizontal_bar_chart(cnt_srs[\"count\"].head(10), 'rgba(50, 171, 96, 0.6)')\n",
    "    traffic_source_dict[(i,2)] = horizontal_bar_chart(cnt_srs[\"mean\"].head(10), 'rgba(50, 171, 96, 0.6)')\n",
    "    i += 1"
   ]
  },
  {
   "cell_type": "code",
   "execution_count": 207,
   "metadata": {},
   "outputs": [
    {
     "data": {
      "application/vnd.plotly.v1+json": {
       "config": {
        "linkText": "Export to plot.ly",
        "plotlyServerURL": "https://plot.ly",
        "showLink": false
       },
       "data": [
        {
         "orientation": "h",
         "showlegend": false,
         "type": "bar",
         "x": [
          11,
          12,
          15,
          49,
          1128,
          1884,
          2680,
          2773,
          4060,
          135091
         ],
         "xaxis": "x",
         "y": [
          "Page: contains \"/google+redesign/bags\" All Users",
          "Page: contains \"/google+redesign/office\"",
          "Page: contains \"/google+redesign/electronics\"",
          "\"google + redesign/Accessories March 17\" All Users Similar Audiences",
          "AW - Accessories",
          "AW - Dynamic Search Ads Whole Site",
          "1000557 | GA | US | en | Hybrid | GDN Remarketing",
          "Data Share Promo",
          "1000557 | GA | US | en | Hybrid | GDN Text+Banner | AS",
          "(not set)"
         ],
         "yaxis": "y"
        },
        {
         "orientation": "h",
         "showlegend": false,
         "type": "bar",
         "x": [
          3624545.4545454546,
          0,
          0,
          0,
          2473661.3475177307,
          1658651.804670913,
          16332.089552238805,
          81813.91994230075,
          0,
          1440605.73983463
         ],
         "xaxis": "x2",
         "y": [
          "Page: contains \"/google+redesign/bags\" All Users",
          "Page: contains \"/google+redesign/office\"",
          "Page: contains \"/google+redesign/electronics\"",
          "\"google + redesign/Accessories March 17\" All Users Similar Audiences",
          "AW - Accessories",
          "AW - Dynamic Search Ads Whole Site",
          "1000557 | GA | US | en | Hybrid | GDN Remarketing",
          "Data Share Promo",
          "1000557 | GA | US | en | Hybrid | GDN Text+Banner | AS",
          "(not set)"
         ],
         "yaxis": "y2"
        },
        {
         "orientation": "h",
         "showlegend": false,
         "type": "bar",
         "x": [
          417,
          469,
          608,
          812,
          1031,
          2774,
          3242,
          15441,
          49420,
          69167
         ],
         "xaxis": "x3",
         "y": [
          "facebook.com",
          "sites.google.com",
          "dfa",
          "google.com",
          "m.facebook.com",
          "Partners",
          "analytics.google.com",
          "youtube.com",
          "(direct)",
          "google"
         ],
         "yaxis": "y3"
        },
        {
         "orientation": "h",
         "showlegend": false,
         "type": "bar",
         "x": [
          115083.93285371702,
          635714.2857142857,
          22112549.342105262,
          99064.039408867,
          48486.90591658584,
          81784.42682047584,
          0,
          711.7414675215335,
          2833848.8466208014,
          604635.8812728614
         ],
         "xaxis": "x4",
         "y": [
          "facebook.com",
          "sites.google.com",
          "dfa",
          "google.com",
          "m.facebook.com",
          "Partners",
          "analytics.google.com",
          "youtube.com",
          "(direct)",
          "google"
         ],
         "yaxis": "y4"
        },
        {
         "orientation": "h",
         "showlegend": false,
         "type": "bar",
         "x": [
          22,
          975,
          2774,
          10172,
          24775,
          49416,
          59621
         ],
         "xaxis": "x5",
         "y": [
          "(not set)",
          "cpm",
          "affiliate",
          "cpc",
          "referral",
          "(none)",
          "organic"
         ],
         "yaxis": "y5"
        },
        {
         "orientation": "h",
         "showlegend": false,
         "type": "bar",
         "x": [
          454090.9090909091,
          14981117.948717948,
          81784.42682047584,
          597308.2972866693,
          186898.8900100908,
          2834078.233770439,
          591068.0800389125
         ],
         "xaxis": "x6",
         "y": [
          "(not set)",
          "cpm",
          "affiliate",
          "cpc",
          "referral",
          "(none)",
          "organic"
         ],
         "yaxis": "y6"
        },
        {
         "orientation": "h",
         "showlegend": false,
         "type": "bar",
         "x": [
          152,
          159,
          295,
          390,
          465,
          512,
          1259,
          2716,
          3890,
          57388
         ],
         "xaxis": "x7",
         "y": [
          "google store",
          "1X4Me6ZKNV0zg-jV",
          "Google Merchandise",
          "google merchandise store",
          "1hZbAqLCbjwfgOH7",
          "(Remarketing/Content targeting)",
          "6qEhsCssdK0z36ri",
          "(automatic matching)",
          "(User vertical targeting)",
          "(not provided)"
         ],
         "yaxis": "y7"
        },
        {
         "orientation": "h",
         "showlegend": false,
         "type": "bar",
         "x": [
          0,
          1227169.8113207547,
          4452406.779661017,
          3615820.512820513,
          864795.6989247312,
          228242.1875,
          2007664.8133439238,
          16115.61119293078,
          0,
          611160.5213633513
         ],
         "xaxis": "x8",
         "y": [
          "google store",
          "1X4Me6ZKNV0zg-jV",
          "Google Merchandise",
          "google merchandise store",
          "1hZbAqLCbjwfgOH7",
          "(Remarketing/Content targeting)",
          "6qEhsCssdK0z36ri",
          "(automatic matching)",
          "(User vertical targeting)",
          "(not provided)"
         ],
         "yaxis": "y8"
        },
        {
         "orientation": "h",
         "showlegend": false,
         "type": "bar",
         "x": [
          393,
          421,
          464,
          486,
          618,
          736,
          805,
          3196,
          3266,
          12683
         ],
         "xaxis": "x9",
         "y": [
          "/yt/about/press/",
          "/yt/about/es-419/",
          "/offer/2145",
          "/yt/advertise/",
          "/yt/about/copyright/",
          "/yt/about/ru/",
          "/permissions/using-the-logo.html",
          "/analytics/web/",
          "/yt/about/",
          "/"
         ],
         "yaxis": "y9"
        },
        {
         "orientation": "h",
         "showlegend": false,
         "type": "bar",
         "x": [
          0,
          0,
          265301.724137931,
          0,
          0,
          0,
          99925.46583850932,
          0,
          0,
          6861701.49018371
         ],
         "xaxis": "x10",
         "y": [
          "/yt/about/press/",
          "/yt/about/es-419/",
          "/offer/2145",
          "/yt/advertise/",
          "/yt/about/copyright/",
          "/yt/about/ru/",
          "/permissions/using-the-logo.html",
          "/analytics/web/",
          "/yt/about/",
          "/"
         ],
         "yaxis": "y10"
        },
        {
         "orientation": "h",
         "showlegend": false,
         "type": "bar",
         "x": [
          34,
          37,
          44,
          52,
          54,
          84,
          207,
          238,
          1078,
          6740
         ],
         "xaxis": "x11",
         "y": [
          "{KeyWord:Google Merchandise}",
          "Full auto ad IMAGE ONLY",
          "{KeyWord:Google Brand Items}",
          "Placement Accessories 300 x 250",
          "Ad from 11/3/16",
          "Ad from 12/13/16",
          "Display Ad created 3/11/14",
          "Google Online Store",
          "Google Merchandise Collection",
          "Google Merchandise Store"
         ],
         "yaxis": "y11"
        },
        {
         "orientation": "h",
         "showlegend": false,
         "type": "bar",
         "x": [
          0,
          2080810.810810811,
          0,
          0,
          0,
          0,
          0,
          606890.756302521,
          2683664.1929499074,
          6494.06528189911
         ],
         "xaxis": "x12",
         "y": [
          "{KeyWord:Google Merchandise}",
          "Full auto ad IMAGE ONLY",
          "{KeyWord:Google Brand Items}",
          "Placement Accessories 300 x 250",
          "Ad from 11/3/16",
          "Ad from 12/13/16",
          "Display Ad created 3/11/14",
          "Google Online Store",
          "Google Merchandise Collection",
          "Google Merchandise Store"
         ],
         "yaxis": "y12"
        },
        {
         "orientation": "h",
         "showlegend": false,
         "type": "bar",
         "x": [
          4,
          5,
          49,
          10472
         ],
         "xaxis": "x13",
         "y": [
          "4",
          "3",
          "2",
          "1"
         ],
         "yaxis": "y13"
        },
        {
         "orientation": "h",
         "showlegend": false,
         "type": "bar",
         "x": [
          0,
          0,
          0,
          705282.6585179527
         ],
         "xaxis": "x14",
         "y": [
          "4",
          "3",
          "2",
          "1"
         ],
         "yaxis": "y14"
        },
        {
         "orientation": "h",
         "showlegend": false,
         "type": "bar",
         "x": [
          3721,
          6809
         ],
         "xaxis": "x15",
         "y": [
          "Top",
          "RHS"
         ],
         "yaxis": "y15"
        },
        {
         "orientation": "h",
         "showlegend": false,
         "type": "bar",
         "x": [
          1973112.0666487503,
          6428.256719048319
         ],
         "xaxis": "x16",
         "y": [
          "Top",
          "RHS"
         ],
         "yaxis": "y16"
        },
        {
         "orientation": "h",
         "showlegend": false,
         "type": "bar",
         "x": [
          5,
          6,
          6,
          6,
          6,
          7,
          7,
          8,
          10,
          19
         ],
         "xaxis": "x17",
         "y": [
          "CPSo2PeD3tYCFYk_GwodJrEEUg",
          "CKGykZuz49YCFQaVGwoddowFSw",
          "CPfR87bC0NYCFZW6wAodfesEXw",
          "CNGEpI-FsdYCFZaFswodY_wAjg",
          "CN3fusbjvtYCFQsmhgodIEQO-g",
          "CJLL9ajI0NYCFZKBaQodwegFmQ",
          "CI2Ap4L32tYCFY-1wAodeHEHPA",
          "COT1-vPT4tYCFZWNswodcwsHxg",
          "CP273vOzr9YCFQEHaQoduBgHSA",
          "Cj0KEQjwmIrJBRCRmJ_x7KDo-9oBEiQAuUPKMufMpuG3ZdwYO8GTsjiBFd5MPHStZa9y_9NCrI8X97oaAglc8P8HAQ"
         ],
         "yaxis": "y17"
        },
        {
         "orientation": "h",
         "showlegend": false,
         "type": "bar",
         "x": [
          0,
          0,
          0,
          0,
          0,
          0,
          0,
          0,
          0,
          0
         ],
         "xaxis": "x18",
         "y": [
          "CPSo2PeD3tYCFYk_GwodJrEEUg",
          "CKGykZuz49YCFQaVGwoddowFSw",
          "CPfR87bC0NYCFZW6wAodfesEXw",
          "CNGEpI-FsdYCFZaFswodY_wAjg",
          "CN3fusbjvtYCFQsmhgodIEQO-g",
          "CJLL9ajI0NYCFZKBaQodwegFmQ",
          "CI2Ap4L32tYCFY-1wAodeHEHPA",
          "COT1-vPT4tYCFZWNswodcwsHxg",
          "CP273vOzr9YCFQEHaQoduBgHSA",
          "Cj0KEQjwmIrJBRCRmJ_x7KDo-9oBEiQAuUPKMufMpuG3ZdwYO8GTsjiBFd5MPHStZa9y_9NCrI8X97oaAglc8P8HAQ"
         ],
         "yaxis": "y18"
        },
        {
         "orientation": "h",
         "showlegend": false,
         "type": "bar",
         "x": [
          3790,
          6740
         ],
         "xaxis": "x19",
         "y": [
          "Google Search",
          "Content"
         ],
         "yaxis": "y19"
        },
        {
         "orientation": "h",
         "showlegend": false,
         "type": "bar",
         "x": [
          1937189.9736147758,
          6494.06528189911
         ],
         "xaxis": "x20",
         "y": [
          "Google Search",
          "Content"
         ],
         "yaxis": "y20"
        },
        {
         "orientation": "h",
         "showlegend": false,
         "type": "bar",
         "x": [
          10530
         ],
         "xaxis": "x21",
         "y": [
          false
         ],
         "yaxis": "y21"
        },
        {
         "orientation": "h",
         "showlegend": false,
         "type": "bar",
         "x": [
          701397.910731244
         ],
         "xaxis": "x22",
         "y": [
          false
         ],
         "yaxis": "y22"
        },
        {
         "orientation": "h",
         "showlegend": false,
         "type": "bar",
         "x": [
          48610
         ],
         "xaxis": "x23",
         "y": [
          true
         ],
         "yaxis": "y23"
        },
        {
         "orientation": "h",
         "showlegend": false,
         "type": "bar",
         "x": [
          2970402.797778235
         ],
         "xaxis": "x24",
         "y": [
          true
         ],
         "yaxis": "y24"
        }
       ],
       "layout": {
        "annotations": [
         {
          "font": {
           "size": 16
          },
          "showarrow": false,
          "text": "trafficSource.campaign_COUNT",
          "x": 0.225,
          "xanchor": "center",
          "xref": "paper",
          "y": 1,
          "yanchor": "bottom",
          "yref": "paper"
         },
         {
          "font": {
           "size": 16
          },
          "showarrow": false,
          "text": "trafficSource.campaign_MEAN",
          "x": 0.775,
          "xanchor": "center",
          "xref": "paper",
          "y": 1,
          "yanchor": "bottom",
          "yref": "paper"
         },
         {
          "font": {
           "size": 16
          },
          "showarrow": false,
          "text": "trafficSource.source_COUNT",
          "x": 0.225,
          "xanchor": "center",
          "xref": "paper",
          "y": 0.9131944444444444,
          "yanchor": "bottom",
          "yref": "paper"
         },
         {
          "font": {
           "size": 16
          },
          "showarrow": false,
          "text": "trafficSource.source_MEAN",
          "x": 0.775,
          "xanchor": "center",
          "xref": "paper",
          "y": 0.9131944444444444,
          "yanchor": "bottom",
          "yref": "paper"
         },
         {
          "font": {
           "size": 16
          },
          "showarrow": false,
          "text": "trafficSource.medium_COUNT",
          "x": 0.225,
          "xanchor": "center",
          "xref": "paper",
          "y": 0.8263888888888888,
          "yanchor": "bottom",
          "yref": "paper"
         },
         {
          "font": {
           "size": 16
          },
          "showarrow": false,
          "text": "trafficSource.medium_MEAN",
          "x": 0.775,
          "xanchor": "center",
          "xref": "paper",
          "y": 0.8263888888888888,
          "yanchor": "bottom",
          "yref": "paper"
         },
         {
          "font": {
           "size": 16
          },
          "showarrow": false,
          "text": "trafficSource.keyword_COUNT",
          "x": 0.225,
          "xanchor": "center",
          "xref": "paper",
          "y": 0.7395833333333333,
          "yanchor": "bottom",
          "yref": "paper"
         },
         {
          "font": {
           "size": 16
          },
          "showarrow": false,
          "text": "trafficSource.keyword_MEAN",
          "x": 0.775,
          "xanchor": "center",
          "xref": "paper",
          "y": 0.7395833333333333,
          "yanchor": "bottom",
          "yref": "paper"
         },
         {
          "font": {
           "size": 16
          },
          "showarrow": false,
          "text": "trafficSource.referralPath_COUNT",
          "x": 0.225,
          "xanchor": "center",
          "xref": "paper",
          "y": 0.6527777777777777,
          "yanchor": "bottom",
          "yref": "paper"
         },
         {
          "font": {
           "size": 16
          },
          "showarrow": false,
          "text": "trafficSource.referralPath_MEAN",
          "x": 0.775,
          "xanchor": "center",
          "xref": "paper",
          "y": 0.6527777777777777,
          "yanchor": "bottom",
          "yref": "paper"
         },
         {
          "font": {
           "size": 16
          },
          "showarrow": false,
          "text": "trafficSource.adContent_COUNT",
          "x": 0.225,
          "xanchor": "center",
          "xref": "paper",
          "y": 0.5659722222222223,
          "yanchor": "bottom",
          "yref": "paper"
         },
         {
          "font": {
           "size": 16
          },
          "showarrow": false,
          "text": "trafficSource.adContent_MEAN",
          "x": 0.775,
          "xanchor": "center",
          "xref": "paper",
          "y": 0.5659722222222223,
          "yanchor": "bottom",
          "yref": "paper"
         },
         {
          "font": {
           "size": 16
          },
          "showarrow": false,
          "text": "trafficSource.adwordsClickInfo.page_COUNT",
          "x": 0.225,
          "xanchor": "center",
          "xref": "paper",
          "y": 0.4791666666666667,
          "yanchor": "bottom",
          "yref": "paper"
         },
         {
          "font": {
           "size": 16
          },
          "showarrow": false,
          "text": "trafficSource.adwordsClickInfo.page_MEAN",
          "x": 0.775,
          "xanchor": "center",
          "xref": "paper",
          "y": 0.4791666666666667,
          "yanchor": "bottom",
          "yref": "paper"
         },
         {
          "font": {
           "size": 16
          },
          "showarrow": false,
          "text": "trafficSource.adwordsClickInfo.slot_COUNT",
          "x": 0.225,
          "xanchor": "center",
          "xref": "paper",
          "y": 0.3923611111111111,
          "yanchor": "bottom",
          "yref": "paper"
         },
         {
          "font": {
           "size": 16
          },
          "showarrow": false,
          "text": "trafficSource.adwordsClickInfo.slot_MEAN",
          "x": 0.775,
          "xanchor": "center",
          "xref": "paper",
          "y": 0.3923611111111111,
          "yanchor": "bottom",
          "yref": "paper"
         },
         {
          "font": {
           "size": 16
          },
          "showarrow": false,
          "text": "trafficSource.adwordsClickInfo.gclId_COUNT",
          "x": 0.225,
          "xanchor": "center",
          "xref": "paper",
          "y": 0.3055555555555556,
          "yanchor": "bottom",
          "yref": "paper"
         },
         {
          "font": {
           "size": 16
          },
          "showarrow": false,
          "text": "trafficSource.adwordsClickInfo.gclId_MEAN",
          "x": 0.775,
          "xanchor": "center",
          "xref": "paper",
          "y": 0.3055555555555556,
          "yanchor": "bottom",
          "yref": "paper"
         },
         {
          "font": {
           "size": 16
          },
          "showarrow": false,
          "text": "trafficSource.adwordsClickInfo.adNetworkType_COUNT",
          "x": 0.225,
          "xanchor": "center",
          "xref": "paper",
          "y": 0.21875,
          "yanchor": "bottom",
          "yref": "paper"
         },
         {
          "font": {
           "size": 16
          },
          "showarrow": false,
          "text": "trafficSource.adwordsClickInfo.adNetworkType_MEAN",
          "x": 0.775,
          "xanchor": "center",
          "xref": "paper",
          "y": 0.21875,
          "yanchor": "bottom",
          "yref": "paper"
         },
         {
          "font": {
           "size": 16
          },
          "showarrow": false,
          "text": "trafficSource.adwordsClickInfo.isVideoAd_COUNT",
          "x": 0.225,
          "xanchor": "center",
          "xref": "paper",
          "y": 0.13194444444444445,
          "yanchor": "bottom",
          "yref": "paper"
         },
         {
          "font": {
           "size": 16
          },
          "showarrow": false,
          "text": "trafficSource.adwordsClickInfo.isVideoAd_MEAN",
          "x": 0.775,
          "xanchor": "center",
          "xref": "paper",
          "y": 0.13194444444444445,
          "yanchor": "bottom",
          "yref": "paper"
         },
         {
          "font": {
           "size": 16
          },
          "showarrow": false,
          "text": "trafficSource.isTrueDirect_COUNT",
          "x": 0.225,
          "xanchor": "center",
          "xref": "paper",
          "y": 0.045138888888888895,
          "yanchor": "bottom",
          "yref": "paper"
         },
         {
          "font": {
           "size": 16
          },
          "showarrow": false,
          "text": "trafficSource.isTrueDirect_MEAN",
          "x": 0.775,
          "xanchor": "center",
          "xref": "paper",
          "y": 0.045138888888888895,
          "yanchor": "bottom",
          "yref": "paper"
         }
        ],
        "height": 3000,
        "paper_bgcolor": "rgb(233,233,233)",
        "template": {
         "data": {
          "bar": [
           {
            "error_x": {
             "color": "#2a3f5f"
            },
            "error_y": {
             "color": "#2a3f5f"
            },
            "marker": {
             "line": {
              "color": "#E5ECF6",
              "width": 0.5
             }
            },
            "type": "bar"
           }
          ],
          "barpolar": [
           {
            "marker": {
             "line": {
              "color": "#E5ECF6",
              "width": 0.5
             }
            },
            "type": "barpolar"
           }
          ],
          "carpet": [
           {
            "aaxis": {
             "endlinecolor": "#2a3f5f",
             "gridcolor": "white",
             "linecolor": "white",
             "minorgridcolor": "white",
             "startlinecolor": "#2a3f5f"
            },
            "baxis": {
             "endlinecolor": "#2a3f5f",
             "gridcolor": "white",
             "linecolor": "white",
             "minorgridcolor": "white",
             "startlinecolor": "#2a3f5f"
            },
            "type": "carpet"
           }
          ],
          "choropleth": [
           {
            "colorbar": {
             "outlinewidth": 0,
             "ticks": ""
            },
            "type": "choropleth"
           }
          ],
          "contour": [
           {
            "colorbar": {
             "outlinewidth": 0,
             "ticks": ""
            },
            "colorscale": [
             [
              0,
              "#0d0887"
             ],
             [
              0.1111111111111111,
              "#46039f"
             ],
             [
              0.2222222222222222,
              "#7201a8"
             ],
             [
              0.3333333333333333,
              "#9c179e"
             ],
             [
              0.4444444444444444,
              "#bd3786"
             ],
             [
              0.5555555555555556,
              "#d8576b"
             ],
             [
              0.6666666666666666,
              "#ed7953"
             ],
             [
              0.7777777777777778,
              "#fb9f3a"
             ],
             [
              0.8888888888888888,
              "#fdca26"
             ],
             [
              1,
              "#f0f921"
             ]
            ],
            "type": "contour"
           }
          ],
          "contourcarpet": [
           {
            "colorbar": {
             "outlinewidth": 0,
             "ticks": ""
            },
            "type": "contourcarpet"
           }
          ],
          "heatmap": [
           {
            "colorbar": {
             "outlinewidth": 0,
             "ticks": ""
            },
            "colorscale": [
             [
              0,
              "#0d0887"
             ],
             [
              0.1111111111111111,
              "#46039f"
             ],
             [
              0.2222222222222222,
              "#7201a8"
             ],
             [
              0.3333333333333333,
              "#9c179e"
             ],
             [
              0.4444444444444444,
              "#bd3786"
             ],
             [
              0.5555555555555556,
              "#d8576b"
             ],
             [
              0.6666666666666666,
              "#ed7953"
             ],
             [
              0.7777777777777778,
              "#fb9f3a"
             ],
             [
              0.8888888888888888,
              "#fdca26"
             ],
             [
              1,
              "#f0f921"
             ]
            ],
            "type": "heatmap"
           }
          ],
          "heatmapgl": [
           {
            "colorbar": {
             "outlinewidth": 0,
             "ticks": ""
            },
            "colorscale": [
             [
              0,
              "#0d0887"
             ],
             [
              0.1111111111111111,
              "#46039f"
             ],
             [
              0.2222222222222222,
              "#7201a8"
             ],
             [
              0.3333333333333333,
              "#9c179e"
             ],
             [
              0.4444444444444444,
              "#bd3786"
             ],
             [
              0.5555555555555556,
              "#d8576b"
             ],
             [
              0.6666666666666666,
              "#ed7953"
             ],
             [
              0.7777777777777778,
              "#fb9f3a"
             ],
             [
              0.8888888888888888,
              "#fdca26"
             ],
             [
              1,
              "#f0f921"
             ]
            ],
            "type": "heatmapgl"
           }
          ],
          "histogram": [
           {
            "marker": {
             "colorbar": {
              "outlinewidth": 0,
              "ticks": ""
             }
            },
            "type": "histogram"
           }
          ],
          "histogram2d": [
           {
            "colorbar": {
             "outlinewidth": 0,
             "ticks": ""
            },
            "colorscale": [
             [
              0,
              "#0d0887"
             ],
             [
              0.1111111111111111,
              "#46039f"
             ],
             [
              0.2222222222222222,
              "#7201a8"
             ],
             [
              0.3333333333333333,
              "#9c179e"
             ],
             [
              0.4444444444444444,
              "#bd3786"
             ],
             [
              0.5555555555555556,
              "#d8576b"
             ],
             [
              0.6666666666666666,
              "#ed7953"
             ],
             [
              0.7777777777777778,
              "#fb9f3a"
             ],
             [
              0.8888888888888888,
              "#fdca26"
             ],
             [
              1,
              "#f0f921"
             ]
            ],
            "type": "histogram2d"
           }
          ],
          "histogram2dcontour": [
           {
            "colorbar": {
             "outlinewidth": 0,
             "ticks": ""
            },
            "colorscale": [
             [
              0,
              "#0d0887"
             ],
             [
              0.1111111111111111,
              "#46039f"
             ],
             [
              0.2222222222222222,
              "#7201a8"
             ],
             [
              0.3333333333333333,
              "#9c179e"
             ],
             [
              0.4444444444444444,
              "#bd3786"
             ],
             [
              0.5555555555555556,
              "#d8576b"
             ],
             [
              0.6666666666666666,
              "#ed7953"
             ],
             [
              0.7777777777777778,
              "#fb9f3a"
             ],
             [
              0.8888888888888888,
              "#fdca26"
             ],
             [
              1,
              "#f0f921"
             ]
            ],
            "type": "histogram2dcontour"
           }
          ],
          "mesh3d": [
           {
            "colorbar": {
             "outlinewidth": 0,
             "ticks": ""
            },
            "type": "mesh3d"
           }
          ],
          "parcoords": [
           {
            "line": {
             "colorbar": {
              "outlinewidth": 0,
              "ticks": ""
             }
            },
            "type": "parcoords"
           }
          ],
          "pie": [
           {
            "automargin": true,
            "type": "pie"
           }
          ],
          "scatter": [
           {
            "marker": {
             "colorbar": {
              "outlinewidth": 0,
              "ticks": ""
             }
            },
            "type": "scatter"
           }
          ],
          "scatter3d": [
           {
            "line": {
             "colorbar": {
              "outlinewidth": 0,
              "ticks": ""
             }
            },
            "marker": {
             "colorbar": {
              "outlinewidth": 0,
              "ticks": ""
             }
            },
            "type": "scatter3d"
           }
          ],
          "scattercarpet": [
           {
            "marker": {
             "colorbar": {
              "outlinewidth": 0,
              "ticks": ""
             }
            },
            "type": "scattercarpet"
           }
          ],
          "scattergeo": [
           {
            "marker": {
             "colorbar": {
              "outlinewidth": 0,
              "ticks": ""
             }
            },
            "type": "scattergeo"
           }
          ],
          "scattergl": [
           {
            "marker": {
             "colorbar": {
              "outlinewidth": 0,
              "ticks": ""
             }
            },
            "type": "scattergl"
           }
          ],
          "scattermapbox": [
           {
            "marker": {
             "colorbar": {
              "outlinewidth": 0,
              "ticks": ""
             }
            },
            "type": "scattermapbox"
           }
          ],
          "scatterpolar": [
           {
            "marker": {
             "colorbar": {
              "outlinewidth": 0,
              "ticks": ""
             }
            },
            "type": "scatterpolar"
           }
          ],
          "scatterpolargl": [
           {
            "marker": {
             "colorbar": {
              "outlinewidth": 0,
              "ticks": ""
             }
            },
            "type": "scatterpolargl"
           }
          ],
          "scatterternary": [
           {
            "marker": {
             "colorbar": {
              "outlinewidth": 0,
              "ticks": ""
             }
            },
            "type": "scatterternary"
           }
          ],
          "surface": [
           {
            "colorbar": {
             "outlinewidth": 0,
             "ticks": ""
            },
            "colorscale": [
             [
              0,
              "#0d0887"
             ],
             [
              0.1111111111111111,
              "#46039f"
             ],
             [
              0.2222222222222222,
              "#7201a8"
             ],
             [
              0.3333333333333333,
              "#9c179e"
             ],
             [
              0.4444444444444444,
              "#bd3786"
             ],
             [
              0.5555555555555556,
              "#d8576b"
             ],
             [
              0.6666666666666666,
              "#ed7953"
             ],
             [
              0.7777777777777778,
              "#fb9f3a"
             ],
             [
              0.8888888888888888,
              "#fdca26"
             ],
             [
              1,
              "#f0f921"
             ]
            ],
            "type": "surface"
           }
          ],
          "table": [
           {
            "cells": {
             "fill": {
              "color": "#EBF0F8"
             },
             "line": {
              "color": "white"
             }
            },
            "header": {
             "fill": {
              "color": "#C8D4E3"
             },
             "line": {
              "color": "white"
             }
            },
            "type": "table"
           }
          ]
         },
         "layout": {
          "annotationdefaults": {
           "arrowcolor": "#2a3f5f",
           "arrowhead": 0,
           "arrowwidth": 1
          },
          "coloraxis": {
           "colorbar": {
            "outlinewidth": 0,
            "ticks": ""
           }
          },
          "colorscale": {
           "diverging": [
            [
             0,
             "#8e0152"
            ],
            [
             0.1,
             "#c51b7d"
            ],
            [
             0.2,
             "#de77ae"
            ],
            [
             0.3,
             "#f1b6da"
            ],
            [
             0.4,
             "#fde0ef"
            ],
            [
             0.5,
             "#f7f7f7"
            ],
            [
             0.6,
             "#e6f5d0"
            ],
            [
             0.7,
             "#b8e186"
            ],
            [
             0.8,
             "#7fbc41"
            ],
            [
             0.9,
             "#4d9221"
            ],
            [
             1,
             "#276419"
            ]
           ],
           "sequential": [
            [
             0,
             "#0d0887"
            ],
            [
             0.1111111111111111,
             "#46039f"
            ],
            [
             0.2222222222222222,
             "#7201a8"
            ],
            [
             0.3333333333333333,
             "#9c179e"
            ],
            [
             0.4444444444444444,
             "#bd3786"
            ],
            [
             0.5555555555555556,
             "#d8576b"
            ],
            [
             0.6666666666666666,
             "#ed7953"
            ],
            [
             0.7777777777777778,
             "#fb9f3a"
            ],
            [
             0.8888888888888888,
             "#fdca26"
            ],
            [
             1,
             "#f0f921"
            ]
           ],
           "sequentialminus": [
            [
             0,
             "#0d0887"
            ],
            [
             0.1111111111111111,
             "#46039f"
            ],
            [
             0.2222222222222222,
             "#7201a8"
            ],
            [
             0.3333333333333333,
             "#9c179e"
            ],
            [
             0.4444444444444444,
             "#bd3786"
            ],
            [
             0.5555555555555556,
             "#d8576b"
            ],
            [
             0.6666666666666666,
             "#ed7953"
            ],
            [
             0.7777777777777778,
             "#fb9f3a"
            ],
            [
             0.8888888888888888,
             "#fdca26"
            ],
            [
             1,
             "#f0f921"
            ]
           ]
          },
          "colorway": [
           "#636efa",
           "#EF553B",
           "#00cc96",
           "#ab63fa",
           "#FFA15A",
           "#19d3f3",
           "#FF6692",
           "#B6E880",
           "#FF97FF",
           "#FECB52"
          ],
          "font": {
           "color": "#2a3f5f"
          },
          "geo": {
           "bgcolor": "white",
           "lakecolor": "white",
           "landcolor": "#E5ECF6",
           "showlakes": true,
           "showland": true,
           "subunitcolor": "white"
          },
          "hoverlabel": {
           "align": "left"
          },
          "hovermode": "closest",
          "mapbox": {
           "style": "light"
          },
          "paper_bgcolor": "white",
          "plot_bgcolor": "#E5ECF6",
          "polar": {
           "angularaxis": {
            "gridcolor": "white",
            "linecolor": "white",
            "ticks": ""
           },
           "bgcolor": "#E5ECF6",
           "radialaxis": {
            "gridcolor": "white",
            "linecolor": "white",
            "ticks": ""
           }
          },
          "scene": {
           "xaxis": {
            "backgroundcolor": "#E5ECF6",
            "gridcolor": "white",
            "gridwidth": 2,
            "linecolor": "white",
            "showbackground": true,
            "ticks": "",
            "zerolinecolor": "white"
           },
           "yaxis": {
            "backgroundcolor": "#E5ECF6",
            "gridcolor": "white",
            "gridwidth": 2,
            "linecolor": "white",
            "showbackground": true,
            "ticks": "",
            "zerolinecolor": "white"
           },
           "zaxis": {
            "backgroundcolor": "#E5ECF6",
            "gridcolor": "white",
            "gridwidth": 2,
            "linecolor": "white",
            "showbackground": true,
            "ticks": "",
            "zerolinecolor": "white"
           }
          },
          "shapedefaults": {
           "line": {
            "color": "#2a3f5f"
           }
          },
          "ternary": {
           "aaxis": {
            "gridcolor": "white",
            "linecolor": "white",
            "ticks": ""
           },
           "baxis": {
            "gridcolor": "white",
            "linecolor": "white",
            "ticks": ""
           },
           "bgcolor": "#E5ECF6",
           "caxis": {
            "gridcolor": "white",
            "linecolor": "white",
            "ticks": ""
           }
          },
          "title": {
           "x": 0.05
          },
          "xaxis": {
           "automargin": true,
           "gridcolor": "white",
           "linecolor": "white",
           "ticks": "",
           "title": {
            "standoff": 15
           },
           "zerolinecolor": "white",
           "zerolinewidth": 2
          },
          "yaxis": {
           "automargin": true,
           "gridcolor": "white",
           "linecolor": "white",
           "ticks": "",
           "title": {
            "standoff": 15
           },
           "zerolinecolor": "white",
           "zerolinewidth": 2
          }
         }
        },
        "title": {
         "text": "Device Plots"
        },
        "width": 1000,
        "xaxis": {
         "anchor": "y",
         "domain": [
          0,
          0.45
         ]
        },
        "xaxis10": {
         "anchor": "y10",
         "domain": [
          0.55,
          1
         ]
        },
        "xaxis11": {
         "anchor": "y11",
         "domain": [
          0,
          0.45
         ]
        },
        "xaxis12": {
         "anchor": "y12",
         "domain": [
          0.55,
          1
         ]
        },
        "xaxis13": {
         "anchor": "y13",
         "domain": [
          0,
          0.45
         ]
        },
        "xaxis14": {
         "anchor": "y14",
         "domain": [
          0.55,
          1
         ]
        },
        "xaxis15": {
         "anchor": "y15",
         "domain": [
          0,
          0.45
         ]
        },
        "xaxis16": {
         "anchor": "y16",
         "domain": [
          0.55,
          1
         ]
        },
        "xaxis17": {
         "anchor": "y17",
         "domain": [
          0,
          0.45
         ]
        },
        "xaxis18": {
         "anchor": "y18",
         "domain": [
          0.55,
          1
         ]
        },
        "xaxis19": {
         "anchor": "y19",
         "domain": [
          0,
          0.45
         ]
        },
        "xaxis2": {
         "anchor": "y2",
         "domain": [
          0.55,
          1
         ]
        },
        "xaxis20": {
         "anchor": "y20",
         "domain": [
          0.55,
          1
         ]
        },
        "xaxis21": {
         "anchor": "y21",
         "domain": [
          0,
          0.45
         ]
        },
        "xaxis22": {
         "anchor": "y22",
         "domain": [
          0.55,
          1
         ]
        },
        "xaxis23": {
         "anchor": "y23",
         "domain": [
          0,
          0.45
         ]
        },
        "xaxis24": {
         "anchor": "y24",
         "domain": [
          0.55,
          1
         ]
        },
        "xaxis3": {
         "anchor": "y3",
         "domain": [
          0,
          0.45
         ]
        },
        "xaxis4": {
         "anchor": "y4",
         "domain": [
          0.55,
          1
         ]
        },
        "xaxis5": {
         "anchor": "y5",
         "domain": [
          0,
          0.45
         ]
        },
        "xaxis6": {
         "anchor": "y6",
         "domain": [
          0.55,
          1
         ]
        },
        "xaxis7": {
         "anchor": "y7",
         "domain": [
          0,
          0.45
         ]
        },
        "xaxis8": {
         "anchor": "y8",
         "domain": [
          0.55,
          1
         ]
        },
        "xaxis9": {
         "anchor": "y9",
         "domain": [
          0,
          0.45
         ]
        },
        "yaxis": {
         "anchor": "x",
         "domain": [
          0.9548611111111112,
          1
         ]
        },
        "yaxis10": {
         "anchor": "x10",
         "domain": [
          0.6076388888888888,
          0.6527777777777777
         ]
        },
        "yaxis11": {
         "anchor": "x11",
         "domain": [
          0.5208333333333334,
          0.5659722222222223
         ]
        },
        "yaxis12": {
         "anchor": "x12",
         "domain": [
          0.5208333333333334,
          0.5659722222222223
         ]
        },
        "yaxis13": {
         "anchor": "x13",
         "domain": [
          0.4340277777777778,
          0.4791666666666667
         ]
        },
        "yaxis14": {
         "anchor": "x14",
         "domain": [
          0.4340277777777778,
          0.4791666666666667
         ]
        },
        "yaxis15": {
         "anchor": "x15",
         "domain": [
          0.3472222222222222,
          0.3923611111111111
         ]
        },
        "yaxis16": {
         "anchor": "x16",
         "domain": [
          0.3472222222222222,
          0.3923611111111111
         ]
        },
        "yaxis17": {
         "anchor": "x17",
         "domain": [
          0.2604166666666667,
          0.3055555555555556
         ]
        },
        "yaxis18": {
         "anchor": "x18",
         "domain": [
          0.2604166666666667,
          0.3055555555555556
         ]
        },
        "yaxis19": {
         "anchor": "x19",
         "domain": [
          0.1736111111111111,
          0.21875
         ]
        },
        "yaxis2": {
         "anchor": "x2",
         "domain": [
          0.9548611111111112,
          1
         ]
        },
        "yaxis20": {
         "anchor": "x20",
         "domain": [
          0.1736111111111111,
          0.21875
         ]
        },
        "yaxis21": {
         "anchor": "x21",
         "domain": [
          0.08680555555555555,
          0.13194444444444445
         ]
        },
        "yaxis22": {
         "anchor": "x22",
         "domain": [
          0.08680555555555555,
          0.13194444444444445
         ]
        },
        "yaxis23": {
         "anchor": "x23",
         "domain": [
          0,
          0.045138888888888895
         ]
        },
        "yaxis24": {
         "anchor": "x24",
         "domain": [
          0,
          0.045138888888888895
         ]
        },
        "yaxis3": {
         "anchor": "x3",
         "domain": [
          0.8680555555555556,
          0.9131944444444444
         ]
        },
        "yaxis4": {
         "anchor": "x4",
         "domain": [
          0.8680555555555556,
          0.9131944444444444
         ]
        },
        "yaxis5": {
         "anchor": "x5",
         "domain": [
          0.78125,
          0.8263888888888888
         ]
        },
        "yaxis6": {
         "anchor": "x6",
         "domain": [
          0.78125,
          0.8263888888888888
         ]
        },
        "yaxis7": {
         "anchor": "x7",
         "domain": [
          0.6944444444444444,
          0.7395833333333333
         ]
        },
        "yaxis8": {
         "anchor": "x8",
         "domain": [
          0.6944444444444444,
          0.7395833333333333
         ]
        },
        "yaxis9": {
         "anchor": "x9",
         "domain": [
          0.6076388888888888,
          0.6527777777777777
         ]
        }
       }
      },
      "text/html": [
       "<div>\n",
       "        \n",
       "        \n",
       "            <div id=\"fc7ad8e1-00ba-486e-ab5f-e558740eac36\" class=\"plotly-graph-div\" style=\"height:3000px; width:1000px;\"></div>\n",
       "            <script type=\"text/javascript\">\n",
       "                require([\"plotly\"], function(Plotly) {\n",
       "                    window.PLOTLYENV=window.PLOTLYENV || {};\n",
       "                    \n",
       "                if (document.getElementById(\"fc7ad8e1-00ba-486e-ab5f-e558740eac36\")) {\n",
       "                    Plotly.newPlot(\n",
       "                        'fc7ad8e1-00ba-486e-ab5f-e558740eac36',\n",
       "                        [{\"orientation\": \"h\", \"showlegend\": false, \"type\": \"bar\", \"x\": [11, 12, 15, 49, 1128, 1884, 2680, 2773, 4060, 135091], \"xaxis\": \"x\", \"y\": [\"Page: contains \\\"/google+redesign/bags\\\" All Users\", \"Page: contains \\\"/google+redesign/office\\\"\", \"Page: contains \\\"/google+redesign/electronics\\\"\", \"\\\"google + redesign/Accessories March 17\\\" All Users Similar Audiences\", \"AW - Accessories\", \"AW - Dynamic Search Ads Whole Site\", \"1000557 | GA | US | en | Hybrid | GDN Remarketing\", \"Data Share Promo\", \"1000557 | GA | US | en | Hybrid | GDN Text+Banner | AS\", \"(not set)\"], \"yaxis\": \"y\"}, {\"orientation\": \"h\", \"showlegend\": false, \"type\": \"bar\", \"x\": [3624545.4545454546, 0.0, 0.0, 0.0, 2473661.3475177307, 1658651.804670913, 16332.089552238805, 81813.91994230075, 0.0, 1440605.73983463], \"xaxis\": \"x2\", \"y\": [\"Page: contains \\\"/google+redesign/bags\\\" All Users\", \"Page: contains \\\"/google+redesign/office\\\"\", \"Page: contains \\\"/google+redesign/electronics\\\"\", \"\\\"google + redesign/Accessories March 17\\\" All Users Similar Audiences\", \"AW - Accessories\", \"AW - Dynamic Search Ads Whole Site\", \"1000557 | GA | US | en | Hybrid | GDN Remarketing\", \"Data Share Promo\", \"1000557 | GA | US | en | Hybrid | GDN Text+Banner | AS\", \"(not set)\"], \"yaxis\": \"y2\"}, {\"orientation\": \"h\", \"showlegend\": false, \"type\": \"bar\", \"x\": [417, 469, 608, 812, 1031, 2774, 3242, 15441, 49420, 69167], \"xaxis\": \"x3\", \"y\": [\"facebook.com\", \"sites.google.com\", \"dfa\", \"google.com\", \"m.facebook.com\", \"Partners\", \"analytics.google.com\", \"youtube.com\", \"(direct)\", \"google\"], \"yaxis\": \"y3\"}, {\"orientation\": \"h\", \"showlegend\": false, \"type\": \"bar\", \"x\": [115083.93285371702, 635714.2857142857, 22112549.342105262, 99064.039408867, 48486.90591658584, 81784.42682047584, 0.0, 711.7414675215335, 2833848.8466208014, 604635.8812728614], \"xaxis\": \"x4\", \"y\": [\"facebook.com\", \"sites.google.com\", \"dfa\", \"google.com\", \"m.facebook.com\", \"Partners\", \"analytics.google.com\", \"youtube.com\", \"(direct)\", \"google\"], \"yaxis\": \"y4\"}, {\"orientation\": \"h\", \"showlegend\": false, \"type\": \"bar\", \"x\": [22, 975, 2774, 10172, 24775, 49416, 59621], \"xaxis\": \"x5\", \"y\": [\"(not set)\", \"cpm\", \"affiliate\", \"cpc\", \"referral\", \"(none)\", \"organic\"], \"yaxis\": \"y5\"}, {\"orientation\": \"h\", \"showlegend\": false, \"type\": \"bar\", \"x\": [454090.9090909091, 14981117.948717948, 81784.42682047584, 597308.2972866693, 186898.8900100908, 2834078.233770439, 591068.0800389125], \"xaxis\": \"x6\", \"y\": [\"(not set)\", \"cpm\", \"affiliate\", \"cpc\", \"referral\", \"(none)\", \"organic\"], \"yaxis\": \"y6\"}, {\"orientation\": \"h\", \"showlegend\": false, \"type\": \"bar\", \"x\": [152, 159, 295, 390, 465, 512, 1259, 2716, 3890, 57388], \"xaxis\": \"x7\", \"y\": [\"google store\", \"1X4Me6ZKNV0zg-jV\", \"Google Merchandise\", \"google merchandise store\", \"1hZbAqLCbjwfgOH7\", \"(Remarketing/Content targeting)\", \"6qEhsCssdK0z36ri\", \"(automatic matching)\", \"(User vertical targeting)\", \"(not provided)\"], \"yaxis\": \"y7\"}, {\"orientation\": \"h\", \"showlegend\": false, \"type\": \"bar\", \"x\": [0.0, 1227169.8113207547, 4452406.779661017, 3615820.512820513, 864795.6989247312, 228242.1875, 2007664.8133439238, 16115.61119293078, 0.0, 611160.5213633513], \"xaxis\": \"x8\", \"y\": [\"google store\", \"1X4Me6ZKNV0zg-jV\", \"Google Merchandise\", \"google merchandise store\", \"1hZbAqLCbjwfgOH7\", \"(Remarketing/Content targeting)\", \"6qEhsCssdK0z36ri\", \"(automatic matching)\", \"(User vertical targeting)\", \"(not provided)\"], \"yaxis\": \"y8\"}, {\"orientation\": \"h\", \"showlegend\": false, \"type\": \"bar\", \"x\": [393, 421, 464, 486, 618, 736, 805, 3196, 3266, 12683], \"xaxis\": \"x9\", \"y\": [\"/yt/about/press/\", \"/yt/about/es-419/\", \"/offer/2145\", \"/yt/advertise/\", \"/yt/about/copyright/\", \"/yt/about/ru/\", \"/permissions/using-the-logo.html\", \"/analytics/web/\", \"/yt/about/\", \"/\"], \"yaxis\": \"y9\"}, {\"orientation\": \"h\", \"showlegend\": false, \"type\": \"bar\", \"x\": [0.0, 0.0, 265301.724137931, 0.0, 0.0, 0.0, 99925.46583850932, 0.0, 0.0, 6861701.49018371], \"xaxis\": \"x10\", \"y\": [\"/yt/about/press/\", \"/yt/about/es-419/\", \"/offer/2145\", \"/yt/advertise/\", \"/yt/about/copyright/\", \"/yt/about/ru/\", \"/permissions/using-the-logo.html\", \"/analytics/web/\", \"/yt/about/\", \"/\"], \"yaxis\": \"y10\"}, {\"orientation\": \"h\", \"showlegend\": false, \"type\": \"bar\", \"x\": [34, 37, 44, 52, 54, 84, 207, 238, 1078, 6740], \"xaxis\": \"x11\", \"y\": [\"{KeyWord:Google Merchandise}\", \"Full auto ad IMAGE ONLY\", \"{KeyWord:Google Brand Items}\", \"Placement Accessories 300 x 250\", \"Ad from 11/3/16\", \"Ad from 12/13/16\", \"Display Ad created 3/11/14\", \"Google Online Store\", \"Google Merchandise Collection\", \"Google Merchandise Store\"], \"yaxis\": \"y11\"}, {\"orientation\": \"h\", \"showlegend\": false, \"type\": \"bar\", \"x\": [0.0, 2080810.810810811, 0.0, 0.0, 0.0, 0.0, 0.0, 606890.756302521, 2683664.1929499074, 6494.06528189911], \"xaxis\": \"x12\", \"y\": [\"{KeyWord:Google Merchandise}\", \"Full auto ad IMAGE ONLY\", \"{KeyWord:Google Brand Items}\", \"Placement Accessories 300 x 250\", \"Ad from 11/3/16\", \"Ad from 12/13/16\", \"Display Ad created 3/11/14\", \"Google Online Store\", \"Google Merchandise Collection\", \"Google Merchandise Store\"], \"yaxis\": \"y12\"}, {\"orientation\": \"h\", \"showlegend\": false, \"type\": \"bar\", \"x\": [4, 5, 49, 10472], \"xaxis\": \"x13\", \"y\": [\"4\", \"3\", \"2\", \"1\"], \"yaxis\": \"y13\"}, {\"orientation\": \"h\", \"showlegend\": false, \"type\": \"bar\", \"x\": [0.0, 0.0, 0.0, 705282.6585179527], \"xaxis\": \"x14\", \"y\": [\"4\", \"3\", \"2\", \"1\"], \"yaxis\": \"y14\"}, {\"orientation\": \"h\", \"showlegend\": false, \"type\": \"bar\", \"x\": [3721, 6809], \"xaxis\": \"x15\", \"y\": [\"Top\", \"RHS\"], \"yaxis\": \"y15\"}, {\"orientation\": \"h\", \"showlegend\": false, \"type\": \"bar\", \"x\": [1973112.0666487503, 6428.256719048319], \"xaxis\": \"x16\", \"y\": [\"Top\", \"RHS\"], \"yaxis\": \"y16\"}, {\"orientation\": \"h\", \"showlegend\": false, \"type\": \"bar\", \"x\": [5, 6, 6, 6, 6, 7, 7, 8, 10, 19], \"xaxis\": \"x17\", \"y\": [\"CPSo2PeD3tYCFYk_GwodJrEEUg\", \"CKGykZuz49YCFQaVGwoddowFSw\", \"CPfR87bC0NYCFZW6wAodfesEXw\", \"CNGEpI-FsdYCFZaFswodY_wAjg\", \"CN3fusbjvtYCFQsmhgodIEQO-g\", \"CJLL9ajI0NYCFZKBaQodwegFmQ\", \"CI2Ap4L32tYCFY-1wAodeHEHPA\", \"COT1-vPT4tYCFZWNswodcwsHxg\", \"CP273vOzr9YCFQEHaQoduBgHSA\", \"Cj0KEQjwmIrJBRCRmJ_x7KDo-9oBEiQAuUPKMufMpuG3ZdwYO8GTsjiBFd5MPHStZa9y_9NCrI8X97oaAglc8P8HAQ\"], \"yaxis\": \"y17\"}, {\"orientation\": \"h\", \"showlegend\": false, \"type\": \"bar\", \"x\": [0.0, 0.0, 0.0, 0.0, 0.0, 0.0, 0.0, 0.0, 0.0, 0.0], \"xaxis\": \"x18\", \"y\": [\"CPSo2PeD3tYCFYk_GwodJrEEUg\", \"CKGykZuz49YCFQaVGwoddowFSw\", \"CPfR87bC0NYCFZW6wAodfesEXw\", \"CNGEpI-FsdYCFZaFswodY_wAjg\", \"CN3fusbjvtYCFQsmhgodIEQO-g\", \"CJLL9ajI0NYCFZKBaQodwegFmQ\", \"CI2Ap4L32tYCFY-1wAodeHEHPA\", \"COT1-vPT4tYCFZWNswodcwsHxg\", \"CP273vOzr9YCFQEHaQoduBgHSA\", \"Cj0KEQjwmIrJBRCRmJ_x7KDo-9oBEiQAuUPKMufMpuG3ZdwYO8GTsjiBFd5MPHStZa9y_9NCrI8X97oaAglc8P8HAQ\"], \"yaxis\": \"y18\"}, {\"orientation\": \"h\", \"showlegend\": false, \"type\": \"bar\", \"x\": [3790, 6740], \"xaxis\": \"x19\", \"y\": [\"Google Search\", \"Content\"], \"yaxis\": \"y19\"}, {\"orientation\": \"h\", \"showlegend\": false, \"type\": \"bar\", \"x\": [1937189.9736147758, 6494.06528189911], \"xaxis\": \"x20\", \"y\": [\"Google Search\", \"Content\"], \"yaxis\": \"y20\"}, {\"orientation\": \"h\", \"showlegend\": false, \"type\": \"bar\", \"x\": [10530], \"xaxis\": \"x21\", \"y\": [false], \"yaxis\": \"y21\"}, {\"orientation\": \"h\", \"showlegend\": false, \"type\": \"bar\", \"x\": [701397.910731244], \"xaxis\": \"x22\", \"y\": [false], \"yaxis\": \"y22\"}, {\"orientation\": \"h\", \"showlegend\": false, \"type\": \"bar\", \"x\": [48610], \"xaxis\": \"x23\", \"y\": [true], \"yaxis\": \"y23\"}, {\"orientation\": \"h\", \"showlegend\": false, \"type\": \"bar\", \"x\": [2970402.797778235], \"xaxis\": \"x24\", \"y\": [true], \"yaxis\": \"y24\"}],\n",
       "                        {\"annotations\": [{\"font\": {\"size\": 16}, \"showarrow\": false, \"text\": \"trafficSource.campaign_COUNT\", \"x\": 0.225, \"xanchor\": \"center\", \"xref\": \"paper\", \"y\": 1.0, \"yanchor\": \"bottom\", \"yref\": \"paper\"}, {\"font\": {\"size\": 16}, \"showarrow\": false, \"text\": \"trafficSource.campaign_MEAN\", \"x\": 0.775, \"xanchor\": \"center\", \"xref\": \"paper\", \"y\": 1.0, \"yanchor\": \"bottom\", \"yref\": \"paper\"}, {\"font\": {\"size\": 16}, \"showarrow\": false, \"text\": \"trafficSource.source_COUNT\", \"x\": 0.225, \"xanchor\": \"center\", \"xref\": \"paper\", \"y\": 0.9131944444444444, \"yanchor\": \"bottom\", \"yref\": \"paper\"}, {\"font\": {\"size\": 16}, \"showarrow\": false, \"text\": \"trafficSource.source_MEAN\", \"x\": 0.775, \"xanchor\": \"center\", \"xref\": \"paper\", \"y\": 0.9131944444444444, \"yanchor\": \"bottom\", \"yref\": \"paper\"}, {\"font\": {\"size\": 16}, \"showarrow\": false, \"text\": \"trafficSource.medium_COUNT\", \"x\": 0.225, \"xanchor\": \"center\", \"xref\": \"paper\", \"y\": 0.8263888888888888, \"yanchor\": \"bottom\", \"yref\": \"paper\"}, {\"font\": {\"size\": 16}, \"showarrow\": false, \"text\": \"trafficSource.medium_MEAN\", \"x\": 0.775, \"xanchor\": \"center\", \"xref\": \"paper\", \"y\": 0.8263888888888888, \"yanchor\": \"bottom\", \"yref\": \"paper\"}, {\"font\": {\"size\": 16}, \"showarrow\": false, \"text\": \"trafficSource.keyword_COUNT\", \"x\": 0.225, \"xanchor\": \"center\", \"xref\": \"paper\", \"y\": 0.7395833333333333, \"yanchor\": \"bottom\", \"yref\": \"paper\"}, {\"font\": {\"size\": 16}, \"showarrow\": false, \"text\": \"trafficSource.keyword_MEAN\", \"x\": 0.775, \"xanchor\": \"center\", \"xref\": \"paper\", \"y\": 0.7395833333333333, \"yanchor\": \"bottom\", \"yref\": \"paper\"}, {\"font\": {\"size\": 16}, \"showarrow\": false, \"text\": \"trafficSource.referralPath_COUNT\", \"x\": 0.225, \"xanchor\": \"center\", \"xref\": \"paper\", \"y\": 0.6527777777777777, \"yanchor\": \"bottom\", \"yref\": \"paper\"}, {\"font\": {\"size\": 16}, \"showarrow\": false, \"text\": \"trafficSource.referralPath_MEAN\", \"x\": 0.775, \"xanchor\": \"center\", \"xref\": \"paper\", \"y\": 0.6527777777777777, \"yanchor\": \"bottom\", \"yref\": \"paper\"}, {\"font\": {\"size\": 16}, \"showarrow\": false, \"text\": \"trafficSource.adContent_COUNT\", \"x\": 0.225, \"xanchor\": \"center\", \"xref\": \"paper\", \"y\": 0.5659722222222223, \"yanchor\": \"bottom\", \"yref\": \"paper\"}, {\"font\": {\"size\": 16}, \"showarrow\": false, \"text\": \"trafficSource.adContent_MEAN\", \"x\": 0.775, \"xanchor\": \"center\", \"xref\": \"paper\", \"y\": 0.5659722222222223, \"yanchor\": \"bottom\", \"yref\": \"paper\"}, {\"font\": {\"size\": 16}, \"showarrow\": false, \"text\": \"trafficSource.adwordsClickInfo.page_COUNT\", \"x\": 0.225, \"xanchor\": \"center\", \"xref\": \"paper\", \"y\": 0.4791666666666667, \"yanchor\": \"bottom\", \"yref\": \"paper\"}, {\"font\": {\"size\": 16}, \"showarrow\": false, \"text\": \"trafficSource.adwordsClickInfo.page_MEAN\", \"x\": 0.775, \"xanchor\": \"center\", \"xref\": \"paper\", \"y\": 0.4791666666666667, \"yanchor\": \"bottom\", \"yref\": \"paper\"}, {\"font\": {\"size\": 16}, \"showarrow\": false, \"text\": \"trafficSource.adwordsClickInfo.slot_COUNT\", \"x\": 0.225, \"xanchor\": \"center\", \"xref\": \"paper\", \"y\": 0.3923611111111111, \"yanchor\": \"bottom\", \"yref\": \"paper\"}, {\"font\": {\"size\": 16}, \"showarrow\": false, \"text\": \"trafficSource.adwordsClickInfo.slot_MEAN\", \"x\": 0.775, \"xanchor\": \"center\", \"xref\": \"paper\", \"y\": 0.3923611111111111, \"yanchor\": \"bottom\", \"yref\": \"paper\"}, {\"font\": {\"size\": 16}, \"showarrow\": false, \"text\": \"trafficSource.adwordsClickInfo.gclId_COUNT\", \"x\": 0.225, \"xanchor\": \"center\", \"xref\": \"paper\", \"y\": 0.3055555555555556, \"yanchor\": \"bottom\", \"yref\": \"paper\"}, {\"font\": {\"size\": 16}, \"showarrow\": false, \"text\": \"trafficSource.adwordsClickInfo.gclId_MEAN\", \"x\": 0.775, \"xanchor\": \"center\", \"xref\": \"paper\", \"y\": 0.3055555555555556, \"yanchor\": \"bottom\", \"yref\": \"paper\"}, {\"font\": {\"size\": 16}, \"showarrow\": false, \"text\": \"trafficSource.adwordsClickInfo.adNetworkType_COUNT\", \"x\": 0.225, \"xanchor\": \"center\", \"xref\": \"paper\", \"y\": 0.21875, \"yanchor\": \"bottom\", \"yref\": \"paper\"}, {\"font\": {\"size\": 16}, \"showarrow\": false, \"text\": \"trafficSource.adwordsClickInfo.adNetworkType_MEAN\", \"x\": 0.775, \"xanchor\": \"center\", \"xref\": \"paper\", \"y\": 0.21875, \"yanchor\": \"bottom\", \"yref\": \"paper\"}, {\"font\": {\"size\": 16}, \"showarrow\": false, \"text\": \"trafficSource.adwordsClickInfo.isVideoAd_COUNT\", \"x\": 0.225, \"xanchor\": \"center\", \"xref\": \"paper\", \"y\": 0.13194444444444445, \"yanchor\": \"bottom\", \"yref\": \"paper\"}, {\"font\": {\"size\": 16}, \"showarrow\": false, \"text\": \"trafficSource.adwordsClickInfo.isVideoAd_MEAN\", \"x\": 0.775, \"xanchor\": \"center\", \"xref\": \"paper\", \"y\": 0.13194444444444445, \"yanchor\": \"bottom\", \"yref\": \"paper\"}, {\"font\": {\"size\": 16}, \"showarrow\": false, \"text\": \"trafficSource.isTrueDirect_COUNT\", \"x\": 0.225, \"xanchor\": \"center\", \"xref\": \"paper\", \"y\": 0.045138888888888895, \"yanchor\": \"bottom\", \"yref\": \"paper\"}, {\"font\": {\"size\": 16}, \"showarrow\": false, \"text\": \"trafficSource.isTrueDirect_MEAN\", \"x\": 0.775, \"xanchor\": \"center\", \"xref\": \"paper\", \"y\": 0.045138888888888895, \"yanchor\": \"bottom\", \"yref\": \"paper\"}], \"height\": 3000, \"paper_bgcolor\": \"rgb(233,233,233)\", \"template\": {\"data\": {\"bar\": [{\"error_x\": {\"color\": \"#2a3f5f\"}, \"error_y\": {\"color\": \"#2a3f5f\"}, \"marker\": {\"line\": {\"color\": \"#E5ECF6\", \"width\": 0.5}}, \"type\": \"bar\"}], \"barpolar\": [{\"marker\": {\"line\": {\"color\": \"#E5ECF6\", \"width\": 0.5}}, \"type\": \"barpolar\"}], \"carpet\": [{\"aaxis\": {\"endlinecolor\": \"#2a3f5f\", \"gridcolor\": \"white\", \"linecolor\": \"white\", \"minorgridcolor\": \"white\", \"startlinecolor\": \"#2a3f5f\"}, \"baxis\": {\"endlinecolor\": \"#2a3f5f\", \"gridcolor\": \"white\", \"linecolor\": \"white\", \"minorgridcolor\": \"white\", \"startlinecolor\": \"#2a3f5f\"}, \"type\": \"carpet\"}], \"choropleth\": [{\"colorbar\": {\"outlinewidth\": 0, \"ticks\": \"\"}, \"type\": \"choropleth\"}], \"contour\": [{\"colorbar\": {\"outlinewidth\": 0, \"ticks\": \"\"}, \"colorscale\": [[0.0, \"#0d0887\"], [0.1111111111111111, \"#46039f\"], [0.2222222222222222, \"#7201a8\"], [0.3333333333333333, \"#9c179e\"], [0.4444444444444444, \"#bd3786\"], [0.5555555555555556, \"#d8576b\"], [0.6666666666666666, \"#ed7953\"], [0.7777777777777778, \"#fb9f3a\"], [0.8888888888888888, \"#fdca26\"], [1.0, \"#f0f921\"]], \"type\": \"contour\"}], \"contourcarpet\": [{\"colorbar\": {\"outlinewidth\": 0, \"ticks\": \"\"}, \"type\": \"contourcarpet\"}], \"heatmap\": [{\"colorbar\": {\"outlinewidth\": 0, \"ticks\": \"\"}, \"colorscale\": [[0.0, \"#0d0887\"], [0.1111111111111111, \"#46039f\"], [0.2222222222222222, \"#7201a8\"], [0.3333333333333333, \"#9c179e\"], [0.4444444444444444, \"#bd3786\"], [0.5555555555555556, \"#d8576b\"], [0.6666666666666666, \"#ed7953\"], [0.7777777777777778, \"#fb9f3a\"], [0.8888888888888888, \"#fdca26\"], [1.0, \"#f0f921\"]], \"type\": \"heatmap\"}], \"heatmapgl\": [{\"colorbar\": {\"outlinewidth\": 0, \"ticks\": \"\"}, \"colorscale\": [[0.0, \"#0d0887\"], [0.1111111111111111, \"#46039f\"], [0.2222222222222222, \"#7201a8\"], [0.3333333333333333, \"#9c179e\"], [0.4444444444444444, \"#bd3786\"], [0.5555555555555556, \"#d8576b\"], [0.6666666666666666, \"#ed7953\"], [0.7777777777777778, \"#fb9f3a\"], [0.8888888888888888, \"#fdca26\"], [1.0, \"#f0f921\"]], \"type\": \"heatmapgl\"}], \"histogram\": [{\"marker\": {\"colorbar\": {\"outlinewidth\": 0, \"ticks\": \"\"}}, \"type\": \"histogram\"}], \"histogram2d\": [{\"colorbar\": {\"outlinewidth\": 0, \"ticks\": \"\"}, \"colorscale\": [[0.0, \"#0d0887\"], [0.1111111111111111, \"#46039f\"], [0.2222222222222222, \"#7201a8\"], [0.3333333333333333, \"#9c179e\"], [0.4444444444444444, \"#bd3786\"], [0.5555555555555556, \"#d8576b\"], [0.6666666666666666, \"#ed7953\"], [0.7777777777777778, \"#fb9f3a\"], [0.8888888888888888, \"#fdca26\"], [1.0, \"#f0f921\"]], \"type\": \"histogram2d\"}], \"histogram2dcontour\": [{\"colorbar\": {\"outlinewidth\": 0, \"ticks\": \"\"}, \"colorscale\": [[0.0, \"#0d0887\"], [0.1111111111111111, \"#46039f\"], [0.2222222222222222, \"#7201a8\"], [0.3333333333333333, \"#9c179e\"], [0.4444444444444444, \"#bd3786\"], [0.5555555555555556, \"#d8576b\"], [0.6666666666666666, \"#ed7953\"], [0.7777777777777778, \"#fb9f3a\"], [0.8888888888888888, \"#fdca26\"], [1.0, \"#f0f921\"]], \"type\": \"histogram2dcontour\"}], \"mesh3d\": [{\"colorbar\": {\"outlinewidth\": 0, \"ticks\": \"\"}, \"type\": \"mesh3d\"}], \"parcoords\": [{\"line\": {\"colorbar\": {\"outlinewidth\": 0, \"ticks\": \"\"}}, \"type\": \"parcoords\"}], \"pie\": [{\"automargin\": true, \"type\": \"pie\"}], \"scatter\": [{\"marker\": {\"colorbar\": {\"outlinewidth\": 0, \"ticks\": \"\"}}, \"type\": \"scatter\"}], \"scatter3d\": [{\"line\": {\"colorbar\": {\"outlinewidth\": 0, \"ticks\": \"\"}}, \"marker\": {\"colorbar\": {\"outlinewidth\": 0, \"ticks\": \"\"}}, \"type\": \"scatter3d\"}], \"scattercarpet\": [{\"marker\": {\"colorbar\": {\"outlinewidth\": 0, \"ticks\": \"\"}}, \"type\": \"scattercarpet\"}], \"scattergeo\": [{\"marker\": {\"colorbar\": {\"outlinewidth\": 0, \"ticks\": \"\"}}, \"type\": \"scattergeo\"}], \"scattergl\": [{\"marker\": {\"colorbar\": {\"outlinewidth\": 0, \"ticks\": \"\"}}, \"type\": \"scattergl\"}], \"scattermapbox\": [{\"marker\": {\"colorbar\": {\"outlinewidth\": 0, \"ticks\": \"\"}}, \"type\": \"scattermapbox\"}], \"scatterpolar\": [{\"marker\": {\"colorbar\": {\"outlinewidth\": 0, \"ticks\": \"\"}}, \"type\": \"scatterpolar\"}], \"scatterpolargl\": [{\"marker\": {\"colorbar\": {\"outlinewidth\": 0, \"ticks\": \"\"}}, \"type\": \"scatterpolargl\"}], \"scatterternary\": [{\"marker\": {\"colorbar\": {\"outlinewidth\": 0, \"ticks\": \"\"}}, \"type\": \"scatterternary\"}], \"surface\": [{\"colorbar\": {\"outlinewidth\": 0, \"ticks\": \"\"}, \"colorscale\": [[0.0, \"#0d0887\"], [0.1111111111111111, \"#46039f\"], [0.2222222222222222, \"#7201a8\"], [0.3333333333333333, \"#9c179e\"], [0.4444444444444444, \"#bd3786\"], [0.5555555555555556, \"#d8576b\"], [0.6666666666666666, \"#ed7953\"], [0.7777777777777778, \"#fb9f3a\"], [0.8888888888888888, \"#fdca26\"], [1.0, \"#f0f921\"]], \"type\": \"surface\"}], \"table\": [{\"cells\": {\"fill\": {\"color\": \"#EBF0F8\"}, \"line\": {\"color\": \"white\"}}, \"header\": {\"fill\": {\"color\": \"#C8D4E3\"}, \"line\": {\"color\": \"white\"}}, \"type\": \"table\"}]}, \"layout\": {\"annotationdefaults\": {\"arrowcolor\": \"#2a3f5f\", \"arrowhead\": 0, \"arrowwidth\": 1}, \"coloraxis\": {\"colorbar\": {\"outlinewidth\": 0, \"ticks\": \"\"}}, \"colorscale\": {\"diverging\": [[0, \"#8e0152\"], [0.1, \"#c51b7d\"], [0.2, \"#de77ae\"], [0.3, \"#f1b6da\"], [0.4, \"#fde0ef\"], [0.5, \"#f7f7f7\"], [0.6, \"#e6f5d0\"], [0.7, \"#b8e186\"], [0.8, \"#7fbc41\"], [0.9, \"#4d9221\"], [1, \"#276419\"]], \"sequential\": [[0.0, \"#0d0887\"], [0.1111111111111111, \"#46039f\"], [0.2222222222222222, \"#7201a8\"], [0.3333333333333333, \"#9c179e\"], [0.4444444444444444, \"#bd3786\"], [0.5555555555555556, \"#d8576b\"], [0.6666666666666666, \"#ed7953\"], [0.7777777777777778, \"#fb9f3a\"], [0.8888888888888888, \"#fdca26\"], [1.0, \"#f0f921\"]], \"sequentialminus\": [[0.0, \"#0d0887\"], [0.1111111111111111, \"#46039f\"], [0.2222222222222222, \"#7201a8\"], [0.3333333333333333, \"#9c179e\"], [0.4444444444444444, \"#bd3786\"], [0.5555555555555556, \"#d8576b\"], [0.6666666666666666, \"#ed7953\"], [0.7777777777777778, \"#fb9f3a\"], [0.8888888888888888, \"#fdca26\"], [1.0, \"#f0f921\"]]}, \"colorway\": [\"#636efa\", \"#EF553B\", \"#00cc96\", \"#ab63fa\", \"#FFA15A\", \"#19d3f3\", \"#FF6692\", \"#B6E880\", \"#FF97FF\", \"#FECB52\"], \"font\": {\"color\": \"#2a3f5f\"}, \"geo\": {\"bgcolor\": \"white\", \"lakecolor\": \"white\", \"landcolor\": \"#E5ECF6\", \"showlakes\": true, \"showland\": true, \"subunitcolor\": \"white\"}, \"hoverlabel\": {\"align\": \"left\"}, \"hovermode\": \"closest\", \"mapbox\": {\"style\": \"light\"}, \"paper_bgcolor\": \"white\", \"plot_bgcolor\": \"#E5ECF6\", \"polar\": {\"angularaxis\": {\"gridcolor\": \"white\", \"linecolor\": \"white\", \"ticks\": \"\"}, \"bgcolor\": \"#E5ECF6\", \"radialaxis\": {\"gridcolor\": \"white\", \"linecolor\": \"white\", \"ticks\": \"\"}}, \"scene\": {\"xaxis\": {\"backgroundcolor\": \"#E5ECF6\", \"gridcolor\": \"white\", \"gridwidth\": 2, \"linecolor\": \"white\", \"showbackground\": true, \"ticks\": \"\", \"zerolinecolor\": \"white\"}, \"yaxis\": {\"backgroundcolor\": \"#E5ECF6\", \"gridcolor\": \"white\", \"gridwidth\": 2, \"linecolor\": \"white\", \"showbackground\": true, \"ticks\": \"\", \"zerolinecolor\": \"white\"}, \"zaxis\": {\"backgroundcolor\": \"#E5ECF6\", \"gridcolor\": \"white\", \"gridwidth\": 2, \"linecolor\": \"white\", \"showbackground\": true, \"ticks\": \"\", \"zerolinecolor\": \"white\"}}, \"shapedefaults\": {\"line\": {\"color\": \"#2a3f5f\"}}, \"ternary\": {\"aaxis\": {\"gridcolor\": \"white\", \"linecolor\": \"white\", \"ticks\": \"\"}, \"baxis\": {\"gridcolor\": \"white\", \"linecolor\": \"white\", \"ticks\": \"\"}, \"bgcolor\": \"#E5ECF6\", \"caxis\": {\"gridcolor\": \"white\", \"linecolor\": \"white\", \"ticks\": \"\"}}, \"title\": {\"x\": 0.05}, \"xaxis\": {\"automargin\": true, \"gridcolor\": \"white\", \"linecolor\": \"white\", \"ticks\": \"\", \"title\": {\"standoff\": 15}, \"zerolinecolor\": \"white\", \"zerolinewidth\": 2}, \"yaxis\": {\"automargin\": true, \"gridcolor\": \"white\", \"linecolor\": \"white\", \"ticks\": \"\", \"title\": {\"standoff\": 15}, \"zerolinecolor\": \"white\", \"zerolinewidth\": 2}}}, \"title\": {\"text\": \"Device Plots\"}, \"width\": 1000, \"xaxis\": {\"anchor\": \"y\", \"domain\": [0.0, 0.45]}, \"xaxis10\": {\"anchor\": \"y10\", \"domain\": [0.55, 1.0]}, \"xaxis11\": {\"anchor\": \"y11\", \"domain\": [0.0, 0.45]}, \"xaxis12\": {\"anchor\": \"y12\", \"domain\": [0.55, 1.0]}, \"xaxis13\": {\"anchor\": \"y13\", \"domain\": [0.0, 0.45]}, \"xaxis14\": {\"anchor\": \"y14\", \"domain\": [0.55, 1.0]}, \"xaxis15\": {\"anchor\": \"y15\", \"domain\": [0.0, 0.45]}, \"xaxis16\": {\"anchor\": \"y16\", \"domain\": [0.55, 1.0]}, \"xaxis17\": {\"anchor\": \"y17\", \"domain\": [0.0, 0.45]}, \"xaxis18\": {\"anchor\": \"y18\", \"domain\": [0.55, 1.0]}, \"xaxis19\": {\"anchor\": \"y19\", \"domain\": [0.0, 0.45]}, \"xaxis2\": {\"anchor\": \"y2\", \"domain\": [0.55, 1.0]}, \"xaxis20\": {\"anchor\": \"y20\", \"domain\": [0.55, 1.0]}, \"xaxis21\": {\"anchor\": \"y21\", \"domain\": [0.0, 0.45]}, \"xaxis22\": {\"anchor\": \"y22\", \"domain\": [0.55, 1.0]}, \"xaxis23\": {\"anchor\": \"y23\", \"domain\": [0.0, 0.45]}, \"xaxis24\": {\"anchor\": \"y24\", \"domain\": [0.55, 1.0]}, \"xaxis3\": {\"anchor\": \"y3\", \"domain\": [0.0, 0.45]}, \"xaxis4\": {\"anchor\": \"y4\", \"domain\": [0.55, 1.0]}, \"xaxis5\": {\"anchor\": \"y5\", \"domain\": [0.0, 0.45]}, \"xaxis6\": {\"anchor\": \"y6\", \"domain\": [0.55, 1.0]}, \"xaxis7\": {\"anchor\": \"y7\", \"domain\": [0.0, 0.45]}, \"xaxis8\": {\"anchor\": \"y8\", \"domain\": [0.55, 1.0]}, \"xaxis9\": {\"anchor\": \"y9\", \"domain\": [0.0, 0.45]}, \"yaxis\": {\"anchor\": \"x\", \"domain\": [0.9548611111111112, 1.0]}, \"yaxis10\": {\"anchor\": \"x10\", \"domain\": [0.6076388888888888, 0.6527777777777777]}, \"yaxis11\": {\"anchor\": \"x11\", \"domain\": [0.5208333333333334, 0.5659722222222223]}, \"yaxis12\": {\"anchor\": \"x12\", \"domain\": [0.5208333333333334, 0.5659722222222223]}, \"yaxis13\": {\"anchor\": \"x13\", \"domain\": [0.4340277777777778, 0.4791666666666667]}, \"yaxis14\": {\"anchor\": \"x14\", \"domain\": [0.4340277777777778, 0.4791666666666667]}, \"yaxis15\": {\"anchor\": \"x15\", \"domain\": [0.3472222222222222, 0.3923611111111111]}, \"yaxis16\": {\"anchor\": \"x16\", \"domain\": [0.3472222222222222, 0.3923611111111111]}, \"yaxis17\": {\"anchor\": \"x17\", \"domain\": [0.2604166666666667, 0.3055555555555556]}, \"yaxis18\": {\"anchor\": \"x18\", \"domain\": [0.2604166666666667, 0.3055555555555556]}, \"yaxis19\": {\"anchor\": \"x19\", \"domain\": [0.1736111111111111, 0.21875]}, \"yaxis2\": {\"anchor\": \"x2\", \"domain\": [0.9548611111111112, 1.0]}, \"yaxis20\": {\"anchor\": \"x20\", \"domain\": [0.1736111111111111, 0.21875]}, \"yaxis21\": {\"anchor\": \"x21\", \"domain\": [0.08680555555555555, 0.13194444444444445]}, \"yaxis22\": {\"anchor\": \"x22\", \"domain\": [0.08680555555555555, 0.13194444444444445]}, \"yaxis23\": {\"anchor\": \"x23\", \"domain\": [0.0, 0.045138888888888895]}, \"yaxis24\": {\"anchor\": \"x24\", \"domain\": [0.0, 0.045138888888888895]}, \"yaxis3\": {\"anchor\": \"x3\", \"domain\": [0.8680555555555556, 0.9131944444444444]}, \"yaxis4\": {\"anchor\": \"x4\", \"domain\": [0.8680555555555556, 0.9131944444444444]}, \"yaxis5\": {\"anchor\": \"x5\", \"domain\": [0.78125, 0.8263888888888888]}, \"yaxis6\": {\"anchor\": \"x6\", \"domain\": [0.78125, 0.8263888888888888]}, \"yaxis7\": {\"anchor\": \"x7\", \"domain\": [0.6944444444444444, 0.7395833333333333]}, \"yaxis8\": {\"anchor\": \"x8\", \"domain\": [0.6944444444444444, 0.7395833333333333]}, \"yaxis9\": {\"anchor\": \"x9\", \"domain\": [0.6076388888888888, 0.6527777777777777]}},\n",
       "                        {\"responsive\": true}\n",
       "                    ).then(function(){\n",
       "                            \n",
       "var gd = document.getElementById('fc7ad8e1-00ba-486e-ab5f-e558740eac36');\n",
       "var x = new MutationObserver(function (mutations, observer) {{\n",
       "        var display = window.getComputedStyle(gd).display;\n",
       "        if (!display || display === 'none') {{\n",
       "            console.log([gd, 'removed!']);\n",
       "            Plotly.purge(gd);\n",
       "            observer.disconnect();\n",
       "        }}\n",
       "}});\n",
       "\n",
       "// Listen for the removal of the full notebook cells\n",
       "var notebookContainer = gd.closest('#notebook-container');\n",
       "if (notebookContainer) {{\n",
       "    x.observe(notebookContainer, {childList: true});\n",
       "}}\n",
       "\n",
       "// Listen for the clearing of the current output cell\n",
       "var outputEl = gd.closest('.output');\n",
       "if (outputEl) {{\n",
       "    x.observe(outputEl, {childList: true});\n",
       "}}\n",
       "\n",
       "                        })\n",
       "                };\n",
       "                });\n",
       "            </script>\n",
       "        </div>"
      ]
     },
     "metadata": {},
     "output_type": "display_data"
    }
   ],
   "source": [
    "subplot_titles =[]\n",
    "for c in traffic_source:\n",
    "    subplot_titles.append(c+'_COUNT')\n",
    "    subplot_titles.append(c+'_MEAN')\n",
    "    \n",
    "fig = plotly.subplots.make_subplots(rows=len(traffic_source), cols=2,\n",
    "                                    subplot_titles=subplot_titles)\n",
    "for i in range(len(traffic_source)):\n",
    "    fig.append_trace(traffic_source_dict[(i+1,1)], i+1, 1)\n",
    "    fig.append_trace(traffic_source_dict[(i+1,2)], i+1, 2)\n",
    "fig['layout'].update(height=3000, width=1000, paper_bgcolor='rgb(233,233,233)', title=\"Device Plots\")\n",
    "py.iplot(fig, filename='device-plots')"
   ]
  },
  {
   "cell_type": "markdown",
   "metadata": {},
   "source": [
    "    \n",
    " <body>\n",
    "  <h1>trafficSource Observation</h1>\n",
    "  <p style='font-size:15px'>Above, we observe that in many cases, there are fair amount of relationships between traffic sources and \n",
    "transactions.\n",
    "      For instance, in trafficSource.source column, '(direct)' source shows higer trasaction\n",
    "while the count of the '(direct)' source is fairly large. </p>\n",
    "<p style='font-size:15px'>In most cases, 10 largest sources in terms of count explain most of total counts.\n",
    "This implies that maximum dimension of PCA for the most traffic source columns will be 10.</p>\n",
    "</body>"
   ]
  },
  {
   "cell_type": "code",
   "execution_count": 208,
   "metadata": {
    "scrolled": true
   },
   "outputs": [
    {
     "name": "stdout",
     "output_type": "stream",
     "text": [
      "trafficSource.campaign number of unique:21 number of null:0.0\n",
      "trafficSource.source number of unique:146 number of null:0.0\n",
      "trafficSource.medium number of unique:7 number of null:0.0\n",
      "trafficSource.keyword number of unique:884 number of null:0.5329295116916517\n",
      "trafficSource.referralPath number of unique:798 number of null:0.757436296572028\n",
      "trafficSource.adContent number of unique:47 number of null:0.9405231633447261\n",
      "trafficSource.adwordsClickInfo.page number of unique:4 number of null:0.928733376197083\n",
      "trafficSource.adwordsClickInfo.slot number of unique:2 number of null:0.928733376197083\n",
      "trafficSource.adwordsClickInfo.gclId number of unique:9638 number of null:0.9286995363947075\n",
      "trafficSource.adwordsClickInfo.adNetworkType number of unique:2 number of null:0.928733376197083\n",
      "trafficSource.adwordsClickInfo.isVideoAd number of unique:1 number of null:0.928733376197083\n",
      "trafficSource.isTrueDirect number of unique:1 number of null:0.6710094413048627\n"
     ]
    }
   ],
   "source": [
    "for c in traffic_source:\n",
    "    print(c, 'number of unique:'+ str(train[c].nunique()), 'number of null:' +str(train[c].isnull().sum()/train.shape[0]))"
   ]
  },
  {
   "cell_type": "code",
   "execution_count": 14,
   "metadata": {},
   "outputs": [],
   "source": [
    "'''\n",
    "--------------------dimension to use for PCA--------------------\n",
    "\n",
    "'''\n",
    "\n",
    "\n",
    "pca_dim_traffic = {'trafficSource.campaign':6,'trafficSource.source': 4, 'trafficSource.medium': 5,\n",
    "                  'trafficSource.adContent':2,\n",
    "                  'trafficSource.adwordsClickInfo.page':2, 'trafficSource.adwordsClickInfo.slot':3,\n",
    "                   'trafficSource.adwordsClickInfo.adNetworkType':3,\n",
    "                  'trafficSource.adwordsClickInfo.isVideoAd':2, 'trafficSource.isTrueDirect':2\n",
    "                  }\n"
   ]
  },
  {
   "cell_type": "markdown",
   "metadata": {},
   "source": [
    "    \n",
    " <body>\n",
    "  <h1>Geographic Network Information</h1>\n",
    "  <p style='font-size:15px'>Here, we explore how Geographic Networks are related to average transactions for each visit.\n",
    "Throughout this observation, we'd like to determine proper number of dimension of geoNetwork\n",
    "columns during Principle Component Analysis (PCA) algorithm.</p>\n",
    "    <p style='font-size:15px'>The second column of the follwing graph chart indicates avaerage trasaction for each category.</p>\n",
    "</body>"
   ]
  },
  {
   "cell_type": "code",
   "execution_count": 211,
   "metadata": {},
   "outputs": [],
   "source": [
    "geoNetwork = ['geoNetwork.continent', 'geoNetwork.subContinent',\n",
    "       'geoNetwork.country', 'geoNetwork.region', 'geoNetwork.metro',\n",
    "       'geoNetwork.city', 'geoNetwork.networkDomain']\n",
    "\n",
    "\n",
    "i = 1\n",
    "geoNetwork_dict = {}\n",
    "for c in geoNetwork:\n",
    "    cnt_srs = train.groupby(c)['totals.transactionRevenue'].agg(['size', 'mean'])\n",
    "    cnt_srs.columns = [\"count\", \"mean\"]\n",
    "    cnt_srs = cnt_srs.sort_values(by=\"count\", ascending=False)\n",
    "    geoNetwork_dict[(i,1)] = horizontal_bar_chart(cnt_srs[\"count\"].head(10), 'rgba(50, 171, 96, 0.6)')\n",
    "    geoNetwork_dict[(i,2)] = horizontal_bar_chart(cnt_srs[\"mean\"].head(10), 'rgba(50, 171, 96, 0.6)')\n",
    "    i += 1\n"
   ]
  },
  {
   "cell_type": "code",
   "execution_count": 212,
   "metadata": {
    "scrolled": false
   },
   "outputs": [
    {
     "data": {
      "application/vnd.plotly.v1+json": {
       "config": {
        "linkText": "Export to plot.ly",
        "plotlyServerURL": "https://plot.ly",
        "showLink": false
       },
       "data": [
        {
         "orientation": "h",
         "showlegend": false,
         "type": "bar",
         "x": [
          222,
          2097,
          2900,
          30145,
          33437,
          78954
         ],
         "xaxis": "x",
         "y": [
          "(not set)",
          "Africa",
          "Oceania",
          "Asia",
          "Europe",
          "Americas"
         ],
         "yaxis": "y"
        },
        {
         "orientation": "h",
         "showlegend": false,
         "type": "bar",
         "x": [
          59864.86486486487,
          743423.9389604196,
          437162.0689655172,
          49550.1741582352,
          44499.20746478452,
          2470007.0927375434
         ],
         "xaxis": "x2",
         "y": [
          "(not set)",
          "Africa",
          "Oceania",
          "Asia",
          "Europe",
          "Americas"
         ],
         "yaxis": "y2"
        },
        {
         "orientation": "h",
         "showlegend": false,
         "type": "bar",
         "x": [
          3804,
          5603,
          5676,
          6247,
          7627,
          8149,
          10427,
          10709,
          10805,
          70677
         ],
         "xaxis": "x3",
         "y": [
          "Western Asia",
          "South America",
          "Southern Europe",
          "Eastern Europe",
          "Southeast Asia",
          "Eastern Asia",
          "Southern Asia",
          "Western Europe",
          "Northern Europe",
          "Northern America"
         ],
         "yaxis": "y3"
        },
        {
         "orientation": "h",
         "showlegend": false,
         "type": "bar",
         "x": [
          38864.35331230284,
          211738.35445297163,
          64799.15433403805,
          21776.852889386904,
          49665.66146584503,
          115160.14234875445,
          2743.8381125923083,
          28476.981977775704,
          62852.38315594632,
          2742328.904735628
         ],
         "xaxis": "x4",
         "y": [
          "Western Asia",
          "South America",
          "Southern Europe",
          "Eastern Europe",
          "Southeast Asia",
          "Eastern Asia",
          "Southern Asia",
          "Western Europe",
          "Northern Europe",
          "Northern America"
         ],
         "yaxis": "y4"
        },
        {
         "orientation": "h",
         "showlegend": false,
         "type": "bar",
         "x": [
          2222,
          2388,
          2430,
          2978,
          3278,
          3667,
          4606,
          7378,
          9069,
          66062
         ],
         "xaxis": "x5",
         "y": [
          "Brazil",
          "Taiwan",
          "Australia",
          "France",
          "Japan",
          "Germany",
          "Canada",
          "United Kingdom",
          "India",
          "United States"
         ],
         "yaxis": "y5"
        },
        {
         "orientation": "h",
         "showlegend": false,
         "type": "bar",
         "x": [
          404797.4797479748,
          15485.762144053602,
          521716.04938271607,
          0,
          96934.10616229408,
          4633.215162257977,
          332051.6717325228,
          87493.9007861209,
          3154.702833829529,
          2910752.777693682
         ],
         "xaxis": "x6",
         "y": [
          "Brazil",
          "Taiwan",
          "Australia",
          "France",
          "Japan",
          "Germany",
          "Canada",
          "United Kingdom",
          "India",
          "United States"
         ],
         "yaxis": "y6"
        },
        {
         "orientation": "h",
         "showlegend": false,
         "type": "bar",
         "x": [
          1117,
          1176,
          1370,
          1456,
          1952,
          2499,
          4242,
          4568,
          18073,
          83352
         ],
         "xaxis": "x7",
         "y": [
          "Taipei City",
          "Maharashtra",
          "Washington",
          "Illinois",
          "Texas",
          "England",
          "(not set)",
          "New York",
          "California",
          "not available in demo dataset"
         ],
         "yaxis": "y7"
        },
        {
         "orientation": "h",
         "showlegend": false,
         "type": "bar",
         "x": [
          0,
          0,
          4354080.2919708025,
          6747348.901098901,
          2311260.2459016396,
          258315.3261304522,
          129071.19283356908,
          5094908.056042031,
          2673204.7806119625,
          1095927.992129763
         ],
         "xaxis": "x8",
         "y": [
          "Taipei City",
          "Maharashtra",
          "Washington",
          "Illinois",
          "Texas",
          "England",
          "(not set)",
          "New York",
          "California",
          "not available in demo dataset"
         ],
         "yaxis": "y8"
        },
        {
         "orientation": "h",
         "showlegend": false,
         "type": "bar",
         "x": [
          615,
          676,
          1370,
          1456,
          1845,
          2272,
          4621,
          15771,
          29393,
          83352
         ],
         "xaxis": "x9",
         "y": [
          "Washington DC (Hagerstown MD)",
          "Austin TX",
          "Seattle-Tacoma WA",
          "Chicago IL",
          "Los Angeles CA",
          "London",
          "New York NY",
          "San Francisco-Oakland-San Jose CA",
          "(not set)",
          "not available in demo dataset"
         ],
         "yaxis": "y9"
        },
        {
         "orientation": "h",
         "showlegend": false,
         "type": "bar",
         "x": [
          2061252.0325203252,
          5255414.201183432,
          4354080.2919708025,
          6747348.901098901,
          2459539.295392954,
          284124.11971830984,
          5036472.62497295,
          2715666.730074187,
          133321.53914197258,
          1095927.992129763
         ],
         "xaxis": "x10",
         "y": [
          "Washington DC (Hagerstown MD)",
          "Austin TX",
          "Seattle-Tacoma WA",
          "Chicago IL",
          "Los Angeles CA",
          "London",
          "New York NY",
          "San Francisco-Oakland-San Jose CA",
          "(not set)",
          "not available in demo dataset"
         ],
         "yaxis": "y10"
        },
        {
         "orientation": "h",
         "showlegend": false,
         "type": "bar",
         "x": [
          1433,
          1601,
          1756,
          2284,
          2369,
          3393,
          4550,
          5588,
          6316,
          83352
         ],
         "xaxis": "x11",
         "y": [
          "Chicago",
          "Los Angeles",
          "San Jose",
          "London",
          "Sunnyvale",
          "San Francisco",
          "New York",
          "(not set)",
          "Mountain View",
          "not available in demo dataset"
         ],
         "yaxis": "y11"
        },
        {
         "orientation": "h",
         "showlegend": false,
         "type": "bar",
         "x": [
          6855645.498953245,
          2359275.452841974,
          2422141.230068337,
          282631.3485113835,
          2021342.3385394681,
          3946625.405246095,
          5115063.736263736,
          94747.67358625626,
          2502542.7485750476,
          1095927.992129763
         ],
         "xaxis": "x12",
         "y": [
          "Chicago",
          "Los Angeles",
          "San Jose",
          "London",
          "Sunnyvale",
          "San Francisco",
          "New York",
          "(not set)",
          "Mountain View",
          "not available in demo dataset"
         ],
         "yaxis": "y12"
        },
        {
         "orientation": "h",
         "showlegend": false,
         "type": "bar",
         "x": [
          1000,
          1004,
          1256,
          1446,
          1589,
          2402,
          2663,
          4824,
          21400,
          45909
         ],
         "xaxis": "x13",
         "y": [
          "btcentralplus.com",
          "cox.net",
          "virginm.net",
          "hinet.net",
          "comcastbusiness.net",
          "verizon.net",
          "rr.com",
          "comcast.net",
          "unknown.unknown",
          "(not set)"
         ],
         "yaxis": "y13"
        },
        {
         "orientation": "h",
         "showlegend": false,
         "type": "bar",
         "x": [
          0,
          2335597.609561753,
          0,
          25573.997233748272,
          7592309.628697294,
          3180437.135720233,
          1551092.7525347352,
          2367253.3167495853,
          256097.19626168226,
          2469477.444509791
         ],
         "xaxis": "x14",
         "y": [
          "btcentralplus.com",
          "cox.net",
          "virginm.net",
          "hinet.net",
          "comcastbusiness.net",
          "verizon.net",
          "rr.com",
          "comcast.net",
          "unknown.unknown",
          "(not set)"
         ],
         "yaxis": "y14"
        }
       ],
       "layout": {
        "annotations": [
         {
          "font": {
           "size": 16
          },
          "showarrow": false,
          "text": "geoNetwork.continent_COUNT",
          "x": 0.225,
          "xanchor": "center",
          "xref": "paper",
          "y": 0.9999999999999999,
          "yanchor": "bottom",
          "yref": "paper"
         },
         {
          "font": {
           "size": 16
          },
          "showarrow": false,
          "text": "geoNetwork.continent_MEAN",
          "x": 0.775,
          "xanchor": "center",
          "xref": "paper",
          "y": 0.9999999999999999,
          "yanchor": "bottom",
          "yref": "paper"
         },
         {
          "font": {
           "size": 16
          },
          "showarrow": false,
          "text": "geoNetwork.subContinent_COUNT",
          "x": 0.225,
          "xanchor": "center",
          "xref": "paper",
          "y": 0.8469387755102039,
          "yanchor": "bottom",
          "yref": "paper"
         },
         {
          "font": {
           "size": 16
          },
          "showarrow": false,
          "text": "geoNetwork.subContinent_MEAN",
          "x": 0.775,
          "xanchor": "center",
          "xref": "paper",
          "y": 0.8469387755102039,
          "yanchor": "bottom",
          "yref": "paper"
         },
         {
          "font": {
           "size": 16
          },
          "showarrow": false,
          "text": "geoNetwork.country_COUNT",
          "x": 0.225,
          "xanchor": "center",
          "xref": "paper",
          "y": 0.6938775510204082,
          "yanchor": "bottom",
          "yref": "paper"
         },
         {
          "font": {
           "size": 16
          },
          "showarrow": false,
          "text": "geoNetwork.country_MEAN",
          "x": 0.775,
          "xanchor": "center",
          "xref": "paper",
          "y": 0.6938775510204082,
          "yanchor": "bottom",
          "yref": "paper"
         },
         {
          "font": {
           "size": 16
          },
          "showarrow": false,
          "text": "geoNetwork.region_COUNT",
          "x": 0.225,
          "xanchor": "center",
          "xref": "paper",
          "y": 0.5408163265306122,
          "yanchor": "bottom",
          "yref": "paper"
         },
         {
          "font": {
           "size": 16
          },
          "showarrow": false,
          "text": "geoNetwork.region_MEAN",
          "x": 0.775,
          "xanchor": "center",
          "xref": "paper",
          "y": 0.5408163265306122,
          "yanchor": "bottom",
          "yref": "paper"
         },
         {
          "font": {
           "size": 16
          },
          "showarrow": false,
          "text": "geoNetwork.metro_COUNT",
          "x": 0.225,
          "xanchor": "center",
          "xref": "paper",
          "y": 0.3877551020408163,
          "yanchor": "bottom",
          "yref": "paper"
         },
         {
          "font": {
           "size": 16
          },
          "showarrow": false,
          "text": "geoNetwork.metro_MEAN",
          "x": 0.775,
          "xanchor": "center",
          "xref": "paper",
          "y": 0.3877551020408163,
          "yanchor": "bottom",
          "yref": "paper"
         },
         {
          "font": {
           "size": 16
          },
          "showarrow": false,
          "text": "geoNetwork.city_COUNT",
          "x": 0.225,
          "xanchor": "center",
          "xref": "paper",
          "y": 0.2346938775510204,
          "yanchor": "bottom",
          "yref": "paper"
         },
         {
          "font": {
           "size": 16
          },
          "showarrow": false,
          "text": "geoNetwork.city_MEAN",
          "x": 0.775,
          "xanchor": "center",
          "xref": "paper",
          "y": 0.2346938775510204,
          "yanchor": "bottom",
          "yref": "paper"
         },
         {
          "font": {
           "size": 16
          },
          "showarrow": false,
          "text": "geoNetwork.networkDomain_COUNT",
          "x": 0.225,
          "xanchor": "center",
          "xref": "paper",
          "y": 0.08163265306122448,
          "yanchor": "bottom",
          "yref": "paper"
         },
         {
          "font": {
           "size": 16
          },
          "showarrow": false,
          "text": "geoNetwork.networkDomain_MEAN",
          "x": 0.775,
          "xanchor": "center",
          "xref": "paper",
          "y": 0.08163265306122448,
          "yanchor": "bottom",
          "yref": "paper"
         }
        ],
        "height": 2000,
        "paper_bgcolor": "rgb(233,233,233)",
        "template": {
         "data": {
          "bar": [
           {
            "error_x": {
             "color": "#2a3f5f"
            },
            "error_y": {
             "color": "#2a3f5f"
            },
            "marker": {
             "line": {
              "color": "#E5ECF6",
              "width": 0.5
             }
            },
            "type": "bar"
           }
          ],
          "barpolar": [
           {
            "marker": {
             "line": {
              "color": "#E5ECF6",
              "width": 0.5
             }
            },
            "type": "barpolar"
           }
          ],
          "carpet": [
           {
            "aaxis": {
             "endlinecolor": "#2a3f5f",
             "gridcolor": "white",
             "linecolor": "white",
             "minorgridcolor": "white",
             "startlinecolor": "#2a3f5f"
            },
            "baxis": {
             "endlinecolor": "#2a3f5f",
             "gridcolor": "white",
             "linecolor": "white",
             "minorgridcolor": "white",
             "startlinecolor": "#2a3f5f"
            },
            "type": "carpet"
           }
          ],
          "choropleth": [
           {
            "colorbar": {
             "outlinewidth": 0,
             "ticks": ""
            },
            "type": "choropleth"
           }
          ],
          "contour": [
           {
            "colorbar": {
             "outlinewidth": 0,
             "ticks": ""
            },
            "colorscale": [
             [
              0,
              "#0d0887"
             ],
             [
              0.1111111111111111,
              "#46039f"
             ],
             [
              0.2222222222222222,
              "#7201a8"
             ],
             [
              0.3333333333333333,
              "#9c179e"
             ],
             [
              0.4444444444444444,
              "#bd3786"
             ],
             [
              0.5555555555555556,
              "#d8576b"
             ],
             [
              0.6666666666666666,
              "#ed7953"
             ],
             [
              0.7777777777777778,
              "#fb9f3a"
             ],
             [
              0.8888888888888888,
              "#fdca26"
             ],
             [
              1,
              "#f0f921"
             ]
            ],
            "type": "contour"
           }
          ],
          "contourcarpet": [
           {
            "colorbar": {
             "outlinewidth": 0,
             "ticks": ""
            },
            "type": "contourcarpet"
           }
          ],
          "heatmap": [
           {
            "colorbar": {
             "outlinewidth": 0,
             "ticks": ""
            },
            "colorscale": [
             [
              0,
              "#0d0887"
             ],
             [
              0.1111111111111111,
              "#46039f"
             ],
             [
              0.2222222222222222,
              "#7201a8"
             ],
             [
              0.3333333333333333,
              "#9c179e"
             ],
             [
              0.4444444444444444,
              "#bd3786"
             ],
             [
              0.5555555555555556,
              "#d8576b"
             ],
             [
              0.6666666666666666,
              "#ed7953"
             ],
             [
              0.7777777777777778,
              "#fb9f3a"
             ],
             [
              0.8888888888888888,
              "#fdca26"
             ],
             [
              1,
              "#f0f921"
             ]
            ],
            "type": "heatmap"
           }
          ],
          "heatmapgl": [
           {
            "colorbar": {
             "outlinewidth": 0,
             "ticks": ""
            },
            "colorscale": [
             [
              0,
              "#0d0887"
             ],
             [
              0.1111111111111111,
              "#46039f"
             ],
             [
              0.2222222222222222,
              "#7201a8"
             ],
             [
              0.3333333333333333,
              "#9c179e"
             ],
             [
              0.4444444444444444,
              "#bd3786"
             ],
             [
              0.5555555555555556,
              "#d8576b"
             ],
             [
              0.6666666666666666,
              "#ed7953"
             ],
             [
              0.7777777777777778,
              "#fb9f3a"
             ],
             [
              0.8888888888888888,
              "#fdca26"
             ],
             [
              1,
              "#f0f921"
             ]
            ],
            "type": "heatmapgl"
           }
          ],
          "histogram": [
           {
            "marker": {
             "colorbar": {
              "outlinewidth": 0,
              "ticks": ""
             }
            },
            "type": "histogram"
           }
          ],
          "histogram2d": [
           {
            "colorbar": {
             "outlinewidth": 0,
             "ticks": ""
            },
            "colorscale": [
             [
              0,
              "#0d0887"
             ],
             [
              0.1111111111111111,
              "#46039f"
             ],
             [
              0.2222222222222222,
              "#7201a8"
             ],
             [
              0.3333333333333333,
              "#9c179e"
             ],
             [
              0.4444444444444444,
              "#bd3786"
             ],
             [
              0.5555555555555556,
              "#d8576b"
             ],
             [
              0.6666666666666666,
              "#ed7953"
             ],
             [
              0.7777777777777778,
              "#fb9f3a"
             ],
             [
              0.8888888888888888,
              "#fdca26"
             ],
             [
              1,
              "#f0f921"
             ]
            ],
            "type": "histogram2d"
           }
          ],
          "histogram2dcontour": [
           {
            "colorbar": {
             "outlinewidth": 0,
             "ticks": ""
            },
            "colorscale": [
             [
              0,
              "#0d0887"
             ],
             [
              0.1111111111111111,
              "#46039f"
             ],
             [
              0.2222222222222222,
              "#7201a8"
             ],
             [
              0.3333333333333333,
              "#9c179e"
             ],
             [
              0.4444444444444444,
              "#bd3786"
             ],
             [
              0.5555555555555556,
              "#d8576b"
             ],
             [
              0.6666666666666666,
              "#ed7953"
             ],
             [
              0.7777777777777778,
              "#fb9f3a"
             ],
             [
              0.8888888888888888,
              "#fdca26"
             ],
             [
              1,
              "#f0f921"
             ]
            ],
            "type": "histogram2dcontour"
           }
          ],
          "mesh3d": [
           {
            "colorbar": {
             "outlinewidth": 0,
             "ticks": ""
            },
            "type": "mesh3d"
           }
          ],
          "parcoords": [
           {
            "line": {
             "colorbar": {
              "outlinewidth": 0,
              "ticks": ""
             }
            },
            "type": "parcoords"
           }
          ],
          "pie": [
           {
            "automargin": true,
            "type": "pie"
           }
          ],
          "scatter": [
           {
            "marker": {
             "colorbar": {
              "outlinewidth": 0,
              "ticks": ""
             }
            },
            "type": "scatter"
           }
          ],
          "scatter3d": [
           {
            "line": {
             "colorbar": {
              "outlinewidth": 0,
              "ticks": ""
             }
            },
            "marker": {
             "colorbar": {
              "outlinewidth": 0,
              "ticks": ""
             }
            },
            "type": "scatter3d"
           }
          ],
          "scattercarpet": [
           {
            "marker": {
             "colorbar": {
              "outlinewidth": 0,
              "ticks": ""
             }
            },
            "type": "scattercarpet"
           }
          ],
          "scattergeo": [
           {
            "marker": {
             "colorbar": {
              "outlinewidth": 0,
              "ticks": ""
             }
            },
            "type": "scattergeo"
           }
          ],
          "scattergl": [
           {
            "marker": {
             "colorbar": {
              "outlinewidth": 0,
              "ticks": ""
             }
            },
            "type": "scattergl"
           }
          ],
          "scattermapbox": [
           {
            "marker": {
             "colorbar": {
              "outlinewidth": 0,
              "ticks": ""
             }
            },
            "type": "scattermapbox"
           }
          ],
          "scatterpolar": [
           {
            "marker": {
             "colorbar": {
              "outlinewidth": 0,
              "ticks": ""
             }
            },
            "type": "scatterpolar"
           }
          ],
          "scatterpolargl": [
           {
            "marker": {
             "colorbar": {
              "outlinewidth": 0,
              "ticks": ""
             }
            },
            "type": "scatterpolargl"
           }
          ],
          "scatterternary": [
           {
            "marker": {
             "colorbar": {
              "outlinewidth": 0,
              "ticks": ""
             }
            },
            "type": "scatterternary"
           }
          ],
          "surface": [
           {
            "colorbar": {
             "outlinewidth": 0,
             "ticks": ""
            },
            "colorscale": [
             [
              0,
              "#0d0887"
             ],
             [
              0.1111111111111111,
              "#46039f"
             ],
             [
              0.2222222222222222,
              "#7201a8"
             ],
             [
              0.3333333333333333,
              "#9c179e"
             ],
             [
              0.4444444444444444,
              "#bd3786"
             ],
             [
              0.5555555555555556,
              "#d8576b"
             ],
             [
              0.6666666666666666,
              "#ed7953"
             ],
             [
              0.7777777777777778,
              "#fb9f3a"
             ],
             [
              0.8888888888888888,
              "#fdca26"
             ],
             [
              1,
              "#f0f921"
             ]
            ],
            "type": "surface"
           }
          ],
          "table": [
           {
            "cells": {
             "fill": {
              "color": "#EBF0F8"
             },
             "line": {
              "color": "white"
             }
            },
            "header": {
             "fill": {
              "color": "#C8D4E3"
             },
             "line": {
              "color": "white"
             }
            },
            "type": "table"
           }
          ]
         },
         "layout": {
          "annotationdefaults": {
           "arrowcolor": "#2a3f5f",
           "arrowhead": 0,
           "arrowwidth": 1
          },
          "coloraxis": {
           "colorbar": {
            "outlinewidth": 0,
            "ticks": ""
           }
          },
          "colorscale": {
           "diverging": [
            [
             0,
             "#8e0152"
            ],
            [
             0.1,
             "#c51b7d"
            ],
            [
             0.2,
             "#de77ae"
            ],
            [
             0.3,
             "#f1b6da"
            ],
            [
             0.4,
             "#fde0ef"
            ],
            [
             0.5,
             "#f7f7f7"
            ],
            [
             0.6,
             "#e6f5d0"
            ],
            [
             0.7,
             "#b8e186"
            ],
            [
             0.8,
             "#7fbc41"
            ],
            [
             0.9,
             "#4d9221"
            ],
            [
             1,
             "#276419"
            ]
           ],
           "sequential": [
            [
             0,
             "#0d0887"
            ],
            [
             0.1111111111111111,
             "#46039f"
            ],
            [
             0.2222222222222222,
             "#7201a8"
            ],
            [
             0.3333333333333333,
             "#9c179e"
            ],
            [
             0.4444444444444444,
             "#bd3786"
            ],
            [
             0.5555555555555556,
             "#d8576b"
            ],
            [
             0.6666666666666666,
             "#ed7953"
            ],
            [
             0.7777777777777778,
             "#fb9f3a"
            ],
            [
             0.8888888888888888,
             "#fdca26"
            ],
            [
             1,
             "#f0f921"
            ]
           ],
           "sequentialminus": [
            [
             0,
             "#0d0887"
            ],
            [
             0.1111111111111111,
             "#46039f"
            ],
            [
             0.2222222222222222,
             "#7201a8"
            ],
            [
             0.3333333333333333,
             "#9c179e"
            ],
            [
             0.4444444444444444,
             "#bd3786"
            ],
            [
             0.5555555555555556,
             "#d8576b"
            ],
            [
             0.6666666666666666,
             "#ed7953"
            ],
            [
             0.7777777777777778,
             "#fb9f3a"
            ],
            [
             0.8888888888888888,
             "#fdca26"
            ],
            [
             1,
             "#f0f921"
            ]
           ]
          },
          "colorway": [
           "#636efa",
           "#EF553B",
           "#00cc96",
           "#ab63fa",
           "#FFA15A",
           "#19d3f3",
           "#FF6692",
           "#B6E880",
           "#FF97FF",
           "#FECB52"
          ],
          "font": {
           "color": "#2a3f5f"
          },
          "geo": {
           "bgcolor": "white",
           "lakecolor": "white",
           "landcolor": "#E5ECF6",
           "showlakes": true,
           "showland": true,
           "subunitcolor": "white"
          },
          "hoverlabel": {
           "align": "left"
          },
          "hovermode": "closest",
          "mapbox": {
           "style": "light"
          },
          "paper_bgcolor": "white",
          "plot_bgcolor": "#E5ECF6",
          "polar": {
           "angularaxis": {
            "gridcolor": "white",
            "linecolor": "white",
            "ticks": ""
           },
           "bgcolor": "#E5ECF6",
           "radialaxis": {
            "gridcolor": "white",
            "linecolor": "white",
            "ticks": ""
           }
          },
          "scene": {
           "xaxis": {
            "backgroundcolor": "#E5ECF6",
            "gridcolor": "white",
            "gridwidth": 2,
            "linecolor": "white",
            "showbackground": true,
            "ticks": "",
            "zerolinecolor": "white"
           },
           "yaxis": {
            "backgroundcolor": "#E5ECF6",
            "gridcolor": "white",
            "gridwidth": 2,
            "linecolor": "white",
            "showbackground": true,
            "ticks": "",
            "zerolinecolor": "white"
           },
           "zaxis": {
            "backgroundcolor": "#E5ECF6",
            "gridcolor": "white",
            "gridwidth": 2,
            "linecolor": "white",
            "showbackground": true,
            "ticks": "",
            "zerolinecolor": "white"
           }
          },
          "shapedefaults": {
           "line": {
            "color": "#2a3f5f"
           }
          },
          "ternary": {
           "aaxis": {
            "gridcolor": "white",
            "linecolor": "white",
            "ticks": ""
           },
           "baxis": {
            "gridcolor": "white",
            "linecolor": "white",
            "ticks": ""
           },
           "bgcolor": "#E5ECF6",
           "caxis": {
            "gridcolor": "white",
            "linecolor": "white",
            "ticks": ""
           }
          },
          "title": {
           "x": 0.05
          },
          "xaxis": {
           "automargin": true,
           "gridcolor": "white",
           "linecolor": "white",
           "ticks": "",
           "title": {
            "standoff": 15
           },
           "zerolinecolor": "white",
           "zerolinewidth": 2
          },
          "yaxis": {
           "automargin": true,
           "gridcolor": "white",
           "linecolor": "white",
           "ticks": "",
           "title": {
            "standoff": 15
           },
           "zerolinecolor": "white",
           "zerolinewidth": 2
          }
         }
        },
        "title": {
         "text": "Device Plots"
        },
        "width": 1000,
        "xaxis": {
         "anchor": "y",
         "domain": [
          0,
          0.45
         ]
        },
        "xaxis10": {
         "anchor": "y10",
         "domain": [
          0.55,
          1
         ]
        },
        "xaxis11": {
         "anchor": "y11",
         "domain": [
          0,
          0.45
         ]
        },
        "xaxis12": {
         "anchor": "y12",
         "domain": [
          0.55,
          1
         ]
        },
        "xaxis13": {
         "anchor": "y13",
         "domain": [
          0,
          0.45
         ]
        },
        "xaxis14": {
         "anchor": "y14",
         "domain": [
          0.55,
          1
         ]
        },
        "xaxis2": {
         "anchor": "y2",
         "domain": [
          0.55,
          1
         ]
        },
        "xaxis3": {
         "anchor": "y3",
         "domain": [
          0,
          0.45
         ]
        },
        "xaxis4": {
         "anchor": "y4",
         "domain": [
          0.55,
          1
         ]
        },
        "xaxis5": {
         "anchor": "y5",
         "domain": [
          0,
          0.45
         ]
        },
        "xaxis6": {
         "anchor": "y6",
         "domain": [
          0.55,
          1
         ]
        },
        "xaxis7": {
         "anchor": "y7",
         "domain": [
          0,
          0.45
         ]
        },
        "xaxis8": {
         "anchor": "y8",
         "domain": [
          0.55,
          1
         ]
        },
        "xaxis9": {
         "anchor": "y9",
         "domain": [
          0,
          0.45
         ]
        },
        "yaxis": {
         "anchor": "x",
         "domain": [
          0.9183673469387754,
          0.9999999999999999
         ]
        },
        "yaxis10": {
         "anchor": "x10",
         "domain": [
          0.30612244897959184,
          0.3877551020408163
         ]
        },
        "yaxis11": {
         "anchor": "x11",
         "domain": [
          0.15306122448979592,
          0.2346938775510204
         ]
        },
        "yaxis12": {
         "anchor": "x12",
         "domain": [
          0.15306122448979592,
          0.2346938775510204
         ]
        },
        "yaxis13": {
         "anchor": "x13",
         "domain": [
          0,
          0.08163265306122448
         ]
        },
        "yaxis14": {
         "anchor": "x14",
         "domain": [
          0,
          0.08163265306122448
         ]
        },
        "yaxis2": {
         "anchor": "x2",
         "domain": [
          0.9183673469387754,
          0.9999999999999999
         ]
        },
        "yaxis3": {
         "anchor": "x3",
         "domain": [
          0.7653061224489794,
          0.8469387755102039
         ]
        },
        "yaxis4": {
         "anchor": "x4",
         "domain": [
          0.7653061224489794,
          0.8469387755102039
         ]
        },
        "yaxis5": {
         "anchor": "x5",
         "domain": [
          0.6122448979591837,
          0.6938775510204082
         ]
        },
        "yaxis6": {
         "anchor": "x6",
         "domain": [
          0.6122448979591837,
          0.6938775510204082
         ]
        },
        "yaxis7": {
         "anchor": "x7",
         "domain": [
          0.4591836734693877,
          0.5408163265306122
         ]
        },
        "yaxis8": {
         "anchor": "x8",
         "domain": [
          0.4591836734693877,
          0.5408163265306122
         ]
        },
        "yaxis9": {
         "anchor": "x9",
         "domain": [
          0.30612244897959184,
          0.3877551020408163
         ]
        }
       }
      },
      "text/html": [
       "<div>\n",
       "        \n",
       "        \n",
       "            <div id=\"5edc6151-5809-4015-91a3-0a415d49de70\" class=\"plotly-graph-div\" style=\"height:2000px; width:1000px;\"></div>\n",
       "            <script type=\"text/javascript\">\n",
       "                require([\"plotly\"], function(Plotly) {\n",
       "                    window.PLOTLYENV=window.PLOTLYENV || {};\n",
       "                    \n",
       "                if (document.getElementById(\"5edc6151-5809-4015-91a3-0a415d49de70\")) {\n",
       "                    Plotly.newPlot(\n",
       "                        '5edc6151-5809-4015-91a3-0a415d49de70',\n",
       "                        [{\"orientation\": \"h\", \"showlegend\": false, \"type\": \"bar\", \"x\": [222, 2097, 2900, 30145, 33437, 78954], \"xaxis\": \"x\", \"y\": [\"(not set)\", \"Africa\", \"Oceania\", \"Asia\", \"Europe\", \"Americas\"], \"yaxis\": \"y\"}, {\"orientation\": \"h\", \"showlegend\": false, \"type\": \"bar\", \"x\": [59864.86486486487, 743423.9389604196, 437162.0689655172, 49550.1741582352, 44499.20746478452, 2470007.0927375434], \"xaxis\": \"x2\", \"y\": [\"(not set)\", \"Africa\", \"Oceania\", \"Asia\", \"Europe\", \"Americas\"], \"yaxis\": \"y2\"}, {\"orientation\": \"h\", \"showlegend\": false, \"type\": \"bar\", \"x\": [3804, 5603, 5676, 6247, 7627, 8149, 10427, 10709, 10805, 70677], \"xaxis\": \"x3\", \"y\": [\"Western Asia\", \"South America\", \"Southern Europe\", \"Eastern Europe\", \"Southeast Asia\", \"Eastern Asia\", \"Southern Asia\", \"Western Europe\", \"Northern Europe\", \"Northern America\"], \"yaxis\": \"y3\"}, {\"orientation\": \"h\", \"showlegend\": false, \"type\": \"bar\", \"x\": [38864.35331230284, 211738.35445297163, 64799.15433403805, 21776.852889386904, 49665.66146584503, 115160.14234875445, 2743.8381125923083, 28476.981977775704, 62852.38315594632, 2742328.904735628], \"xaxis\": \"x4\", \"y\": [\"Western Asia\", \"South America\", \"Southern Europe\", \"Eastern Europe\", \"Southeast Asia\", \"Eastern Asia\", \"Southern Asia\", \"Western Europe\", \"Northern Europe\", \"Northern America\"], \"yaxis\": \"y4\"}, {\"orientation\": \"h\", \"showlegend\": false, \"type\": \"bar\", \"x\": [2222, 2388, 2430, 2978, 3278, 3667, 4606, 7378, 9069, 66062], \"xaxis\": \"x5\", \"y\": [\"Brazil\", \"Taiwan\", \"Australia\", \"France\", \"Japan\", \"Germany\", \"Canada\", \"United Kingdom\", \"India\", \"United States\"], \"yaxis\": \"y5\"}, {\"orientation\": \"h\", \"showlegend\": false, \"type\": \"bar\", \"x\": [404797.4797479748, 15485.762144053602, 521716.04938271607, 0.0, 96934.10616229408, 4633.215162257977, 332051.6717325228, 87493.9007861209, 3154.702833829529, 2910752.777693682], \"xaxis\": \"x6\", \"y\": [\"Brazil\", \"Taiwan\", \"Australia\", \"France\", \"Japan\", \"Germany\", \"Canada\", \"United Kingdom\", \"India\", \"United States\"], \"yaxis\": \"y6\"}, {\"orientation\": \"h\", \"showlegend\": false, \"type\": \"bar\", \"x\": [1117, 1176, 1370, 1456, 1952, 2499, 4242, 4568, 18073, 83352], \"xaxis\": \"x7\", \"y\": [\"Taipei City\", \"Maharashtra\", \"Washington\", \"Illinois\", \"Texas\", \"England\", \"(not set)\", \"New York\", \"California\", \"not available in demo dataset\"], \"yaxis\": \"y7\"}, {\"orientation\": \"h\", \"showlegend\": false, \"type\": \"bar\", \"x\": [0.0, 0.0, 4354080.2919708025, 6747348.901098901, 2311260.2459016396, 258315.3261304522, 129071.19283356908, 5094908.056042031, 2673204.7806119625, 1095927.992129763], \"xaxis\": \"x8\", \"y\": [\"Taipei City\", \"Maharashtra\", \"Washington\", \"Illinois\", \"Texas\", \"England\", \"(not set)\", \"New York\", \"California\", \"not available in demo dataset\"], \"yaxis\": \"y8\"}, {\"orientation\": \"h\", \"showlegend\": false, \"type\": \"bar\", \"x\": [615, 676, 1370, 1456, 1845, 2272, 4621, 15771, 29393, 83352], \"xaxis\": \"x9\", \"y\": [\"Washington DC (Hagerstown MD)\", \"Austin TX\", \"Seattle-Tacoma WA\", \"Chicago IL\", \"Los Angeles CA\", \"London\", \"New York NY\", \"San Francisco-Oakland-San Jose CA\", \"(not set)\", \"not available in demo dataset\"], \"yaxis\": \"y9\"}, {\"orientation\": \"h\", \"showlegend\": false, \"type\": \"bar\", \"x\": [2061252.0325203252, 5255414.201183432, 4354080.2919708025, 6747348.901098901, 2459539.295392954, 284124.11971830984, 5036472.62497295, 2715666.730074187, 133321.53914197258, 1095927.992129763], \"xaxis\": \"x10\", \"y\": [\"Washington DC (Hagerstown MD)\", \"Austin TX\", \"Seattle-Tacoma WA\", \"Chicago IL\", \"Los Angeles CA\", \"London\", \"New York NY\", \"San Francisco-Oakland-San Jose CA\", \"(not set)\", \"not available in demo dataset\"], \"yaxis\": \"y10\"}, {\"orientation\": \"h\", \"showlegend\": false, \"type\": \"bar\", \"x\": [1433, 1601, 1756, 2284, 2369, 3393, 4550, 5588, 6316, 83352], \"xaxis\": \"x11\", \"y\": [\"Chicago\", \"Los Angeles\", \"San Jose\", \"London\", \"Sunnyvale\", \"San Francisco\", \"New York\", \"(not set)\", \"Mountain View\", \"not available in demo dataset\"], \"yaxis\": \"y11\"}, {\"orientation\": \"h\", \"showlegend\": false, \"type\": \"bar\", \"x\": [6855645.498953245, 2359275.452841974, 2422141.230068337, 282631.3485113835, 2021342.3385394681, 3946625.405246095, 5115063.736263736, 94747.67358625626, 2502542.7485750476, 1095927.992129763], \"xaxis\": \"x12\", \"y\": [\"Chicago\", \"Los Angeles\", \"San Jose\", \"London\", \"Sunnyvale\", \"San Francisco\", \"New York\", \"(not set)\", \"Mountain View\", \"not available in demo dataset\"], \"yaxis\": \"y12\"}, {\"orientation\": \"h\", \"showlegend\": false, \"type\": \"bar\", \"x\": [1000, 1004, 1256, 1446, 1589, 2402, 2663, 4824, 21400, 45909], \"xaxis\": \"x13\", \"y\": [\"btcentralplus.com\", \"cox.net\", \"virginm.net\", \"hinet.net\", \"comcastbusiness.net\", \"verizon.net\", \"rr.com\", \"comcast.net\", \"unknown.unknown\", \"(not set)\"], \"yaxis\": \"y13\"}, {\"orientation\": \"h\", \"showlegend\": false, \"type\": \"bar\", \"x\": [0.0, 2335597.609561753, 0.0, 25573.997233748272, 7592309.628697294, 3180437.135720233, 1551092.7525347352, 2367253.3167495853, 256097.19626168226, 2469477.444509791], \"xaxis\": \"x14\", \"y\": [\"btcentralplus.com\", \"cox.net\", \"virginm.net\", \"hinet.net\", \"comcastbusiness.net\", \"verizon.net\", \"rr.com\", \"comcast.net\", \"unknown.unknown\", \"(not set)\"], \"yaxis\": \"y14\"}],\n",
       "                        {\"annotations\": [{\"font\": {\"size\": 16}, \"showarrow\": false, \"text\": \"geoNetwork.continent_COUNT\", \"x\": 0.225, \"xanchor\": \"center\", \"xref\": \"paper\", \"y\": 0.9999999999999999, \"yanchor\": \"bottom\", \"yref\": \"paper\"}, {\"font\": {\"size\": 16}, \"showarrow\": false, \"text\": \"geoNetwork.continent_MEAN\", \"x\": 0.775, \"xanchor\": \"center\", \"xref\": \"paper\", \"y\": 0.9999999999999999, \"yanchor\": \"bottom\", \"yref\": \"paper\"}, {\"font\": {\"size\": 16}, \"showarrow\": false, \"text\": \"geoNetwork.subContinent_COUNT\", \"x\": 0.225, \"xanchor\": \"center\", \"xref\": \"paper\", \"y\": 0.8469387755102039, \"yanchor\": \"bottom\", \"yref\": \"paper\"}, {\"font\": {\"size\": 16}, \"showarrow\": false, \"text\": \"geoNetwork.subContinent_MEAN\", \"x\": 0.775, \"xanchor\": \"center\", \"xref\": \"paper\", \"y\": 0.8469387755102039, \"yanchor\": \"bottom\", \"yref\": \"paper\"}, {\"font\": {\"size\": 16}, \"showarrow\": false, \"text\": \"geoNetwork.country_COUNT\", \"x\": 0.225, \"xanchor\": \"center\", \"xref\": \"paper\", \"y\": 0.6938775510204082, \"yanchor\": \"bottom\", \"yref\": \"paper\"}, {\"font\": {\"size\": 16}, \"showarrow\": false, \"text\": \"geoNetwork.country_MEAN\", \"x\": 0.775, \"xanchor\": \"center\", \"xref\": \"paper\", \"y\": 0.6938775510204082, \"yanchor\": \"bottom\", \"yref\": \"paper\"}, {\"font\": {\"size\": 16}, \"showarrow\": false, \"text\": \"geoNetwork.region_COUNT\", \"x\": 0.225, \"xanchor\": \"center\", \"xref\": \"paper\", \"y\": 0.5408163265306122, \"yanchor\": \"bottom\", \"yref\": \"paper\"}, {\"font\": {\"size\": 16}, \"showarrow\": false, \"text\": \"geoNetwork.region_MEAN\", \"x\": 0.775, \"xanchor\": \"center\", \"xref\": \"paper\", \"y\": 0.5408163265306122, \"yanchor\": \"bottom\", \"yref\": \"paper\"}, {\"font\": {\"size\": 16}, \"showarrow\": false, \"text\": \"geoNetwork.metro_COUNT\", \"x\": 0.225, \"xanchor\": \"center\", \"xref\": \"paper\", \"y\": 0.3877551020408163, \"yanchor\": \"bottom\", \"yref\": \"paper\"}, {\"font\": {\"size\": 16}, \"showarrow\": false, \"text\": \"geoNetwork.metro_MEAN\", \"x\": 0.775, \"xanchor\": \"center\", \"xref\": \"paper\", \"y\": 0.3877551020408163, \"yanchor\": \"bottom\", \"yref\": \"paper\"}, {\"font\": {\"size\": 16}, \"showarrow\": false, \"text\": \"geoNetwork.city_COUNT\", \"x\": 0.225, \"xanchor\": \"center\", \"xref\": \"paper\", \"y\": 0.2346938775510204, \"yanchor\": \"bottom\", \"yref\": \"paper\"}, {\"font\": {\"size\": 16}, \"showarrow\": false, \"text\": \"geoNetwork.city_MEAN\", \"x\": 0.775, \"xanchor\": \"center\", \"xref\": \"paper\", \"y\": 0.2346938775510204, \"yanchor\": \"bottom\", \"yref\": \"paper\"}, {\"font\": {\"size\": 16}, \"showarrow\": false, \"text\": \"geoNetwork.networkDomain_COUNT\", \"x\": 0.225, \"xanchor\": \"center\", \"xref\": \"paper\", \"y\": 0.08163265306122448, \"yanchor\": \"bottom\", \"yref\": \"paper\"}, {\"font\": {\"size\": 16}, \"showarrow\": false, \"text\": \"geoNetwork.networkDomain_MEAN\", \"x\": 0.775, \"xanchor\": \"center\", \"xref\": \"paper\", \"y\": 0.08163265306122448, \"yanchor\": \"bottom\", \"yref\": \"paper\"}], \"height\": 2000, \"paper_bgcolor\": \"rgb(233,233,233)\", \"template\": {\"data\": {\"bar\": [{\"error_x\": {\"color\": \"#2a3f5f\"}, \"error_y\": {\"color\": \"#2a3f5f\"}, \"marker\": {\"line\": {\"color\": \"#E5ECF6\", \"width\": 0.5}}, \"type\": \"bar\"}], \"barpolar\": [{\"marker\": {\"line\": {\"color\": \"#E5ECF6\", \"width\": 0.5}}, \"type\": \"barpolar\"}], \"carpet\": [{\"aaxis\": {\"endlinecolor\": \"#2a3f5f\", \"gridcolor\": \"white\", \"linecolor\": \"white\", \"minorgridcolor\": \"white\", \"startlinecolor\": \"#2a3f5f\"}, \"baxis\": {\"endlinecolor\": \"#2a3f5f\", \"gridcolor\": \"white\", \"linecolor\": \"white\", \"minorgridcolor\": \"white\", \"startlinecolor\": \"#2a3f5f\"}, \"type\": \"carpet\"}], \"choropleth\": [{\"colorbar\": {\"outlinewidth\": 0, \"ticks\": \"\"}, \"type\": \"choropleth\"}], \"contour\": [{\"colorbar\": {\"outlinewidth\": 0, \"ticks\": \"\"}, \"colorscale\": [[0.0, \"#0d0887\"], [0.1111111111111111, \"#46039f\"], [0.2222222222222222, \"#7201a8\"], [0.3333333333333333, \"#9c179e\"], [0.4444444444444444, \"#bd3786\"], [0.5555555555555556, \"#d8576b\"], [0.6666666666666666, \"#ed7953\"], [0.7777777777777778, \"#fb9f3a\"], [0.8888888888888888, \"#fdca26\"], [1.0, \"#f0f921\"]], \"type\": \"contour\"}], \"contourcarpet\": [{\"colorbar\": {\"outlinewidth\": 0, \"ticks\": \"\"}, \"type\": \"contourcarpet\"}], \"heatmap\": [{\"colorbar\": {\"outlinewidth\": 0, \"ticks\": \"\"}, \"colorscale\": [[0.0, \"#0d0887\"], [0.1111111111111111, \"#46039f\"], [0.2222222222222222, \"#7201a8\"], [0.3333333333333333, \"#9c179e\"], [0.4444444444444444, \"#bd3786\"], [0.5555555555555556, \"#d8576b\"], [0.6666666666666666, \"#ed7953\"], [0.7777777777777778, \"#fb9f3a\"], [0.8888888888888888, \"#fdca26\"], [1.0, \"#f0f921\"]], \"type\": \"heatmap\"}], \"heatmapgl\": [{\"colorbar\": {\"outlinewidth\": 0, \"ticks\": \"\"}, \"colorscale\": [[0.0, \"#0d0887\"], [0.1111111111111111, \"#46039f\"], [0.2222222222222222, \"#7201a8\"], [0.3333333333333333, \"#9c179e\"], [0.4444444444444444, \"#bd3786\"], [0.5555555555555556, \"#d8576b\"], [0.6666666666666666, \"#ed7953\"], [0.7777777777777778, \"#fb9f3a\"], [0.8888888888888888, \"#fdca26\"], [1.0, \"#f0f921\"]], \"type\": \"heatmapgl\"}], \"histogram\": [{\"marker\": {\"colorbar\": {\"outlinewidth\": 0, \"ticks\": \"\"}}, \"type\": \"histogram\"}], \"histogram2d\": [{\"colorbar\": {\"outlinewidth\": 0, \"ticks\": \"\"}, \"colorscale\": [[0.0, \"#0d0887\"], [0.1111111111111111, \"#46039f\"], [0.2222222222222222, \"#7201a8\"], [0.3333333333333333, \"#9c179e\"], [0.4444444444444444, \"#bd3786\"], [0.5555555555555556, \"#d8576b\"], [0.6666666666666666, \"#ed7953\"], [0.7777777777777778, \"#fb9f3a\"], [0.8888888888888888, \"#fdca26\"], [1.0, \"#f0f921\"]], \"type\": \"histogram2d\"}], \"histogram2dcontour\": [{\"colorbar\": {\"outlinewidth\": 0, \"ticks\": \"\"}, \"colorscale\": [[0.0, \"#0d0887\"], [0.1111111111111111, \"#46039f\"], [0.2222222222222222, \"#7201a8\"], [0.3333333333333333, \"#9c179e\"], [0.4444444444444444, \"#bd3786\"], [0.5555555555555556, \"#d8576b\"], [0.6666666666666666, \"#ed7953\"], [0.7777777777777778, \"#fb9f3a\"], [0.8888888888888888, \"#fdca26\"], [1.0, \"#f0f921\"]], \"type\": \"histogram2dcontour\"}], \"mesh3d\": [{\"colorbar\": {\"outlinewidth\": 0, \"ticks\": \"\"}, \"type\": \"mesh3d\"}], \"parcoords\": [{\"line\": {\"colorbar\": {\"outlinewidth\": 0, \"ticks\": \"\"}}, \"type\": \"parcoords\"}], \"pie\": [{\"automargin\": true, \"type\": \"pie\"}], \"scatter\": [{\"marker\": {\"colorbar\": {\"outlinewidth\": 0, \"ticks\": \"\"}}, \"type\": \"scatter\"}], \"scatter3d\": [{\"line\": {\"colorbar\": {\"outlinewidth\": 0, \"ticks\": \"\"}}, \"marker\": {\"colorbar\": {\"outlinewidth\": 0, \"ticks\": \"\"}}, \"type\": \"scatter3d\"}], \"scattercarpet\": [{\"marker\": {\"colorbar\": {\"outlinewidth\": 0, \"ticks\": \"\"}}, \"type\": \"scattercarpet\"}], \"scattergeo\": [{\"marker\": {\"colorbar\": {\"outlinewidth\": 0, \"ticks\": \"\"}}, \"type\": \"scattergeo\"}], \"scattergl\": [{\"marker\": {\"colorbar\": {\"outlinewidth\": 0, \"ticks\": \"\"}}, \"type\": \"scattergl\"}], \"scattermapbox\": [{\"marker\": {\"colorbar\": {\"outlinewidth\": 0, \"ticks\": \"\"}}, \"type\": \"scattermapbox\"}], \"scatterpolar\": [{\"marker\": {\"colorbar\": {\"outlinewidth\": 0, \"ticks\": \"\"}}, \"type\": \"scatterpolar\"}], \"scatterpolargl\": [{\"marker\": {\"colorbar\": {\"outlinewidth\": 0, \"ticks\": \"\"}}, \"type\": \"scatterpolargl\"}], \"scatterternary\": [{\"marker\": {\"colorbar\": {\"outlinewidth\": 0, \"ticks\": \"\"}}, \"type\": \"scatterternary\"}], \"surface\": [{\"colorbar\": {\"outlinewidth\": 0, \"ticks\": \"\"}, \"colorscale\": [[0.0, \"#0d0887\"], [0.1111111111111111, \"#46039f\"], [0.2222222222222222, \"#7201a8\"], [0.3333333333333333, \"#9c179e\"], [0.4444444444444444, \"#bd3786\"], [0.5555555555555556, \"#d8576b\"], [0.6666666666666666, \"#ed7953\"], [0.7777777777777778, \"#fb9f3a\"], [0.8888888888888888, \"#fdca26\"], [1.0, \"#f0f921\"]], \"type\": \"surface\"}], \"table\": [{\"cells\": {\"fill\": {\"color\": \"#EBF0F8\"}, \"line\": {\"color\": \"white\"}}, \"header\": {\"fill\": {\"color\": \"#C8D4E3\"}, \"line\": {\"color\": \"white\"}}, \"type\": \"table\"}]}, \"layout\": {\"annotationdefaults\": {\"arrowcolor\": \"#2a3f5f\", \"arrowhead\": 0, \"arrowwidth\": 1}, \"coloraxis\": {\"colorbar\": {\"outlinewidth\": 0, \"ticks\": \"\"}}, \"colorscale\": {\"diverging\": [[0, \"#8e0152\"], [0.1, \"#c51b7d\"], [0.2, \"#de77ae\"], [0.3, \"#f1b6da\"], [0.4, \"#fde0ef\"], [0.5, \"#f7f7f7\"], [0.6, \"#e6f5d0\"], [0.7, \"#b8e186\"], [0.8, \"#7fbc41\"], [0.9, \"#4d9221\"], [1, \"#276419\"]], \"sequential\": [[0.0, \"#0d0887\"], [0.1111111111111111, \"#46039f\"], [0.2222222222222222, \"#7201a8\"], [0.3333333333333333, \"#9c179e\"], [0.4444444444444444, \"#bd3786\"], [0.5555555555555556, \"#d8576b\"], [0.6666666666666666, \"#ed7953\"], [0.7777777777777778, \"#fb9f3a\"], [0.8888888888888888, \"#fdca26\"], [1.0, \"#f0f921\"]], \"sequentialminus\": [[0.0, \"#0d0887\"], [0.1111111111111111, \"#46039f\"], [0.2222222222222222, \"#7201a8\"], [0.3333333333333333, \"#9c179e\"], [0.4444444444444444, \"#bd3786\"], [0.5555555555555556, \"#d8576b\"], [0.6666666666666666, \"#ed7953\"], [0.7777777777777778, \"#fb9f3a\"], [0.8888888888888888, \"#fdca26\"], [1.0, \"#f0f921\"]]}, \"colorway\": [\"#636efa\", \"#EF553B\", \"#00cc96\", \"#ab63fa\", \"#FFA15A\", \"#19d3f3\", \"#FF6692\", \"#B6E880\", \"#FF97FF\", \"#FECB52\"], \"font\": {\"color\": \"#2a3f5f\"}, \"geo\": {\"bgcolor\": \"white\", \"lakecolor\": \"white\", \"landcolor\": \"#E5ECF6\", \"showlakes\": true, \"showland\": true, \"subunitcolor\": \"white\"}, \"hoverlabel\": {\"align\": \"left\"}, \"hovermode\": \"closest\", \"mapbox\": {\"style\": \"light\"}, \"paper_bgcolor\": \"white\", \"plot_bgcolor\": \"#E5ECF6\", \"polar\": {\"angularaxis\": {\"gridcolor\": \"white\", \"linecolor\": \"white\", \"ticks\": \"\"}, \"bgcolor\": \"#E5ECF6\", \"radialaxis\": {\"gridcolor\": \"white\", \"linecolor\": \"white\", \"ticks\": \"\"}}, \"scene\": {\"xaxis\": {\"backgroundcolor\": \"#E5ECF6\", \"gridcolor\": \"white\", \"gridwidth\": 2, \"linecolor\": \"white\", \"showbackground\": true, \"ticks\": \"\", \"zerolinecolor\": \"white\"}, \"yaxis\": {\"backgroundcolor\": \"#E5ECF6\", \"gridcolor\": \"white\", \"gridwidth\": 2, \"linecolor\": \"white\", \"showbackground\": true, \"ticks\": \"\", \"zerolinecolor\": \"white\"}, \"zaxis\": {\"backgroundcolor\": \"#E5ECF6\", \"gridcolor\": \"white\", \"gridwidth\": 2, \"linecolor\": \"white\", \"showbackground\": true, \"ticks\": \"\", \"zerolinecolor\": \"white\"}}, \"shapedefaults\": {\"line\": {\"color\": \"#2a3f5f\"}}, \"ternary\": {\"aaxis\": {\"gridcolor\": \"white\", \"linecolor\": \"white\", \"ticks\": \"\"}, \"baxis\": {\"gridcolor\": \"white\", \"linecolor\": \"white\", \"ticks\": \"\"}, \"bgcolor\": \"#E5ECF6\", \"caxis\": {\"gridcolor\": \"white\", \"linecolor\": \"white\", \"ticks\": \"\"}}, \"title\": {\"x\": 0.05}, \"xaxis\": {\"automargin\": true, \"gridcolor\": \"white\", \"linecolor\": \"white\", \"ticks\": \"\", \"title\": {\"standoff\": 15}, \"zerolinecolor\": \"white\", \"zerolinewidth\": 2}, \"yaxis\": {\"automargin\": true, \"gridcolor\": \"white\", \"linecolor\": \"white\", \"ticks\": \"\", \"title\": {\"standoff\": 15}, \"zerolinecolor\": \"white\", \"zerolinewidth\": 2}}}, \"title\": {\"text\": \"Device Plots\"}, \"width\": 1000, \"xaxis\": {\"anchor\": \"y\", \"domain\": [0.0, 0.45]}, \"xaxis10\": {\"anchor\": \"y10\", \"domain\": [0.55, 1.0]}, \"xaxis11\": {\"anchor\": \"y11\", \"domain\": [0.0, 0.45]}, \"xaxis12\": {\"anchor\": \"y12\", \"domain\": [0.55, 1.0]}, \"xaxis13\": {\"anchor\": \"y13\", \"domain\": [0.0, 0.45]}, \"xaxis14\": {\"anchor\": \"y14\", \"domain\": [0.55, 1.0]}, \"xaxis2\": {\"anchor\": \"y2\", \"domain\": [0.55, 1.0]}, \"xaxis3\": {\"anchor\": \"y3\", \"domain\": [0.0, 0.45]}, \"xaxis4\": {\"anchor\": \"y4\", \"domain\": [0.55, 1.0]}, \"xaxis5\": {\"anchor\": \"y5\", \"domain\": [0.0, 0.45]}, \"xaxis6\": {\"anchor\": \"y6\", \"domain\": [0.55, 1.0]}, \"xaxis7\": {\"anchor\": \"y7\", \"domain\": [0.0, 0.45]}, \"xaxis8\": {\"anchor\": \"y8\", \"domain\": [0.55, 1.0]}, \"xaxis9\": {\"anchor\": \"y9\", \"domain\": [0.0, 0.45]}, \"yaxis\": {\"anchor\": \"x\", \"domain\": [0.9183673469387754, 0.9999999999999999]}, \"yaxis10\": {\"anchor\": \"x10\", \"domain\": [0.30612244897959184, 0.3877551020408163]}, \"yaxis11\": {\"anchor\": \"x11\", \"domain\": [0.15306122448979592, 0.2346938775510204]}, \"yaxis12\": {\"anchor\": \"x12\", \"domain\": [0.15306122448979592, 0.2346938775510204]}, \"yaxis13\": {\"anchor\": \"x13\", \"domain\": [0.0, 0.08163265306122448]}, \"yaxis14\": {\"anchor\": \"x14\", \"domain\": [0.0, 0.08163265306122448]}, \"yaxis2\": {\"anchor\": \"x2\", \"domain\": [0.9183673469387754, 0.9999999999999999]}, \"yaxis3\": {\"anchor\": \"x3\", \"domain\": [0.7653061224489794, 0.8469387755102039]}, \"yaxis4\": {\"anchor\": \"x4\", \"domain\": [0.7653061224489794, 0.8469387755102039]}, \"yaxis5\": {\"anchor\": \"x5\", \"domain\": [0.6122448979591837, 0.6938775510204082]}, \"yaxis6\": {\"anchor\": \"x6\", \"domain\": [0.6122448979591837, 0.6938775510204082]}, \"yaxis7\": {\"anchor\": \"x7\", \"domain\": [0.4591836734693877, 0.5408163265306122]}, \"yaxis8\": {\"anchor\": \"x8\", \"domain\": [0.4591836734693877, 0.5408163265306122]}, \"yaxis9\": {\"anchor\": \"x9\", \"domain\": [0.30612244897959184, 0.3877551020408163]}},\n",
       "                        {\"responsive\": true}\n",
       "                    ).then(function(){\n",
       "                            \n",
       "var gd = document.getElementById('5edc6151-5809-4015-91a3-0a415d49de70');\n",
       "var x = new MutationObserver(function (mutations, observer) {{\n",
       "        var display = window.getComputedStyle(gd).display;\n",
       "        if (!display || display === 'none') {{\n",
       "            console.log([gd, 'removed!']);\n",
       "            Plotly.purge(gd);\n",
       "            observer.disconnect();\n",
       "        }}\n",
       "}});\n",
       "\n",
       "// Listen for the removal of the full notebook cells\n",
       "var notebookContainer = gd.closest('#notebook-container');\n",
       "if (notebookContainer) {{\n",
       "    x.observe(notebookContainer, {childList: true});\n",
       "}}\n",
       "\n",
       "// Listen for the clearing of the current output cell\n",
       "var outputEl = gd.closest('.output');\n",
       "if (outputEl) {{\n",
       "    x.observe(outputEl, {childList: true});\n",
       "}}\n",
       "\n",
       "                        })\n",
       "                };\n",
       "                });\n",
       "            </script>\n",
       "        </div>"
      ]
     },
     "metadata": {},
     "output_type": "display_data"
    }
   ],
   "source": [
    "subplot_titles =[]\n",
    "for c in geoNetwork:\n",
    "    subplot_titles.append(c+'_COUNT')\n",
    "    subplot_titles.append(c+'_MEAN')\n",
    "\n",
    "fig = plotly.subplots.make_subplots(rows=len(geoNetwork), cols=2,subplot_titles=subplot_titles)\n",
    "for i in range(len(geoNetwork)):\n",
    "    fig.append_trace(geoNetwork_dict[(i+1,1)], i+1, 1)\n",
    "    fig.append_trace(geoNetwork_dict[(i+1,2)], i+1, 2)\n",
    "fig['layout'].update(height=2000, width=1000, paper_bgcolor='rgb(233,233,233)', title=\"Device Plots\")\n",
    "py.iplot(fig, filename='device-plots')"
   ]
  },
  {
   "cell_type": "markdown",
   "metadata": {},
   "source": [
    "\n",
    " <body>\n",
    "    <h1>GeoNetwork Observation</h1>\n",
    "  <p style=\"font-size:15px\">We observe that Geographic Network information provides very meaningful implications for the\n",
    "trasactions. For example, geoNetwork.continent column show that transactions are signficantly higher\n",
    "      in Americas in comparison with Europe and Asia. </p>\n",
    "   <p style=\"font-size:15px\">Also, the count of Americas is nearly half of total count.\n",
    "We dicide that we perform just one-hot encoding for geoNetwork.continent column instead of PCA.\n",
    "This is due to the fact that the number of unique value is manageble, 6, and each category has\n",
    "siginificant implication on transactions amount. </p>\n",
    "<p style=\"font-size:15px\"> For other gegraphic network columns, we perform the PCA</p>\n",
    "</body>"
   ]
  },
  {
   "cell_type": "code",
   "execution_count": 15,
   "metadata": {},
   "outputs": [],
   "source": [
    "'''\n",
    "--------------------dimension to use for PCA--------------------\n",
    "\n",
    "'''\n",
    "\n",
    "pca_dim_geoNetwork = {'geoNetwork.continent': 6,'geoNetwork.subContinent': 10, 'geoNetwork.country':10,\n",
    "                     'geoNetwork.region':10, 'geoNetwork.metro':10\n",
    "                     } "
   ]
  },
  {
   "cell_type": "code",
   "execution_count": 214,
   "metadata": {},
   "outputs": [
    {
     "name": "stdout",
     "output_type": "stream",
     "text": [
      "geoNetwork.continent number of unique:6 number of null:0.0\n",
      "geoNetwork.subContinent number of unique:23 number of null:0.0\n",
      "geoNetwork.country number of unique:202 number of null:0.0\n",
      "geoNetwork.region number of unique:281 number of null:0.0\n",
      "geoNetwork.metro number of unique:91 number of null:0.0\n",
      "geoNetwork.city number of unique:523 number of null:0.0\n",
      "geoNetwork.networkDomain number of unique:9986 number of null:0.0\n"
     ]
    }
   ],
   "source": [
    "for c in geoNetwork:\n",
    "    print(c, 'number of unique:'+ str(train[c].nunique()), 'number of null:' +str(train[c].isnull().sum()/train.shape[0]))"
   ]
  },
  {
   "cell_type": "markdown",
   "metadata": {},
   "source": [
    " <body>\n",
    "  <h1>Device Information</h1>\n",
    "  <p style='font-size:15px'>Here, we explore how devices used are related to average transactions for each visit.\n",
    "Throughout this observation, we'd like to determine proper number of dimension of device\n",
    "columns during Principle Component Analysis (PCA) algorithm.</p>\n",
    "    <p style='font-size:15px'>The second column of the follwing graph chart indicates avaerage trasaction for each category.</p>\n",
    "</body>"
   ]
  },
  {
   "cell_type": "code",
   "execution_count": 215,
   "metadata": {},
   "outputs": [],
   "source": [
    "device = ['device.browser',\n",
    "       'device.operatingSystem', 'device.isMobile', 'device.deviceCategory']\n",
    "    \n",
    "i = 1\n",
    "device_dict = {}\n",
    "for c in device:\n",
    "    cnt_srs = train.groupby(c)['totals.transactionRevenue'].agg(['size', 'mean'])\n",
    "    cnt_srs.columns = [\"count\", \"mean\"]\n",
    "    cnt_srs = cnt_srs.sort_values(by=\"count\", ascending=False)\n",
    "    device_dict[(i,1)] = horizontal_bar_chart(cnt_srs[\"count\"].head(10), 'rgba(50, 171, 96, 0.6)')\n",
    "    device_dict[(i,2)] = horizontal_bar_chart(cnt_srs[\"mean\"].head(10), 'rgba(50, 171, 96, 0.6)')\n",
    "    i += 1\n",
    "    "
   ]
  },
  {
   "cell_type": "code",
   "execution_count": 216,
   "metadata": {
    "scrolled": true
   },
   "outputs": [
    {
     "data": {
      "application/vnd.plotly.v1+json": {
       "config": {
        "linkText": "Export to plot.ly",
        "plotlyServerURL": "https://plot.ly",
        "showLink": false
       },
       "data": [
        {
         "orientation": "h",
         "showlegend": false,
         "type": "bar",
         "x": [
          657,
          1190,
          1518,
          1537,
          1816,
          2522,
          3093,
          5849,
          25176,
          103059
         ],
         "xaxis": "x",
         "y": [
          "Opera",
          "Opera Mini",
          "Samsung Internet",
          "Safari (in-app)",
          "Edge",
          "Android Webview",
          "Internet Explorer",
          "Firefox",
          "Safari",
          "Chrome"
         ],
         "yaxis": "y"
        },
        {
         "orientation": "h",
         "showlegend": false,
         "type": "bar",
         "x": [
          42587.51902587519,
          0,
          18432.147562582344,
          27944.046844502278,
          448860.1321585903,
          19821.570182394924,
          253194.30973165212,
          2150477.004616174,
          281399.34858595487,
          1741029.507369565
         ],
         "xaxis": "x2",
         "y": [
          "Opera",
          "Opera Mini",
          "Samsung Internet",
          "Safari (in-app)",
          "Edge",
          "Android Webview",
          "Internet Explorer",
          "Firefox",
          "Safari",
          "Chrome"
         ],
         "yaxis": "y2"
        },
        {
         "orientation": "h",
         "showlegend": false,
         "type": "bar",
         "x": [
          35,
          65,
          146,
          891,
          4585,
          5694,
          22639,
          29011,
          32900,
          51744
         ],
         "xaxis": "x3",
         "y": [
          "BlackBerry",
          "Samsung",
          "Windows Phone",
          "(not set)",
          "Chrome OS",
          "Linux",
          "iOS",
          "Android",
          "Macintosh",
          "Windows"
         ],
         "yaxis": "y3"
        },
        {
         "orientation": "h",
         "showlegend": false,
         "type": "bar",
         "x": [
          0,
          0,
          0,
          0,
          4873908.396946565,
          1121800.1404987706,
          159406.3342020407,
          205492.7441315363,
          3350276.291793313,
          1010933.2482993198
         ],
         "xaxis": "x4",
         "y": [
          "BlackBerry",
          "Samsung",
          "Windows Phone",
          "(not set)",
          "Chrome OS",
          "Linux",
          "iOS",
          "Android",
          "Macintosh",
          "Windows"
         ],
         "yaxis": "y4"
        },
        {
         "orientation": "h",
         "showlegend": false,
         "type": "bar",
         "x": [
          52984,
          94771
         ],
         "xaxis": "x5",
         "y": [
          true,
          false
         ],
         "yaxis": "y5"
        },
        {
         "orientation": "h",
         "showlegend": false,
         "type": "bar",
         "x": [
          183289.48361769592,
          2016726.213715166
         ],
         "xaxis": "x6",
         "y": [
          true,
          false
         ],
         "yaxis": "y6"
        },
        {
         "orientation": "h",
         "showlegend": false,
         "type": "bar",
         "x": [
          6593,
          46399,
          94763
         ],
         "xaxis": "x7",
         "y": [
          "tablet",
          "mobile",
          "desktop"
         ],
         "yaxis": "y7"
        },
        {
         "orientation": "h",
         "showlegend": false,
         "type": "bar",
         "x": [
          243896.55695434552,
          174646.0053018384,
          2016896.4680307715
         ],
         "xaxis": "x8",
         "y": [
          "tablet",
          "mobile",
          "desktop"
         ],
         "yaxis": "y8"
        }
       ],
       "layout": {
        "annotations": [
         {
          "font": {
           "size": 16
          },
          "showarrow": false,
          "text": "device.browser_COUNT",
          "x": 0.225,
          "xanchor": "center",
          "xref": "paper",
          "y": 1,
          "yanchor": "bottom",
          "yref": "paper"
         },
         {
          "font": {
           "size": 16
          },
          "showarrow": false,
          "text": "device.browser_MEAN",
          "x": 0.775,
          "xanchor": "center",
          "xref": "paper",
          "y": 1,
          "yanchor": "bottom",
          "yref": "paper"
         },
         {
          "font": {
           "size": 16
          },
          "showarrow": false,
          "text": "device.operatingSystem_COUNT",
          "x": 0.225,
          "xanchor": "center",
          "xref": "paper",
          "y": 0.71875,
          "yanchor": "bottom",
          "yref": "paper"
         },
         {
          "font": {
           "size": 16
          },
          "showarrow": false,
          "text": "device.operatingSystem_MEAN",
          "x": 0.775,
          "xanchor": "center",
          "xref": "paper",
          "y": 0.71875,
          "yanchor": "bottom",
          "yref": "paper"
         },
         {
          "font": {
           "size": 16
          },
          "showarrow": false,
          "text": "device.isMobile_COUNT",
          "x": 0.225,
          "xanchor": "center",
          "xref": "paper",
          "y": 0.4375,
          "yanchor": "bottom",
          "yref": "paper"
         },
         {
          "font": {
           "size": 16
          },
          "showarrow": false,
          "text": "device.isMobile_MEAN",
          "x": 0.775,
          "xanchor": "center",
          "xref": "paper",
          "y": 0.4375,
          "yanchor": "bottom",
          "yref": "paper"
         },
         {
          "font": {
           "size": 16
          },
          "showarrow": false,
          "text": "device.deviceCategory_COUNT",
          "x": 0.225,
          "xanchor": "center",
          "xref": "paper",
          "y": 0.15625,
          "yanchor": "bottom",
          "yref": "paper"
         },
         {
          "font": {
           "size": 16
          },
          "showarrow": false,
          "text": "device.deviceCategory_MEAN",
          "x": 0.775,
          "xanchor": "center",
          "xref": "paper",
          "y": 0.15625,
          "yanchor": "bottom",
          "yref": "paper"
         }
        ],
        "height": 1200,
        "paper_bgcolor": "rgb(233,233,233)",
        "template": {
         "data": {
          "bar": [
           {
            "error_x": {
             "color": "#2a3f5f"
            },
            "error_y": {
             "color": "#2a3f5f"
            },
            "marker": {
             "line": {
              "color": "#E5ECF6",
              "width": 0.5
             }
            },
            "type": "bar"
           }
          ],
          "barpolar": [
           {
            "marker": {
             "line": {
              "color": "#E5ECF6",
              "width": 0.5
             }
            },
            "type": "barpolar"
           }
          ],
          "carpet": [
           {
            "aaxis": {
             "endlinecolor": "#2a3f5f",
             "gridcolor": "white",
             "linecolor": "white",
             "minorgridcolor": "white",
             "startlinecolor": "#2a3f5f"
            },
            "baxis": {
             "endlinecolor": "#2a3f5f",
             "gridcolor": "white",
             "linecolor": "white",
             "minorgridcolor": "white",
             "startlinecolor": "#2a3f5f"
            },
            "type": "carpet"
           }
          ],
          "choropleth": [
           {
            "colorbar": {
             "outlinewidth": 0,
             "ticks": ""
            },
            "type": "choropleth"
           }
          ],
          "contour": [
           {
            "colorbar": {
             "outlinewidth": 0,
             "ticks": ""
            },
            "colorscale": [
             [
              0,
              "#0d0887"
             ],
             [
              0.1111111111111111,
              "#46039f"
             ],
             [
              0.2222222222222222,
              "#7201a8"
             ],
             [
              0.3333333333333333,
              "#9c179e"
             ],
             [
              0.4444444444444444,
              "#bd3786"
             ],
             [
              0.5555555555555556,
              "#d8576b"
             ],
             [
              0.6666666666666666,
              "#ed7953"
             ],
             [
              0.7777777777777778,
              "#fb9f3a"
             ],
             [
              0.8888888888888888,
              "#fdca26"
             ],
             [
              1,
              "#f0f921"
             ]
            ],
            "type": "contour"
           }
          ],
          "contourcarpet": [
           {
            "colorbar": {
             "outlinewidth": 0,
             "ticks": ""
            },
            "type": "contourcarpet"
           }
          ],
          "heatmap": [
           {
            "colorbar": {
             "outlinewidth": 0,
             "ticks": ""
            },
            "colorscale": [
             [
              0,
              "#0d0887"
             ],
             [
              0.1111111111111111,
              "#46039f"
             ],
             [
              0.2222222222222222,
              "#7201a8"
             ],
             [
              0.3333333333333333,
              "#9c179e"
             ],
             [
              0.4444444444444444,
              "#bd3786"
             ],
             [
              0.5555555555555556,
              "#d8576b"
             ],
             [
              0.6666666666666666,
              "#ed7953"
             ],
             [
              0.7777777777777778,
              "#fb9f3a"
             ],
             [
              0.8888888888888888,
              "#fdca26"
             ],
             [
              1,
              "#f0f921"
             ]
            ],
            "type": "heatmap"
           }
          ],
          "heatmapgl": [
           {
            "colorbar": {
             "outlinewidth": 0,
             "ticks": ""
            },
            "colorscale": [
             [
              0,
              "#0d0887"
             ],
             [
              0.1111111111111111,
              "#46039f"
             ],
             [
              0.2222222222222222,
              "#7201a8"
             ],
             [
              0.3333333333333333,
              "#9c179e"
             ],
             [
              0.4444444444444444,
              "#bd3786"
             ],
             [
              0.5555555555555556,
              "#d8576b"
             ],
             [
              0.6666666666666666,
              "#ed7953"
             ],
             [
              0.7777777777777778,
              "#fb9f3a"
             ],
             [
              0.8888888888888888,
              "#fdca26"
             ],
             [
              1,
              "#f0f921"
             ]
            ],
            "type": "heatmapgl"
           }
          ],
          "histogram": [
           {
            "marker": {
             "colorbar": {
              "outlinewidth": 0,
              "ticks": ""
             }
            },
            "type": "histogram"
           }
          ],
          "histogram2d": [
           {
            "colorbar": {
             "outlinewidth": 0,
             "ticks": ""
            },
            "colorscale": [
             [
              0,
              "#0d0887"
             ],
             [
              0.1111111111111111,
              "#46039f"
             ],
             [
              0.2222222222222222,
              "#7201a8"
             ],
             [
              0.3333333333333333,
              "#9c179e"
             ],
             [
              0.4444444444444444,
              "#bd3786"
             ],
             [
              0.5555555555555556,
              "#d8576b"
             ],
             [
              0.6666666666666666,
              "#ed7953"
             ],
             [
              0.7777777777777778,
              "#fb9f3a"
             ],
             [
              0.8888888888888888,
              "#fdca26"
             ],
             [
              1,
              "#f0f921"
             ]
            ],
            "type": "histogram2d"
           }
          ],
          "histogram2dcontour": [
           {
            "colorbar": {
             "outlinewidth": 0,
             "ticks": ""
            },
            "colorscale": [
             [
              0,
              "#0d0887"
             ],
             [
              0.1111111111111111,
              "#46039f"
             ],
             [
              0.2222222222222222,
              "#7201a8"
             ],
             [
              0.3333333333333333,
              "#9c179e"
             ],
             [
              0.4444444444444444,
              "#bd3786"
             ],
             [
              0.5555555555555556,
              "#d8576b"
             ],
             [
              0.6666666666666666,
              "#ed7953"
             ],
             [
              0.7777777777777778,
              "#fb9f3a"
             ],
             [
              0.8888888888888888,
              "#fdca26"
             ],
             [
              1,
              "#f0f921"
             ]
            ],
            "type": "histogram2dcontour"
           }
          ],
          "mesh3d": [
           {
            "colorbar": {
             "outlinewidth": 0,
             "ticks": ""
            },
            "type": "mesh3d"
           }
          ],
          "parcoords": [
           {
            "line": {
             "colorbar": {
              "outlinewidth": 0,
              "ticks": ""
             }
            },
            "type": "parcoords"
           }
          ],
          "pie": [
           {
            "automargin": true,
            "type": "pie"
           }
          ],
          "scatter": [
           {
            "marker": {
             "colorbar": {
              "outlinewidth": 0,
              "ticks": ""
             }
            },
            "type": "scatter"
           }
          ],
          "scatter3d": [
           {
            "line": {
             "colorbar": {
              "outlinewidth": 0,
              "ticks": ""
             }
            },
            "marker": {
             "colorbar": {
              "outlinewidth": 0,
              "ticks": ""
             }
            },
            "type": "scatter3d"
           }
          ],
          "scattercarpet": [
           {
            "marker": {
             "colorbar": {
              "outlinewidth": 0,
              "ticks": ""
             }
            },
            "type": "scattercarpet"
           }
          ],
          "scattergeo": [
           {
            "marker": {
             "colorbar": {
              "outlinewidth": 0,
              "ticks": ""
             }
            },
            "type": "scattergeo"
           }
          ],
          "scattergl": [
           {
            "marker": {
             "colorbar": {
              "outlinewidth": 0,
              "ticks": ""
             }
            },
            "type": "scattergl"
           }
          ],
          "scattermapbox": [
           {
            "marker": {
             "colorbar": {
              "outlinewidth": 0,
              "ticks": ""
             }
            },
            "type": "scattermapbox"
           }
          ],
          "scatterpolar": [
           {
            "marker": {
             "colorbar": {
              "outlinewidth": 0,
              "ticks": ""
             }
            },
            "type": "scatterpolar"
           }
          ],
          "scatterpolargl": [
           {
            "marker": {
             "colorbar": {
              "outlinewidth": 0,
              "ticks": ""
             }
            },
            "type": "scatterpolargl"
           }
          ],
          "scatterternary": [
           {
            "marker": {
             "colorbar": {
              "outlinewidth": 0,
              "ticks": ""
             }
            },
            "type": "scatterternary"
           }
          ],
          "surface": [
           {
            "colorbar": {
             "outlinewidth": 0,
             "ticks": ""
            },
            "colorscale": [
             [
              0,
              "#0d0887"
             ],
             [
              0.1111111111111111,
              "#46039f"
             ],
             [
              0.2222222222222222,
              "#7201a8"
             ],
             [
              0.3333333333333333,
              "#9c179e"
             ],
             [
              0.4444444444444444,
              "#bd3786"
             ],
             [
              0.5555555555555556,
              "#d8576b"
             ],
             [
              0.6666666666666666,
              "#ed7953"
             ],
             [
              0.7777777777777778,
              "#fb9f3a"
             ],
             [
              0.8888888888888888,
              "#fdca26"
             ],
             [
              1,
              "#f0f921"
             ]
            ],
            "type": "surface"
           }
          ],
          "table": [
           {
            "cells": {
             "fill": {
              "color": "#EBF0F8"
             },
             "line": {
              "color": "white"
             }
            },
            "header": {
             "fill": {
              "color": "#C8D4E3"
             },
             "line": {
              "color": "white"
             }
            },
            "type": "table"
           }
          ]
         },
         "layout": {
          "annotationdefaults": {
           "arrowcolor": "#2a3f5f",
           "arrowhead": 0,
           "arrowwidth": 1
          },
          "coloraxis": {
           "colorbar": {
            "outlinewidth": 0,
            "ticks": ""
           }
          },
          "colorscale": {
           "diverging": [
            [
             0,
             "#8e0152"
            ],
            [
             0.1,
             "#c51b7d"
            ],
            [
             0.2,
             "#de77ae"
            ],
            [
             0.3,
             "#f1b6da"
            ],
            [
             0.4,
             "#fde0ef"
            ],
            [
             0.5,
             "#f7f7f7"
            ],
            [
             0.6,
             "#e6f5d0"
            ],
            [
             0.7,
             "#b8e186"
            ],
            [
             0.8,
             "#7fbc41"
            ],
            [
             0.9,
             "#4d9221"
            ],
            [
             1,
             "#276419"
            ]
           ],
           "sequential": [
            [
             0,
             "#0d0887"
            ],
            [
             0.1111111111111111,
             "#46039f"
            ],
            [
             0.2222222222222222,
             "#7201a8"
            ],
            [
             0.3333333333333333,
             "#9c179e"
            ],
            [
             0.4444444444444444,
             "#bd3786"
            ],
            [
             0.5555555555555556,
             "#d8576b"
            ],
            [
             0.6666666666666666,
             "#ed7953"
            ],
            [
             0.7777777777777778,
             "#fb9f3a"
            ],
            [
             0.8888888888888888,
             "#fdca26"
            ],
            [
             1,
             "#f0f921"
            ]
           ],
           "sequentialminus": [
            [
             0,
             "#0d0887"
            ],
            [
             0.1111111111111111,
             "#46039f"
            ],
            [
             0.2222222222222222,
             "#7201a8"
            ],
            [
             0.3333333333333333,
             "#9c179e"
            ],
            [
             0.4444444444444444,
             "#bd3786"
            ],
            [
             0.5555555555555556,
             "#d8576b"
            ],
            [
             0.6666666666666666,
             "#ed7953"
            ],
            [
             0.7777777777777778,
             "#fb9f3a"
            ],
            [
             0.8888888888888888,
             "#fdca26"
            ],
            [
             1,
             "#f0f921"
            ]
           ]
          },
          "colorway": [
           "#636efa",
           "#EF553B",
           "#00cc96",
           "#ab63fa",
           "#FFA15A",
           "#19d3f3",
           "#FF6692",
           "#B6E880",
           "#FF97FF",
           "#FECB52"
          ],
          "font": {
           "color": "#2a3f5f"
          },
          "geo": {
           "bgcolor": "white",
           "lakecolor": "white",
           "landcolor": "#E5ECF6",
           "showlakes": true,
           "showland": true,
           "subunitcolor": "white"
          },
          "hoverlabel": {
           "align": "left"
          },
          "hovermode": "closest",
          "mapbox": {
           "style": "light"
          },
          "paper_bgcolor": "white",
          "plot_bgcolor": "#E5ECF6",
          "polar": {
           "angularaxis": {
            "gridcolor": "white",
            "linecolor": "white",
            "ticks": ""
           },
           "bgcolor": "#E5ECF6",
           "radialaxis": {
            "gridcolor": "white",
            "linecolor": "white",
            "ticks": ""
           }
          },
          "scene": {
           "xaxis": {
            "backgroundcolor": "#E5ECF6",
            "gridcolor": "white",
            "gridwidth": 2,
            "linecolor": "white",
            "showbackground": true,
            "ticks": "",
            "zerolinecolor": "white"
           },
           "yaxis": {
            "backgroundcolor": "#E5ECF6",
            "gridcolor": "white",
            "gridwidth": 2,
            "linecolor": "white",
            "showbackground": true,
            "ticks": "",
            "zerolinecolor": "white"
           },
           "zaxis": {
            "backgroundcolor": "#E5ECF6",
            "gridcolor": "white",
            "gridwidth": 2,
            "linecolor": "white",
            "showbackground": true,
            "ticks": "",
            "zerolinecolor": "white"
           }
          },
          "shapedefaults": {
           "line": {
            "color": "#2a3f5f"
           }
          },
          "ternary": {
           "aaxis": {
            "gridcolor": "white",
            "linecolor": "white",
            "ticks": ""
           },
           "baxis": {
            "gridcolor": "white",
            "linecolor": "white",
            "ticks": ""
           },
           "bgcolor": "#E5ECF6",
           "caxis": {
            "gridcolor": "white",
            "linecolor": "white",
            "ticks": ""
           }
          },
          "title": {
           "x": 0.05
          },
          "xaxis": {
           "automargin": true,
           "gridcolor": "white",
           "linecolor": "white",
           "ticks": "",
           "title": {
            "standoff": 15
           },
           "zerolinecolor": "white",
           "zerolinewidth": 2
          },
          "yaxis": {
           "automargin": true,
           "gridcolor": "white",
           "linecolor": "white",
           "ticks": "",
           "title": {
            "standoff": 15
           },
           "zerolinecolor": "white",
           "zerolinewidth": 2
          }
         }
        },
        "title": {
         "text": "Device Plots"
        },
        "width": 1000,
        "xaxis": {
         "anchor": "y",
         "domain": [
          0,
          0.45
         ]
        },
        "xaxis2": {
         "anchor": "y2",
         "domain": [
          0.55,
          1
         ]
        },
        "xaxis3": {
         "anchor": "y3",
         "domain": [
          0,
          0.45
         ]
        },
        "xaxis4": {
         "anchor": "y4",
         "domain": [
          0.55,
          1
         ]
        },
        "xaxis5": {
         "anchor": "y5",
         "domain": [
          0,
          0.45
         ]
        },
        "xaxis6": {
         "anchor": "y6",
         "domain": [
          0.55,
          1
         ]
        },
        "xaxis7": {
         "anchor": "y7",
         "domain": [
          0,
          0.45
         ]
        },
        "xaxis8": {
         "anchor": "y8",
         "domain": [
          0.55,
          1
         ]
        },
        "yaxis": {
         "anchor": "x",
         "domain": [
          0.84375,
          1
         ]
        },
        "yaxis2": {
         "anchor": "x2",
         "domain": [
          0.84375,
          1
         ]
        },
        "yaxis3": {
         "anchor": "x3",
         "domain": [
          0.5625,
          0.71875
         ]
        },
        "yaxis4": {
         "anchor": "x4",
         "domain": [
          0.5625,
          0.71875
         ]
        },
        "yaxis5": {
         "anchor": "x5",
         "domain": [
          0.28125,
          0.4375
         ]
        },
        "yaxis6": {
         "anchor": "x6",
         "domain": [
          0.28125,
          0.4375
         ]
        },
        "yaxis7": {
         "anchor": "x7",
         "domain": [
          0,
          0.15625
         ]
        },
        "yaxis8": {
         "anchor": "x8",
         "domain": [
          0,
          0.15625
         ]
        }
       }
      },
      "text/html": [
       "<div>\n",
       "        \n",
       "        \n",
       "            <div id=\"b108f3fb-dbc2-43b1-b2c0-99980b6f77c7\" class=\"plotly-graph-div\" style=\"height:1200px; width:1000px;\"></div>\n",
       "            <script type=\"text/javascript\">\n",
       "                require([\"plotly\"], function(Plotly) {\n",
       "                    window.PLOTLYENV=window.PLOTLYENV || {};\n",
       "                    \n",
       "                if (document.getElementById(\"b108f3fb-dbc2-43b1-b2c0-99980b6f77c7\")) {\n",
       "                    Plotly.newPlot(\n",
       "                        'b108f3fb-dbc2-43b1-b2c0-99980b6f77c7',\n",
       "                        [{\"orientation\": \"h\", \"showlegend\": false, \"type\": \"bar\", \"x\": [657, 1190, 1518, 1537, 1816, 2522, 3093, 5849, 25176, 103059], \"xaxis\": \"x\", \"y\": [\"Opera\", \"Opera Mini\", \"Samsung Internet\", \"Safari (in-app)\", \"Edge\", \"Android Webview\", \"Internet Explorer\", \"Firefox\", \"Safari\", \"Chrome\"], \"yaxis\": \"y\"}, {\"orientation\": \"h\", \"showlegend\": false, \"type\": \"bar\", \"x\": [42587.51902587519, 0.0, 18432.147562582344, 27944.046844502278, 448860.1321585903, 19821.570182394924, 253194.30973165212, 2150477.004616174, 281399.34858595487, 1741029.507369565], \"xaxis\": \"x2\", \"y\": [\"Opera\", \"Opera Mini\", \"Samsung Internet\", \"Safari (in-app)\", \"Edge\", \"Android Webview\", \"Internet Explorer\", \"Firefox\", \"Safari\", \"Chrome\"], \"yaxis\": \"y2\"}, {\"orientation\": \"h\", \"showlegend\": false, \"type\": \"bar\", \"x\": [35, 65, 146, 891, 4585, 5694, 22639, 29011, 32900, 51744], \"xaxis\": \"x3\", \"y\": [\"BlackBerry\", \"Samsung\", \"Windows Phone\", \"(not set)\", \"Chrome OS\", \"Linux\", \"iOS\", \"Android\", \"Macintosh\", \"Windows\"], \"yaxis\": \"y3\"}, {\"orientation\": \"h\", \"showlegend\": false, \"type\": \"bar\", \"x\": [0.0, 0.0, 0.0, 0.0, 4873908.396946565, 1121800.1404987706, 159406.3342020407, 205492.7441315363, 3350276.291793313, 1010933.2482993198], \"xaxis\": \"x4\", \"y\": [\"BlackBerry\", \"Samsung\", \"Windows Phone\", \"(not set)\", \"Chrome OS\", \"Linux\", \"iOS\", \"Android\", \"Macintosh\", \"Windows\"], \"yaxis\": \"y4\"}, {\"orientation\": \"h\", \"showlegend\": false, \"type\": \"bar\", \"x\": [52984, 94771], \"xaxis\": \"x5\", \"y\": [true, false], \"yaxis\": \"y5\"}, {\"orientation\": \"h\", \"showlegend\": false, \"type\": \"bar\", \"x\": [183289.48361769592, 2016726.213715166], \"xaxis\": \"x6\", \"y\": [true, false], \"yaxis\": \"y6\"}, {\"orientation\": \"h\", \"showlegend\": false, \"type\": \"bar\", \"x\": [6593, 46399, 94763], \"xaxis\": \"x7\", \"y\": [\"tablet\", \"mobile\", \"desktop\"], \"yaxis\": \"y7\"}, {\"orientation\": \"h\", \"showlegend\": false, \"type\": \"bar\", \"x\": [243896.55695434552, 174646.0053018384, 2016896.4680307715], \"xaxis\": \"x8\", \"y\": [\"tablet\", \"mobile\", \"desktop\"], \"yaxis\": \"y8\"}],\n",
       "                        {\"annotations\": [{\"font\": {\"size\": 16}, \"showarrow\": false, \"text\": \"device.browser_COUNT\", \"x\": 0.225, \"xanchor\": \"center\", \"xref\": \"paper\", \"y\": 1.0, \"yanchor\": \"bottom\", \"yref\": \"paper\"}, {\"font\": {\"size\": 16}, \"showarrow\": false, \"text\": \"device.browser_MEAN\", \"x\": 0.775, \"xanchor\": \"center\", \"xref\": \"paper\", \"y\": 1.0, \"yanchor\": \"bottom\", \"yref\": \"paper\"}, {\"font\": {\"size\": 16}, \"showarrow\": false, \"text\": \"device.operatingSystem_COUNT\", \"x\": 0.225, \"xanchor\": \"center\", \"xref\": \"paper\", \"y\": 0.71875, \"yanchor\": \"bottom\", \"yref\": \"paper\"}, {\"font\": {\"size\": 16}, \"showarrow\": false, \"text\": \"device.operatingSystem_MEAN\", \"x\": 0.775, \"xanchor\": \"center\", \"xref\": \"paper\", \"y\": 0.71875, \"yanchor\": \"bottom\", \"yref\": \"paper\"}, {\"font\": {\"size\": 16}, \"showarrow\": false, \"text\": \"device.isMobile_COUNT\", \"x\": 0.225, \"xanchor\": \"center\", \"xref\": \"paper\", \"y\": 0.4375, \"yanchor\": \"bottom\", \"yref\": \"paper\"}, {\"font\": {\"size\": 16}, \"showarrow\": false, \"text\": \"device.isMobile_MEAN\", \"x\": 0.775, \"xanchor\": \"center\", \"xref\": \"paper\", \"y\": 0.4375, \"yanchor\": \"bottom\", \"yref\": \"paper\"}, {\"font\": {\"size\": 16}, \"showarrow\": false, \"text\": \"device.deviceCategory_COUNT\", \"x\": 0.225, \"xanchor\": \"center\", \"xref\": \"paper\", \"y\": 0.15625, \"yanchor\": \"bottom\", \"yref\": \"paper\"}, {\"font\": {\"size\": 16}, \"showarrow\": false, \"text\": \"device.deviceCategory_MEAN\", \"x\": 0.775, \"xanchor\": \"center\", \"xref\": \"paper\", \"y\": 0.15625, \"yanchor\": \"bottom\", \"yref\": \"paper\"}], \"height\": 1200, \"paper_bgcolor\": \"rgb(233,233,233)\", \"template\": {\"data\": {\"bar\": [{\"error_x\": {\"color\": \"#2a3f5f\"}, \"error_y\": {\"color\": \"#2a3f5f\"}, \"marker\": {\"line\": {\"color\": \"#E5ECF6\", \"width\": 0.5}}, \"type\": \"bar\"}], \"barpolar\": [{\"marker\": {\"line\": {\"color\": \"#E5ECF6\", \"width\": 0.5}}, \"type\": \"barpolar\"}], \"carpet\": [{\"aaxis\": {\"endlinecolor\": \"#2a3f5f\", \"gridcolor\": \"white\", \"linecolor\": \"white\", \"minorgridcolor\": \"white\", \"startlinecolor\": \"#2a3f5f\"}, \"baxis\": {\"endlinecolor\": \"#2a3f5f\", \"gridcolor\": \"white\", \"linecolor\": \"white\", \"minorgridcolor\": \"white\", \"startlinecolor\": \"#2a3f5f\"}, \"type\": \"carpet\"}], \"choropleth\": [{\"colorbar\": {\"outlinewidth\": 0, \"ticks\": \"\"}, \"type\": \"choropleth\"}], \"contour\": [{\"colorbar\": {\"outlinewidth\": 0, \"ticks\": \"\"}, \"colorscale\": [[0.0, \"#0d0887\"], [0.1111111111111111, \"#46039f\"], [0.2222222222222222, \"#7201a8\"], [0.3333333333333333, \"#9c179e\"], [0.4444444444444444, \"#bd3786\"], [0.5555555555555556, \"#d8576b\"], [0.6666666666666666, \"#ed7953\"], [0.7777777777777778, \"#fb9f3a\"], [0.8888888888888888, \"#fdca26\"], [1.0, \"#f0f921\"]], \"type\": \"contour\"}], \"contourcarpet\": [{\"colorbar\": {\"outlinewidth\": 0, \"ticks\": \"\"}, \"type\": \"contourcarpet\"}], \"heatmap\": [{\"colorbar\": {\"outlinewidth\": 0, \"ticks\": \"\"}, \"colorscale\": [[0.0, \"#0d0887\"], [0.1111111111111111, \"#46039f\"], [0.2222222222222222, \"#7201a8\"], [0.3333333333333333, \"#9c179e\"], [0.4444444444444444, \"#bd3786\"], [0.5555555555555556, \"#d8576b\"], [0.6666666666666666, \"#ed7953\"], [0.7777777777777778, \"#fb9f3a\"], [0.8888888888888888, \"#fdca26\"], [1.0, \"#f0f921\"]], \"type\": \"heatmap\"}], \"heatmapgl\": [{\"colorbar\": {\"outlinewidth\": 0, \"ticks\": \"\"}, \"colorscale\": [[0.0, \"#0d0887\"], [0.1111111111111111, \"#46039f\"], [0.2222222222222222, \"#7201a8\"], [0.3333333333333333, \"#9c179e\"], [0.4444444444444444, \"#bd3786\"], [0.5555555555555556, \"#d8576b\"], [0.6666666666666666, \"#ed7953\"], [0.7777777777777778, \"#fb9f3a\"], [0.8888888888888888, \"#fdca26\"], [1.0, \"#f0f921\"]], \"type\": \"heatmapgl\"}], \"histogram\": [{\"marker\": {\"colorbar\": {\"outlinewidth\": 0, \"ticks\": \"\"}}, \"type\": \"histogram\"}], \"histogram2d\": [{\"colorbar\": {\"outlinewidth\": 0, \"ticks\": \"\"}, \"colorscale\": [[0.0, \"#0d0887\"], [0.1111111111111111, \"#46039f\"], [0.2222222222222222, \"#7201a8\"], [0.3333333333333333, \"#9c179e\"], [0.4444444444444444, \"#bd3786\"], [0.5555555555555556, \"#d8576b\"], [0.6666666666666666, \"#ed7953\"], [0.7777777777777778, \"#fb9f3a\"], [0.8888888888888888, \"#fdca26\"], [1.0, \"#f0f921\"]], \"type\": \"histogram2d\"}], \"histogram2dcontour\": [{\"colorbar\": {\"outlinewidth\": 0, \"ticks\": \"\"}, \"colorscale\": [[0.0, \"#0d0887\"], [0.1111111111111111, \"#46039f\"], [0.2222222222222222, \"#7201a8\"], [0.3333333333333333, \"#9c179e\"], [0.4444444444444444, \"#bd3786\"], [0.5555555555555556, \"#d8576b\"], [0.6666666666666666, \"#ed7953\"], [0.7777777777777778, \"#fb9f3a\"], [0.8888888888888888, \"#fdca26\"], [1.0, \"#f0f921\"]], \"type\": \"histogram2dcontour\"}], \"mesh3d\": [{\"colorbar\": {\"outlinewidth\": 0, \"ticks\": \"\"}, \"type\": \"mesh3d\"}], \"parcoords\": [{\"line\": {\"colorbar\": {\"outlinewidth\": 0, \"ticks\": \"\"}}, \"type\": \"parcoords\"}], \"pie\": [{\"automargin\": true, \"type\": \"pie\"}], \"scatter\": [{\"marker\": {\"colorbar\": {\"outlinewidth\": 0, \"ticks\": \"\"}}, \"type\": \"scatter\"}], \"scatter3d\": [{\"line\": {\"colorbar\": {\"outlinewidth\": 0, \"ticks\": \"\"}}, \"marker\": {\"colorbar\": {\"outlinewidth\": 0, \"ticks\": \"\"}}, \"type\": \"scatter3d\"}], \"scattercarpet\": [{\"marker\": {\"colorbar\": {\"outlinewidth\": 0, \"ticks\": \"\"}}, \"type\": \"scattercarpet\"}], \"scattergeo\": [{\"marker\": {\"colorbar\": {\"outlinewidth\": 0, \"ticks\": \"\"}}, \"type\": \"scattergeo\"}], \"scattergl\": [{\"marker\": {\"colorbar\": {\"outlinewidth\": 0, \"ticks\": \"\"}}, \"type\": \"scattergl\"}], \"scattermapbox\": [{\"marker\": {\"colorbar\": {\"outlinewidth\": 0, \"ticks\": \"\"}}, \"type\": \"scattermapbox\"}], \"scatterpolar\": [{\"marker\": {\"colorbar\": {\"outlinewidth\": 0, \"ticks\": \"\"}}, \"type\": \"scatterpolar\"}], \"scatterpolargl\": [{\"marker\": {\"colorbar\": {\"outlinewidth\": 0, \"ticks\": \"\"}}, \"type\": \"scatterpolargl\"}], \"scatterternary\": [{\"marker\": {\"colorbar\": {\"outlinewidth\": 0, \"ticks\": \"\"}}, \"type\": \"scatterternary\"}], \"surface\": [{\"colorbar\": {\"outlinewidth\": 0, \"ticks\": \"\"}, \"colorscale\": [[0.0, \"#0d0887\"], [0.1111111111111111, \"#46039f\"], [0.2222222222222222, \"#7201a8\"], [0.3333333333333333, \"#9c179e\"], [0.4444444444444444, \"#bd3786\"], [0.5555555555555556, \"#d8576b\"], [0.6666666666666666, \"#ed7953\"], [0.7777777777777778, \"#fb9f3a\"], [0.8888888888888888, \"#fdca26\"], [1.0, \"#f0f921\"]], \"type\": \"surface\"}], \"table\": [{\"cells\": {\"fill\": {\"color\": \"#EBF0F8\"}, \"line\": {\"color\": \"white\"}}, \"header\": {\"fill\": {\"color\": \"#C8D4E3\"}, \"line\": {\"color\": \"white\"}}, \"type\": \"table\"}]}, \"layout\": {\"annotationdefaults\": {\"arrowcolor\": \"#2a3f5f\", \"arrowhead\": 0, \"arrowwidth\": 1}, \"coloraxis\": {\"colorbar\": {\"outlinewidth\": 0, \"ticks\": \"\"}}, \"colorscale\": {\"diverging\": [[0, \"#8e0152\"], [0.1, \"#c51b7d\"], [0.2, \"#de77ae\"], [0.3, \"#f1b6da\"], [0.4, \"#fde0ef\"], [0.5, \"#f7f7f7\"], [0.6, \"#e6f5d0\"], [0.7, \"#b8e186\"], [0.8, \"#7fbc41\"], [0.9, \"#4d9221\"], [1, \"#276419\"]], \"sequential\": [[0.0, \"#0d0887\"], [0.1111111111111111, \"#46039f\"], [0.2222222222222222, \"#7201a8\"], [0.3333333333333333, \"#9c179e\"], [0.4444444444444444, \"#bd3786\"], [0.5555555555555556, \"#d8576b\"], [0.6666666666666666, \"#ed7953\"], [0.7777777777777778, \"#fb9f3a\"], [0.8888888888888888, \"#fdca26\"], [1.0, \"#f0f921\"]], \"sequentialminus\": [[0.0, \"#0d0887\"], [0.1111111111111111, \"#46039f\"], [0.2222222222222222, \"#7201a8\"], [0.3333333333333333, \"#9c179e\"], [0.4444444444444444, \"#bd3786\"], [0.5555555555555556, \"#d8576b\"], [0.6666666666666666, \"#ed7953\"], [0.7777777777777778, \"#fb9f3a\"], [0.8888888888888888, \"#fdca26\"], [1.0, \"#f0f921\"]]}, \"colorway\": [\"#636efa\", \"#EF553B\", \"#00cc96\", \"#ab63fa\", \"#FFA15A\", \"#19d3f3\", \"#FF6692\", \"#B6E880\", \"#FF97FF\", \"#FECB52\"], \"font\": {\"color\": \"#2a3f5f\"}, \"geo\": {\"bgcolor\": \"white\", \"lakecolor\": \"white\", \"landcolor\": \"#E5ECF6\", \"showlakes\": true, \"showland\": true, \"subunitcolor\": \"white\"}, \"hoverlabel\": {\"align\": \"left\"}, \"hovermode\": \"closest\", \"mapbox\": {\"style\": \"light\"}, \"paper_bgcolor\": \"white\", \"plot_bgcolor\": \"#E5ECF6\", \"polar\": {\"angularaxis\": {\"gridcolor\": \"white\", \"linecolor\": \"white\", \"ticks\": \"\"}, \"bgcolor\": \"#E5ECF6\", \"radialaxis\": {\"gridcolor\": \"white\", \"linecolor\": \"white\", \"ticks\": \"\"}}, \"scene\": {\"xaxis\": {\"backgroundcolor\": \"#E5ECF6\", \"gridcolor\": \"white\", \"gridwidth\": 2, \"linecolor\": \"white\", \"showbackground\": true, \"ticks\": \"\", \"zerolinecolor\": \"white\"}, \"yaxis\": {\"backgroundcolor\": \"#E5ECF6\", \"gridcolor\": \"white\", \"gridwidth\": 2, \"linecolor\": \"white\", \"showbackground\": true, \"ticks\": \"\", \"zerolinecolor\": \"white\"}, \"zaxis\": {\"backgroundcolor\": \"#E5ECF6\", \"gridcolor\": \"white\", \"gridwidth\": 2, \"linecolor\": \"white\", \"showbackground\": true, \"ticks\": \"\", \"zerolinecolor\": \"white\"}}, \"shapedefaults\": {\"line\": {\"color\": \"#2a3f5f\"}}, \"ternary\": {\"aaxis\": {\"gridcolor\": \"white\", \"linecolor\": \"white\", \"ticks\": \"\"}, \"baxis\": {\"gridcolor\": \"white\", \"linecolor\": \"white\", \"ticks\": \"\"}, \"bgcolor\": \"#E5ECF6\", \"caxis\": {\"gridcolor\": \"white\", \"linecolor\": \"white\", \"ticks\": \"\"}}, \"title\": {\"x\": 0.05}, \"xaxis\": {\"automargin\": true, \"gridcolor\": \"white\", \"linecolor\": \"white\", \"ticks\": \"\", \"title\": {\"standoff\": 15}, \"zerolinecolor\": \"white\", \"zerolinewidth\": 2}, \"yaxis\": {\"automargin\": true, \"gridcolor\": \"white\", \"linecolor\": \"white\", \"ticks\": \"\", \"title\": {\"standoff\": 15}, \"zerolinecolor\": \"white\", \"zerolinewidth\": 2}}}, \"title\": {\"text\": \"Device Plots\"}, \"width\": 1000, \"xaxis\": {\"anchor\": \"y\", \"domain\": [0.0, 0.45]}, \"xaxis2\": {\"anchor\": \"y2\", \"domain\": [0.55, 1.0]}, \"xaxis3\": {\"anchor\": \"y3\", \"domain\": [0.0, 0.45]}, \"xaxis4\": {\"anchor\": \"y4\", \"domain\": [0.55, 1.0]}, \"xaxis5\": {\"anchor\": \"y5\", \"domain\": [0.0, 0.45]}, \"xaxis6\": {\"anchor\": \"y6\", \"domain\": [0.55, 1.0]}, \"xaxis7\": {\"anchor\": \"y7\", \"domain\": [0.0, 0.45]}, \"xaxis8\": {\"anchor\": \"y8\", \"domain\": [0.55, 1.0]}, \"yaxis\": {\"anchor\": \"x\", \"domain\": [0.84375, 1.0]}, \"yaxis2\": {\"anchor\": \"x2\", \"domain\": [0.84375, 1.0]}, \"yaxis3\": {\"anchor\": \"x3\", \"domain\": [0.5625, 0.71875]}, \"yaxis4\": {\"anchor\": \"x4\", \"domain\": [0.5625, 0.71875]}, \"yaxis5\": {\"anchor\": \"x5\", \"domain\": [0.28125, 0.4375]}, \"yaxis6\": {\"anchor\": \"x6\", \"domain\": [0.28125, 0.4375]}, \"yaxis7\": {\"anchor\": \"x7\", \"domain\": [0.0, 0.15625]}, \"yaxis8\": {\"anchor\": \"x8\", \"domain\": [0.0, 0.15625]}},\n",
       "                        {\"responsive\": true}\n",
       "                    ).then(function(){\n",
       "                            \n",
       "var gd = document.getElementById('b108f3fb-dbc2-43b1-b2c0-99980b6f77c7');\n",
       "var x = new MutationObserver(function (mutations, observer) {{\n",
       "        var display = window.getComputedStyle(gd).display;\n",
       "        if (!display || display === 'none') {{\n",
       "            console.log([gd, 'removed!']);\n",
       "            Plotly.purge(gd);\n",
       "            observer.disconnect();\n",
       "        }}\n",
       "}});\n",
       "\n",
       "// Listen for the removal of the full notebook cells\n",
       "var notebookContainer = gd.closest('#notebook-container');\n",
       "if (notebookContainer) {{\n",
       "    x.observe(notebookContainer, {childList: true});\n",
       "}}\n",
       "\n",
       "// Listen for the clearing of the current output cell\n",
       "var outputEl = gd.closest('.output');\n",
       "if (outputEl) {{\n",
       "    x.observe(outputEl, {childList: true});\n",
       "}}\n",
       "\n",
       "                        })\n",
       "                };\n",
       "                });\n",
       "            </script>\n",
       "        </div>"
      ]
     },
     "metadata": {},
     "output_type": "display_data"
    }
   ],
   "source": [
    "subplot_titles =[]\n",
    "for c in device:\n",
    "    subplot_titles.append(c+'_COUNT')\n",
    "    subplot_titles.append(c+'_MEAN')\n",
    "\n",
    "fig = plotly.subplots.make_subplots(rows=len(device), cols=2,subplot_titles=subplot_titles)\n",
    "for i in range(len(device)):\n",
    "    fig.append_trace(device_dict[(i+1,1)], i+1, 1)\n",
    "    fig.append_trace(device_dict[(i+1,2)], i+1, 2)\n",
    "fig['layout'].update(height=1200, width=1000, paper_bgcolor='rgb(233,233,233)', title=\"Device Plots\")\n",
    "py.iplot(fig, filename='device-plots')"
   ]
  },
  {
   "cell_type": "markdown",
   "metadata": {},
   "source": [
    " <body>\n",
    "    <h1>Device Observation</h1>\n",
    "  <p style=\"font-size:15px\">We observe that device information provides very meaningful implications for the\n",
    "trasactions. For example, device.Browser column show that transactions are signficantly higher\n",
    "in Chrome in comparison with Internet Expolrer and Safari.</p>\n",
    "   <p style=\"font-size:15px\">For the columns with a few unique values, we just perform one-hot encoding and do the PCA for other\n",
    "columns </p>\n",
    "\n",
    "</body>"
   ]
  },
  {
   "cell_type": "code",
   "execution_count": 16,
   "metadata": {},
   "outputs": [],
   "source": [
    "'''\n",
    "--------------------dimension to use for PCA--------------------\n",
    "\n",
    "'''\n",
    "\n",
    "pca_dim_device = {'device.browser':8, 'device.operatingSystem':8,\n",
    "                 'device.isMobile':2, 'device.deviceCategory':3} "
   ]
  },
  {
   "cell_type": "code",
   "execution_count": 218,
   "metadata": {},
   "outputs": [
    {
     "name": "stdout",
     "output_type": "stream",
     "text": [
      "device.browser number of unique:38 number of null:0.0\n",
      "device.operatingSystem number of unique:18 number of null:0.0\n",
      "device.isMobile number of unique:2 number of null:0.0\n",
      "device.deviceCategory number of unique:3 number of null:0.0\n"
     ]
    }
   ],
   "source": [
    "for c in device:\n",
    "    print(c, 'number of unique:'+ str(train[c].nunique()), 'number of null:' +str(train[c].isnull().sum()/train.shape[0]))"
   ]
  },
  {
   "cell_type": "markdown",
   "metadata": {},
   "source": [
    " <body>\n",
    "  <h1>Principal Component Analysis</h1>\n",
    "  <p style='font-size:15px'>1. we first apply one-hot encoding for categorical columns </p>\n",
    "    <p style='font-size:15px'>2. then, normalize the one-hot encoded columns</p>\n",
    "    <p style='font-size:15px'>3. finally excute the dimension reduction process.</p>\n",
    "</body>\n"
   ]
  },
  {
   "cell_type": "code",
   "execution_count": 17,
   "metadata": {},
   "outputs": [],
   "source": [
    "from sklearn.decomposition import PCA, IncrementalPCA\n",
    "from sklearn.preprocessing import StandardScaler,MinMaxScaler\n",
    "\n",
    "\n",
    "def one_hot_pca(df,column_name,dummy_na,n_comp = None):\n",
    "    # return Numpy array\n",
    "    y = pd.get_dummies(df[column_name], prefix=column_name[:5],dummy_na=dummy_na)\n",
    "    sc = StandardScaler()\n",
    "    y = pd.DataFrame(sc.fit_transform(y),columns = y.columns,index=y.index)\n",
    "    if n_comp:\n",
    "        pca = PCA(n_components = n_comp)\n",
    "    else:\n",
    "        pca = PCA(n_components = 'mle')\n",
    "    y = pd.DataFrame(pca.fit_transform(y), index=y.index,columns=[column_name + str(i) for i in range(n_comp)])\n",
    "    return y\n",
    "    \n",
    "    "
   ]
  },
  {
   "cell_type": "code",
   "execution_count": 18,
   "metadata": {},
   "outputs": [],
   "source": [
    "def one_hot_pca_batch(df,column_name, dummy_na, batch_size,n_comp = None):\n",
    "    # return Numpy array\n",
    "    y = pd.get_dummies(df[column_name], prefix=column_name[:5],dummy_na=dummy_na)\n",
    "    sc = StandardScaler()\n",
    "    y = pd.DataFrame(sc.fit_transform(y),columns = y.columns,index=y.index)\n",
    "    if n_comp:\n",
    "        n_bachtes = batch_size\n",
    "        inc_pca = IncrementalPCA(n_components = n_comp)\n",
    "        for x_batch in np.array_split(y,n_bachtes):\n",
    "            inc_pca.partial_fit(x_batch)\n",
    "    else:\n",
    "        pca = PCA(n_components = 'mle')\n",
    "    y = pd.DataFrame(inc_pca.transform(y), index=y.index,columns=[column_name + str(i) for i in range(n_comp)])\n",
    "    return y"
   ]
  },
  {
   "cell_type": "markdown",
   "metadata": {},
   "source": [
    " <body>\n",
    "  <h1>One_hot encoding</h1>\n",
    "  <p style='font-size:15px'>Rememeber that there are some categorical columns in which we would just perform \n",
    "one_hot encoding instead of PCA </p>\n",
    "    <p style='font-size:15px'> To do one_hot encoding  </p>\n",
    "    <p style='font-size:15px'>\n",
    "1. we first apply one-hot encoding for categorical columns </p>\n",
    "    <p style='font-size:15px'>2. then, normalize the one-hot encoded columns</p>\n",
    "</body>"
   ]
  },
  {
   "cell_type": "code",
   "execution_count": 19,
   "metadata": {},
   "outputs": [],
   "source": [
    "def one_hot(df,column_name,dummy_na):\n",
    "    # return Numpy array\n",
    "    y = pd.get_dummies(df[column_name], prefix=column_name[:5],dummy_na=dummy_na)\n",
    "    sc = StandardScaler()\n",
    "    y = pd.DataFrame(sc.fit_transform(y),columns = y.columns,index=y.index)\n",
    "    return y\n",
    "    "
   ]
  },
  {
   "cell_type": "markdown",
   "metadata": {},
   "source": [
    " <body>\n",
    "  <h1>Normalization</h1>\n",
    "  <p style='font-size:15px'>For the numerical columns we perform standard scalar normilization,i.e.,  </p>\n",
    "    <p style='font-size:15px'> 1. subtract mean </p>\n",
    "    <p style='font-size:15px'>2. and divide by standard deviation.</p>\n",
    "</body>"
   ]
  },
  {
   "cell_type": "code",
   "execution_count": 20,
   "metadata": {},
   "outputs": [],
   "source": [
    "def scale(df,column_name):\n",
    "    # return Numpy array\n",
    "    #df[column_name] = df[column_name].astype(float)\n",
    "    sc = StandardScaler()\n",
    "    df[column_name] = sc.fit_transform(sc.fit_transform(df[[column_name]]))\n",
    "    "
   ]
  },
  {
   "cell_type": "code",
   "execution_count": 21,
   "metadata": {},
   "outputs": [],
   "source": [
    "\n",
    "'''\n",
    "-----------Perform one_hot encoding, PCA and normalization for device columns------------------\n",
    "'''\n",
    "\n",
    "\n",
    "for k,v in pca_dim_device.items():\n",
    "    y = one_hot_pca(train,k,True,v)\n",
    "    train = train.drop(k,axis=1)\n",
    "    train = train.join(y)"
   ]
  },
  {
   "cell_type": "code",
   "execution_count": 22,
   "metadata": {},
   "outputs": [],
   "source": [
    "\n",
    "'''\n",
    "-----------Perform one_hot encoding, PCA and normalization for geoNetwork columns------------------\n",
    "'''\n",
    "\n",
    "for k,v in pca_dim_geoNetwork.items():\n",
    "    y = one_hot_pca(train,k,True,v)\n",
    "    train = train.drop(k,axis=1)\n",
    "    train = train.join(y)"
   ]
  },
  {
   "cell_type": "code",
   "execution_count": 23,
   "metadata": {},
   "outputs": [],
   "source": [
    "\n",
    "'''\n",
    "-----------Perform one_hot encoding, PCA and normalization for traffic source columns------------------\n",
    "'''\n",
    "\n",
    "for k,v in pca_dim_traffic.items():\n",
    "    y = one_hot_pca(train,k,True,v)\n",
    "    train = train.drop(k,axis=1)\n",
    "    train = train.join(y)"
   ]
  },
  {
   "cell_type": "code",
   "execution_count": 24,
   "metadata": {},
   "outputs": [],
   "source": [
    "train = train.drop(['trafficSource.referralPath','trafficSource.keyword',\n",
    "                    'trafficSource.adwordsClickInfo.gclId',\n",
    "                   'geoNetwork.city','geoNetwork.networkDomain',\n",
    "                   'visitStartTime','visitId',\n",
    "                   'date'],axis=1)"
   ]
  },
  {
   "cell_type": "code",
   "execution_count": 25,
   "metadata": {},
   "outputs": [],
   "source": [
    "'''\n",
    "-----------Perform one_hot encoding for the channel Grouping columns------------------\n",
    "'''\n",
    "\n",
    "to_be_one_hot = ['channelGrouping','date_']\n",
    "\n",
    "for c in to_be_one_hot:\n",
    "    y = one_hot(train,c,train[c].isnull().sum() > 1)\n",
    "    train = train.drop(c,axis=1)\n",
    "    train = train.join(y)"
   ]
  },
  {
   "cell_type": "code",
   "execution_count": 26,
   "metadata": {},
   "outputs": [],
   "source": [
    "'''\n",
    "-----------totals columns have numerical values. Change type to float and fill empty values------------------\n",
    "'''\n",
    "\n",
    "\n",
    "\n",
    "train['totals.newVisits'] = train['totals.newVisits'].astype(float)\n",
    "train['totals.newVisits'].fillna(0, inplace=True)\n",
    "train['totals.timeOnSite'] = train['totals.timeOnSite'].astype(float)\n",
    "train['totals.timeOnSite'].fillna(train['totals.timeOnSite'].mean(), inplace=True)\n",
    "train['totals.bounces'] = train['totals.bounces'].astype(float)\n",
    "train['totals.bounces'].fillna(0, inplace=True)\n",
    "train['totals.hits'] = train['totals.hits'].astype(float)\n",
    "train['totals.pageviews'] = train['totals.pageviews'].astype(float)\n",
    "train['totals.pageviews'].fillna(0, inplace=True)\n",
    "train = train.drop(['totals.sessionQualityDim'],axis=1)\n"
   ]
  },
  {
   "cell_type": "code",
   "execution_count": 32,
   "metadata": {},
   "outputs": [],
   "source": [
    "'''\n",
    "-----------------------Normalize numerical values------------------------------\n",
    "'''\n",
    "\n",
    "to_be_scaled = ['visitNumber','totals.hits','totals.pageviews','totals.timeOnSite',\n",
    "                'totals.newVisits',\n",
    "                'totals.transactions',\n",
    "                'totals.transactionRevenue','totals.totalTransactionRevenue','totals.bounces']\n",
    "for c in to_be_scaled:\n",
    "    scale(train,c)"
   ]
  },
  {
   "cell_type": "markdown",
   "metadata": {},
   "source": [
    " <body>\n",
    "  <h1>Summary after feature engineering (Normalization, PCA, One_hot econding etc)</h1>\n",
    "</body>"
   ]
  },
  {
   "cell_type": "code",
   "execution_count": 33,
   "metadata": {
    "scrolled": false
   },
   "outputs": [
    {
     "data": {
      "text/html": [
       "<div>\n",
       "<style scoped>\n",
       "    .dataframe tbody tr th:only-of-type {\n",
       "        vertical-align: middle;\n",
       "    }\n",
       "\n",
       "    .dataframe tbody tr th {\n",
       "        vertical-align: top;\n",
       "    }\n",
       "\n",
       "    .dataframe thead th {\n",
       "        text-align: right;\n",
       "    }\n",
       "</style>\n",
       "<table border=\"1\" class=\"dataframe\">\n",
       "  <thead>\n",
       "    <tr style=\"text-align: right;\">\n",
       "      <th></th>\n",
       "      <th>fullVisitorId</th>\n",
       "      <th>visitNumber</th>\n",
       "      <th>totals.hits</th>\n",
       "      <th>totals.pageviews</th>\n",
       "      <th>totals.bounces</th>\n",
       "      <th>totals.newVisits</th>\n",
       "      <th>totals.timeOnSite</th>\n",
       "      <th>totals.transactions</th>\n",
       "      <th>totals.transactionRevenue</th>\n",
       "      <th>totals.totalTransactionRevenue</th>\n",
       "      <th>device.browser0</th>\n",
       "      <th>device.browser1</th>\n",
       "      <th>device.browser2</th>\n",
       "      <th>device.browser3</th>\n",
       "      <th>device.browser4</th>\n",
       "      <th>device.browser5</th>\n",
       "      <th>device.browser6</th>\n",
       "      <th>device.browser7</th>\n",
       "      <th>device.operatingSystem0</th>\n",
       "      <th>device.operatingSystem1</th>\n",
       "      <th>device.operatingSystem2</th>\n",
       "      <th>device.operatingSystem3</th>\n",
       "      <th>device.operatingSystem4</th>\n",
       "      <th>device.operatingSystem5</th>\n",
       "      <th>device.operatingSystem6</th>\n",
       "      <th>device.operatingSystem7</th>\n",
       "      <th>device.isMobile0</th>\n",
       "      <th>device.isMobile1</th>\n",
       "      <th>device.deviceCategory0</th>\n",
       "      <th>device.deviceCategory1</th>\n",
       "      <th>device.deviceCategory2</th>\n",
       "      <th>geoNetwork.continent0</th>\n",
       "      <th>geoNetwork.continent1</th>\n",
       "      <th>geoNetwork.continent2</th>\n",
       "      <th>geoNetwork.continent3</th>\n",
       "      <th>geoNetwork.continent4</th>\n",
       "      <th>geoNetwork.continent5</th>\n",
       "      <th>geoNetwork.subContinent0</th>\n",
       "      <th>geoNetwork.subContinent1</th>\n",
       "      <th>geoNetwork.subContinent2</th>\n",
       "      <th>geoNetwork.subContinent3</th>\n",
       "      <th>geoNetwork.subContinent4</th>\n",
       "      <th>geoNetwork.subContinent5</th>\n",
       "      <th>geoNetwork.subContinent6</th>\n",
       "      <th>geoNetwork.subContinent7</th>\n",
       "      <th>geoNetwork.subContinent8</th>\n",
       "      <th>geoNetwork.subContinent9</th>\n",
       "      <th>geoNetwork.country0</th>\n",
       "      <th>geoNetwork.country1</th>\n",
       "      <th>geoNetwork.country2</th>\n",
       "      <th>geoNetwork.country3</th>\n",
       "      <th>geoNetwork.country4</th>\n",
       "      <th>geoNetwork.country5</th>\n",
       "      <th>geoNetwork.country6</th>\n",
       "      <th>geoNetwork.country7</th>\n",
       "      <th>geoNetwork.country8</th>\n",
       "      <th>geoNetwork.country9</th>\n",
       "      <th>geoNetwork.region0</th>\n",
       "      <th>geoNetwork.region1</th>\n",
       "      <th>geoNetwork.region2</th>\n",
       "      <th>geoNetwork.region3</th>\n",
       "      <th>geoNetwork.region4</th>\n",
       "      <th>geoNetwork.region5</th>\n",
       "      <th>geoNetwork.region6</th>\n",
       "      <th>geoNetwork.region7</th>\n",
       "      <th>geoNetwork.region8</th>\n",
       "      <th>geoNetwork.region9</th>\n",
       "      <th>geoNetwork.metro0</th>\n",
       "      <th>geoNetwork.metro1</th>\n",
       "      <th>geoNetwork.metro2</th>\n",
       "      <th>geoNetwork.metro3</th>\n",
       "      <th>geoNetwork.metro4</th>\n",
       "      <th>geoNetwork.metro5</th>\n",
       "      <th>geoNetwork.metro6</th>\n",
       "      <th>geoNetwork.metro7</th>\n",
       "      <th>geoNetwork.metro8</th>\n",
       "      <th>geoNetwork.metro9</th>\n",
       "      <th>trafficSource.campaign0</th>\n",
       "      <th>trafficSource.campaign1</th>\n",
       "      <th>trafficSource.campaign2</th>\n",
       "      <th>trafficSource.campaign3</th>\n",
       "      <th>trafficSource.campaign4</th>\n",
       "      <th>trafficSource.campaign5</th>\n",
       "      <th>trafficSource.source0</th>\n",
       "      <th>trafficSource.source1</th>\n",
       "      <th>trafficSource.source2</th>\n",
       "      <th>trafficSource.source3</th>\n",
       "      <th>trafficSource.medium0</th>\n",
       "      <th>trafficSource.medium1</th>\n",
       "      <th>trafficSource.medium2</th>\n",
       "      <th>trafficSource.medium3</th>\n",
       "      <th>trafficSource.medium4</th>\n",
       "      <th>trafficSource.adContent0</th>\n",
       "      <th>trafficSource.adContent1</th>\n",
       "      <th>trafficSource.adwordsClickInfo.page0</th>\n",
       "      <th>trafficSource.adwordsClickInfo.page1</th>\n",
       "      <th>trafficSource.adwordsClickInfo.slot0</th>\n",
       "      <th>trafficSource.adwordsClickInfo.slot1</th>\n",
       "      <th>trafficSource.adwordsClickInfo.slot2</th>\n",
       "      <th>trafficSource.adwordsClickInfo.adNetworkType0</th>\n",
       "      <th>trafficSource.adwordsClickInfo.adNetworkType1</th>\n",
       "      <th>trafficSource.adwordsClickInfo.adNetworkType2</th>\n",
       "      <th>trafficSource.adwordsClickInfo.isVideoAd0</th>\n",
       "      <th>trafficSource.adwordsClickInfo.isVideoAd1</th>\n",
       "      <th>trafficSource.isTrueDirect0</th>\n",
       "      <th>trafficSource.isTrueDirect1</th>\n",
       "      <th>chann_(Other)</th>\n",
       "      <th>chann_Affiliates</th>\n",
       "      <th>chann_Direct</th>\n",
       "      <th>chann_Display</th>\n",
       "      <th>chann_Organic Search</th>\n",
       "      <th>chann_Paid Search</th>\n",
       "      <th>chann_Referral</th>\n",
       "      <th>chann_Social</th>\n",
       "      <th>date__2017-05-01</th>\n",
       "      <th>date__2017-06-01</th>\n",
       "      <th>date__2017-07-01</th>\n",
       "      <th>date__2017-08-01</th>\n",
       "      <th>date__2017-09-01</th>\n",
       "      <th>date__2017-10-01</th>\n",
       "    </tr>\n",
       "  </thead>\n",
       "  <tbody>\n",
       "    <tr>\n",
       "      <th>0</th>\n",
       "      <td>3162355547410993243</td>\n",
       "      <td>-0.142970</td>\n",
       "      <td>-0.386621</td>\n",
       "      <td>-0.421954</td>\n",
       "      <td>0.935653</td>\n",
       "      <td>0.569154</td>\n",
       "      <td>8.692996e-18</td>\n",
       "      <td>-0.108285</td>\n",
       "      <td>-0.031169</td>\n",
       "      <td>-0.0231</td>\n",
       "      <td>1.819898</td>\n",
       "      <td>-2.927731</td>\n",
       "      <td>2.141954</td>\n",
       "      <td>0.683791</td>\n",
       "      <td>0.193770</td>\n",
       "      <td>-0.217127</td>\n",
       "      <td>-0.095390</td>\n",
       "      <td>0.391613</td>\n",
       "      <td>1.680658</td>\n",
       "      <td>-0.077053</td>\n",
       "      <td>-0.188761</td>\n",
       "      <td>-0.155850</td>\n",
       "      <td>-0.037446</td>\n",
       "      <td>-0.029716</td>\n",
       "      <td>-0.011847</td>\n",
       "      <td>-0.005134</td>\n",
       "      <td>-1.109615</td>\n",
       "      <td>9.210633e-27</td>\n",
       "      <td>-1.073211</td>\n",
       "      <td>-0.118148</td>\n",
       "      <td>4.479896e-13</td>\n",
       "      <td>1.489365</td>\n",
       "      <td>-1.718999</td>\n",
       "      <td>-0.335984</td>\n",
       "      <td>-0.059062</td>\n",
       "      <td>-0.032320</td>\n",
       "      <td>9.824930e-12</td>\n",
       "      <td>1.337288</td>\n",
       "      <td>0.372655</td>\n",
       "      <td>-2.351502</td>\n",
       "      <td>-2.426981</td>\n",
       "      <td>1.023501</td>\n",
       "      <td>-0.623860</td>\n",
       "      <td>0.005997</td>\n",
       "      <td>-0.058253</td>\n",
       "      <td>0.184349</td>\n",
       "      <td>-0.107863</td>\n",
       "      <td>1.279311</td>\n",
       "      <td>-0.369856</td>\n",
       "      <td>0.685697</td>\n",
       "      <td>-0.487179</td>\n",
       "      <td>-1.438397</td>\n",
       "      <td>0.041256</td>\n",
       "      <td>0.398508</td>\n",
       "      <td>-1.252007</td>\n",
       "      <td>-0.405638</td>\n",
       "      <td>-0.130949</td>\n",
       "      <td>-1.127455</td>\n",
       "      <td>-0.042214</td>\n",
       "      <td>0.000409</td>\n",
       "      <td>-0.00409</td>\n",
       "      <td>0.000088</td>\n",
       "      <td>0.001441</td>\n",
       "      <td>0.000232</td>\n",
       "      <td>0.000916</td>\n",
       "      <td>-0.000258</td>\n",
       "      <td>-0.000720</td>\n",
       "      <td>-1.125112</td>\n",
       "      <td>-0.094864</td>\n",
       "      <td>0.033667</td>\n",
       "      <td>0.005023</td>\n",
       "      <td>-0.011874</td>\n",
       "      <td>-0.004389</td>\n",
       "      <td>-0.001103</td>\n",
       "      <td>-0.002154</td>\n",
       "      <td>-0.000026</td>\n",
       "      <td>-0.003504</td>\n",
       "      <td>-0.498572</td>\n",
       "      <td>-0.00345</td>\n",
       "      <td>-0.002724</td>\n",
       "      <td>0.000687</td>\n",
       "      <td>-0.001603</td>\n",
       "      <td>0.00059</td>\n",
       "      <td>-1.175037</td>\n",
       "      <td>0.137448</td>\n",
       "      <td>-0.020991</td>\n",
       "      <td>0.002437</td>\n",
       "      <td>-1.361062</td>\n",
       "      <td>-0.326569</td>\n",
       "      <td>-0.079705</td>\n",
       "      <td>-0.054637</td>\n",
       "      <td>-0.020767</td>\n",
       "      <td>-0.425892</td>\n",
       "      <td>0.004821</td>\n",
       "      <td>-0.468835</td>\n",
       "      <td>-0.002795</td>\n",
       "      <td>-0.464067</td>\n",
       "      <td>-0.007767</td>\n",
       "      <td>3.113583e-10</td>\n",
       "      <td>-0.464018</td>\n",
       "      <td>-0.007659</td>\n",
       "      <td>-0.00008</td>\n",
       "      <td>-0.469012</td>\n",
       "      <td>9.265650e-14</td>\n",
       "      <td>-0.981890</td>\n",
       "      <td>1.528529e-13</td>\n",
       "      <td>-0.004108</td>\n",
       "      <td>-0.1374</td>\n",
       "      <td>-0.441296</td>\n",
       "      <td>-0.291465</td>\n",
       "      <td>1.023541</td>\n",
       "      <td>-0.177812</td>\n",
       "      <td>-0.373379</td>\n",
       "      <td>-0.331077</td>\n",
       "      <td>-0.39991</td>\n",
       "      <td>-0.393525</td>\n",
       "      <td>-0.422491</td>\n",
       "      <td>-0.466712</td>\n",
       "      <td>-0.474979</td>\n",
       "      <td>1.918604</td>\n",
       "    </tr>\n",
       "    <tr>\n",
       "      <th>1</th>\n",
       "      <td>8934116514970143966</td>\n",
       "      <td>0.454193</td>\n",
       "      <td>-0.268495</td>\n",
       "      <td>-0.258201</td>\n",
       "      <td>-1.068773</td>\n",
       "      <td>-1.756994</td>\n",
       "      <td>-7.459256e-01</td>\n",
       "      <td>-0.108285</td>\n",
       "      <td>-0.031169</td>\n",
       "      <td>-0.0231</td>\n",
       "      <td>-0.876392</td>\n",
       "      <td>0.056055</td>\n",
       "      <td>0.011706</td>\n",
       "      <td>0.002903</td>\n",
       "      <td>-0.000656</td>\n",
       "      <td>-0.000775</td>\n",
       "      <td>-0.000077</td>\n",
       "      <td>0.002348</td>\n",
       "      <td>-0.336498</td>\n",
       "      <td>0.064134</td>\n",
       "      <td>0.282601</td>\n",
       "      <td>2.622491</td>\n",
       "      <td>5.086982</td>\n",
       "      <td>-0.583103</td>\n",
       "      <td>-0.188883</td>\n",
       "      <td>-0.080958</td>\n",
       "      <td>-1.109615</td>\n",
       "      <td>-9.837069e-33</td>\n",
       "      <td>-1.073211</td>\n",
       "      <td>-0.118148</td>\n",
       "      <td>2.120298e-13</td>\n",
       "      <td>-1.169121</td>\n",
       "      <td>-0.006282</td>\n",
       "      <td>-0.065484</td>\n",
       "      <td>-0.012162</td>\n",
       "      <td>-0.006943</td>\n",
       "      <td>-1.221610e-12</td>\n",
       "      <td>-1.244566</td>\n",
       "      <td>0.001734</td>\n",
       "      <td>0.006543</td>\n",
       "      <td>-0.016647</td>\n",
       "      <td>0.009101</td>\n",
       "      <td>-0.018378</td>\n",
       "      <td>-0.002107</td>\n",
       "      <td>-0.001058</td>\n",
       "      <td>0.011141</td>\n",
       "      <td>-0.007545</td>\n",
       "      <td>-1.272838</td>\n",
       "      <td>-0.009620</td>\n",
       "      <td>0.009125</td>\n",
       "      <td>-0.002947</td>\n",
       "      <td>-0.000539</td>\n",
       "      <td>-0.000067</td>\n",
       "      <td>0.001875</td>\n",
       "      <td>0.000506</td>\n",
       "      <td>0.000707</td>\n",
       "      <td>0.000612</td>\n",
       "      <td>1.616014</td>\n",
       "      <td>-1.089382</td>\n",
       "      <td>-0.017959</td>\n",
       "      <td>-0.03455</td>\n",
       "      <td>0.003964</td>\n",
       "      <td>0.002864</td>\n",
       "      <td>-0.001808</td>\n",
       "      <td>0.010489</td>\n",
       "      <td>-0.001861</td>\n",
       "      <td>-0.007576</td>\n",
       "      <td>1.234288</td>\n",
       "      <td>1.559074</td>\n",
       "      <td>0.702201</td>\n",
       "      <td>0.077030</td>\n",
       "      <td>-0.141315</td>\n",
       "      <td>-0.055381</td>\n",
       "      <td>-0.012098</td>\n",
       "      <td>-0.021863</td>\n",
       "      <td>0.002774</td>\n",
       "      <td>-0.039474</td>\n",
       "      <td>-0.498572</td>\n",
       "      <td>-0.00345</td>\n",
       "      <td>-0.002724</td>\n",
       "      <td>0.000687</td>\n",
       "      <td>-0.001603</td>\n",
       "      <td>0.00059</td>\n",
       "      <td>1.001955</td>\n",
       "      <td>-1.230132</td>\n",
       "      <td>1.574007</td>\n",
       "      <td>-1.492756</td>\n",
       "      <td>0.638626</td>\n",
       "      <td>2.195820</td>\n",
       "      <td>-1.451083</td>\n",
       "      <td>-0.302310</td>\n",
       "      <td>-0.104759</td>\n",
       "      <td>-0.425892</td>\n",
       "      <td>0.004821</td>\n",
       "      <td>-0.468835</td>\n",
       "      <td>-0.002795</td>\n",
       "      <td>-0.464067</td>\n",
       "      <td>-0.007767</td>\n",
       "      <td>2.108837e-10</td>\n",
       "      <td>-0.464018</td>\n",
       "      <td>-0.007659</td>\n",
       "      <td>-0.00008</td>\n",
       "      <td>-0.469012</td>\n",
       "      <td>1.495634e-17</td>\n",
       "      <td>-0.981890</td>\n",
       "      <td>4.288801e-17</td>\n",
       "      <td>-0.004108</td>\n",
       "      <td>-0.1374</td>\n",
       "      <td>-0.441296</td>\n",
       "      <td>-0.291465</td>\n",
       "      <td>-0.977000</td>\n",
       "      <td>-0.177812</td>\n",
       "      <td>2.678246</td>\n",
       "      <td>-0.331077</td>\n",
       "      <td>-0.39991</td>\n",
       "      <td>-0.393525</td>\n",
       "      <td>-0.422491</td>\n",
       "      <td>-0.466712</td>\n",
       "      <td>-0.474979</td>\n",
       "      <td>1.918604</td>\n",
       "    </tr>\n",
       "    <tr>\n",
       "      <th>2</th>\n",
       "      <td>7992466427990357681</td>\n",
       "      <td>-0.142970</td>\n",
       "      <td>-0.268495</td>\n",
       "      <td>-0.258201</td>\n",
       "      <td>-1.068773</td>\n",
       "      <td>0.569154</td>\n",
       "      <td>-7.160812e-01</td>\n",
       "      <td>-0.108285</td>\n",
       "      <td>-0.031169</td>\n",
       "      <td>-0.0231</td>\n",
       "      <td>-0.876392</td>\n",
       "      <td>0.056055</td>\n",
       "      <td>0.011706</td>\n",
       "      <td>0.002903</td>\n",
       "      <td>-0.000656</td>\n",
       "      <td>-0.000775</td>\n",
       "      <td>-0.000077</td>\n",
       "      <td>0.002348</td>\n",
       "      <td>-0.911337</td>\n",
       "      <td>1.732024</td>\n",
       "      <td>-0.904754</td>\n",
       "      <td>-0.313365</td>\n",
       "      <td>-0.071728</td>\n",
       "      <td>-0.054057</td>\n",
       "      <td>-0.021334</td>\n",
       "      <td>-0.009240</td>\n",
       "      <td>1.802426</td>\n",
       "      <td>-5.875874e-31</td>\n",
       "      <td>1.865423</td>\n",
       "      <td>-0.441944</td>\n",
       "      <td>3.745494e-17</td>\n",
       "      <td>-1.169121</td>\n",
       "      <td>-0.006282</td>\n",
       "      <td>-0.065484</td>\n",
       "      <td>-0.012162</td>\n",
       "      <td>-0.006943</td>\n",
       "      <td>1.353969e-10</td>\n",
       "      <td>-1.244566</td>\n",
       "      <td>0.001734</td>\n",
       "      <td>0.006543</td>\n",
       "      <td>-0.016647</td>\n",
       "      <td>0.009101</td>\n",
       "      <td>-0.018378</td>\n",
       "      <td>-0.002107</td>\n",
       "      <td>-0.001058</td>\n",
       "      <td>0.011141</td>\n",
       "      <td>-0.007545</td>\n",
       "      <td>-1.272838</td>\n",
       "      <td>-0.009620</td>\n",
       "      <td>0.009125</td>\n",
       "      <td>-0.002947</td>\n",
       "      <td>-0.000539</td>\n",
       "      <td>-0.000067</td>\n",
       "      <td>0.001875</td>\n",
       "      <td>0.000506</td>\n",
       "      <td>0.000707</td>\n",
       "      <td>0.000612</td>\n",
       "      <td>-1.127455</td>\n",
       "      <td>-0.042214</td>\n",
       "      <td>0.000409</td>\n",
       "      <td>-0.00409</td>\n",
       "      <td>0.000088</td>\n",
       "      <td>0.001441</td>\n",
       "      <td>0.000232</td>\n",
       "      <td>0.000916</td>\n",
       "      <td>-0.000258</td>\n",
       "      <td>-0.000720</td>\n",
       "      <td>-1.125112</td>\n",
       "      <td>-0.094864</td>\n",
       "      <td>0.033667</td>\n",
       "      <td>0.005023</td>\n",
       "      <td>-0.011874</td>\n",
       "      <td>-0.004389</td>\n",
       "      <td>-0.001103</td>\n",
       "      <td>-0.002154</td>\n",
       "      <td>-0.000026</td>\n",
       "      <td>-0.003504</td>\n",
       "      <td>-0.498572</td>\n",
       "      <td>-0.00345</td>\n",
       "      <td>-0.002724</td>\n",
       "      <td>0.000687</td>\n",
       "      <td>-0.001603</td>\n",
       "      <td>0.00059</td>\n",
       "      <td>1.708333</td>\n",
       "      <td>0.544903</td>\n",
       "      <td>-0.061165</td>\n",
       "      <td>0.007623</td>\n",
       "      <td>1.522725</td>\n",
       "      <td>-1.069912</td>\n",
       "      <td>-0.186052</td>\n",
       "      <td>-0.108301</td>\n",
       "      <td>-0.040318</td>\n",
       "      <td>-0.425892</td>\n",
       "      <td>0.004821</td>\n",
       "      <td>-0.468835</td>\n",
       "      <td>-0.002795</td>\n",
       "      <td>-0.464067</td>\n",
       "      <td>-0.007767</td>\n",
       "      <td>7.874439e-14</td>\n",
       "      <td>-0.464018</td>\n",
       "      <td>-0.007659</td>\n",
       "      <td>-0.00008</td>\n",
       "      <td>-0.469012</td>\n",
       "      <td>1.495634e-17</td>\n",
       "      <td>2.036887</td>\n",
       "      <td>4.336568e-17</td>\n",
       "      <td>-0.004108</td>\n",
       "      <td>-0.1374</td>\n",
       "      <td>2.266051</td>\n",
       "      <td>-0.291465</td>\n",
       "      <td>-0.977000</td>\n",
       "      <td>-0.177812</td>\n",
       "      <td>-0.373379</td>\n",
       "      <td>-0.331077</td>\n",
       "      <td>-0.39991</td>\n",
       "      <td>-0.393525</td>\n",
       "      <td>-0.422491</td>\n",
       "      <td>-0.466712</td>\n",
       "      <td>-0.474979</td>\n",
       "      <td>1.918604</td>\n",
       "    </tr>\n",
       "    <tr>\n",
       "      <th>3</th>\n",
       "      <td>9075655783635761930</td>\n",
       "      <td>-0.142970</td>\n",
       "      <td>-0.268495</td>\n",
       "      <td>-0.258201</td>\n",
       "      <td>-1.068773</td>\n",
       "      <td>0.569154</td>\n",
       "      <td>-8.265056e-01</td>\n",
       "      <td>-0.108285</td>\n",
       "      <td>-0.031169</td>\n",
       "      <td>-0.0231</td>\n",
       "      <td>-0.876392</td>\n",
       "      <td>0.056055</td>\n",
       "      <td>0.011706</td>\n",
       "      <td>0.002903</td>\n",
       "      <td>-0.000656</td>\n",
       "      <td>-0.000775</td>\n",
       "      <td>-0.000077</td>\n",
       "      <td>0.002348</td>\n",
       "      <td>1.680658</td>\n",
       "      <td>-0.077053</td>\n",
       "      <td>-0.188761</td>\n",
       "      <td>-0.155850</td>\n",
       "      <td>-0.037446</td>\n",
       "      <td>-0.029716</td>\n",
       "      <td>-0.011847</td>\n",
       "      <td>-0.005134</td>\n",
       "      <td>-1.109615</td>\n",
       "      <td>-8.708557e-33</td>\n",
       "      <td>-1.073211</td>\n",
       "      <td>-0.118148</td>\n",
       "      <td>1.520452e-14</td>\n",
       "      <td>1.465265</td>\n",
       "      <td>1.768479</td>\n",
       "      <td>-0.346332</td>\n",
       "      <td>-0.060757</td>\n",
       "      <td>-0.033198</td>\n",
       "      <td>1.429378e-10</td>\n",
       "      <td>1.129830</td>\n",
       "      <td>-0.018332</td>\n",
       "      <td>-0.122302</td>\n",
       "      <td>0.264308</td>\n",
       "      <td>0.402983</td>\n",
       "      <td>0.772233</td>\n",
       "      <td>0.230508</td>\n",
       "      <td>3.013123</td>\n",
       "      <td>-5.189582</td>\n",
       "      <td>-0.952707</td>\n",
       "      <td>1.022105</td>\n",
       "      <td>0.345498</td>\n",
       "      <td>0.636013</td>\n",
       "      <td>0.230830</td>\n",
       "      <td>0.864831</td>\n",
       "      <td>0.652089</td>\n",
       "      <td>-0.322274</td>\n",
       "      <td>1.064102</td>\n",
       "      <td>-0.407231</td>\n",
       "      <td>0.480647</td>\n",
       "      <td>-1.127455</td>\n",
       "      <td>-0.042214</td>\n",
       "      <td>0.000409</td>\n",
       "      <td>-0.00409</td>\n",
       "      <td>0.000088</td>\n",
       "      <td>0.001441</td>\n",
       "      <td>0.000232</td>\n",
       "      <td>0.000916</td>\n",
       "      <td>-0.000258</td>\n",
       "      <td>-0.000720</td>\n",
       "      <td>-1.125112</td>\n",
       "      <td>-0.094864</td>\n",
       "      <td>0.033667</td>\n",
       "      <td>0.005023</td>\n",
       "      <td>-0.011874</td>\n",
       "      <td>-0.004389</td>\n",
       "      <td>-0.001103</td>\n",
       "      <td>-0.002154</td>\n",
       "      <td>-0.000026</td>\n",
       "      <td>-0.003504</td>\n",
       "      <td>-0.498572</td>\n",
       "      <td>-0.00345</td>\n",
       "      <td>-0.002724</td>\n",
       "      <td>0.000687</td>\n",
       "      <td>-0.001603</td>\n",
       "      <td>0.00059</td>\n",
       "      <td>-1.175037</td>\n",
       "      <td>0.137448</td>\n",
       "      <td>-0.020991</td>\n",
       "      <td>0.002437</td>\n",
       "      <td>-1.361062</td>\n",
       "      <td>-0.326569</td>\n",
       "      <td>-0.079705</td>\n",
       "      <td>-0.054637</td>\n",
       "      <td>-0.020767</td>\n",
       "      <td>-0.425892</td>\n",
       "      <td>0.004821</td>\n",
       "      <td>-0.468835</td>\n",
       "      <td>-0.002795</td>\n",
       "      <td>-0.464067</td>\n",
       "      <td>-0.007767</td>\n",
       "      <td>7.874439e-14</td>\n",
       "      <td>-0.464018</td>\n",
       "      <td>-0.007659</td>\n",
       "      <td>-0.00008</td>\n",
       "      <td>-0.469012</td>\n",
       "      <td>1.495634e-17</td>\n",
       "      <td>-0.981890</td>\n",
       "      <td>4.288801e-17</td>\n",
       "      <td>-0.004108</td>\n",
       "      <td>-0.1374</td>\n",
       "      <td>-0.441296</td>\n",
       "      <td>-0.291465</td>\n",
       "      <td>1.023541</td>\n",
       "      <td>-0.177812</td>\n",
       "      <td>-0.373379</td>\n",
       "      <td>-0.331077</td>\n",
       "      <td>-0.39991</td>\n",
       "      <td>-0.393525</td>\n",
       "      <td>-0.422491</td>\n",
       "      <td>-0.466712</td>\n",
       "      <td>-0.474979</td>\n",
       "      <td>1.918604</td>\n",
       "    </tr>\n",
       "    <tr>\n",
       "      <th>4</th>\n",
       "      <td>6960673291025684308</td>\n",
       "      <td>-0.142970</td>\n",
       "      <td>-0.268495</td>\n",
       "      <td>-0.258201</td>\n",
       "      <td>-1.068773</td>\n",
       "      <td>0.569154</td>\n",
       "      <td>-6.742990e-01</td>\n",
       "      <td>-0.108285</td>\n",
       "      <td>-0.031169</td>\n",
       "      <td>-0.0231</td>\n",
       "      <td>-0.876392</td>\n",
       "      <td>0.056055</td>\n",
       "      <td>0.011706</td>\n",
       "      <td>0.002903</td>\n",
       "      <td>-0.000656</td>\n",
       "      <td>-0.000775</td>\n",
       "      <td>-0.000077</td>\n",
       "      <td>0.002348</td>\n",
       "      <td>1.680658</td>\n",
       "      <td>-0.077053</td>\n",
       "      <td>-0.188761</td>\n",
       "      <td>-0.155850</td>\n",
       "      <td>-0.037446</td>\n",
       "      <td>-0.029716</td>\n",
       "      <td>-0.011847</td>\n",
       "      <td>-0.005134</td>\n",
       "      <td>-1.109615</td>\n",
       "      <td>-8.708557e-33</td>\n",
       "      <td>-1.073211</td>\n",
       "      <td>-0.118148</td>\n",
       "      <td>1.930043e-17</td>\n",
       "      <td>-1.169121</td>\n",
       "      <td>-0.006282</td>\n",
       "      <td>-0.065484</td>\n",
       "      <td>-0.012162</td>\n",
       "      <td>-0.006943</td>\n",
       "      <td>4.074713e-11</td>\n",
       "      <td>1.203751</td>\n",
       "      <td>0.065072</td>\n",
       "      <td>0.022227</td>\n",
       "      <td>0.506842</td>\n",
       "      <td>-0.196474</td>\n",
       "      <td>0.513031</td>\n",
       "      <td>-0.024885</td>\n",
       "      <td>1.063248</td>\n",
       "      <td>-0.144125</td>\n",
       "      <td>7.396341</td>\n",
       "      <td>1.461666</td>\n",
       "      <td>0.877459</td>\n",
       "      <td>-0.717919</td>\n",
       "      <td>0.010873</td>\n",
       "      <td>0.140019</td>\n",
       "      <td>0.830000</td>\n",
       "      <td>0.435859</td>\n",
       "      <td>0.919181</td>\n",
       "      <td>0.206864</td>\n",
       "      <td>-0.558053</td>\n",
       "      <td>-1.127455</td>\n",
       "      <td>-0.042214</td>\n",
       "      <td>0.000409</td>\n",
       "      <td>-0.00409</td>\n",
       "      <td>0.000088</td>\n",
       "      <td>0.001441</td>\n",
       "      <td>0.000232</td>\n",
       "      <td>0.000916</td>\n",
       "      <td>-0.000258</td>\n",
       "      <td>-0.000720</td>\n",
       "      <td>-1.125112</td>\n",
       "      <td>-0.094864</td>\n",
       "      <td>0.033667</td>\n",
       "      <td>0.005023</td>\n",
       "      <td>-0.011874</td>\n",
       "      <td>-0.004389</td>\n",
       "      <td>-0.001103</td>\n",
       "      <td>-0.002154</td>\n",
       "      <td>-0.000026</td>\n",
       "      <td>-0.003504</td>\n",
       "      <td>-0.498572</td>\n",
       "      <td>-0.00345</td>\n",
       "      <td>-0.002724</td>\n",
       "      <td>0.000687</td>\n",
       "      <td>-0.001603</td>\n",
       "      <td>0.00059</td>\n",
       "      <td>-1.175037</td>\n",
       "      <td>0.137448</td>\n",
       "      <td>-0.020991</td>\n",
       "      <td>0.002437</td>\n",
       "      <td>-1.361062</td>\n",
       "      <td>-0.326569</td>\n",
       "      <td>-0.079705</td>\n",
       "      <td>-0.054637</td>\n",
       "      <td>-0.020767</td>\n",
       "      <td>-0.425892</td>\n",
       "      <td>0.004821</td>\n",
       "      <td>-0.468835</td>\n",
       "      <td>-0.002795</td>\n",
       "      <td>-0.464067</td>\n",
       "      <td>-0.007767</td>\n",
       "      <td>7.874439e-14</td>\n",
       "      <td>-0.464018</td>\n",
       "      <td>-0.007659</td>\n",
       "      <td>-0.00008</td>\n",
       "      <td>-0.469012</td>\n",
       "      <td>1.495634e-17</td>\n",
       "      <td>-0.981890</td>\n",
       "      <td>4.288801e-17</td>\n",
       "      <td>-0.004108</td>\n",
       "      <td>-0.1374</td>\n",
       "      <td>-0.441296</td>\n",
       "      <td>-0.291465</td>\n",
       "      <td>1.023541</td>\n",
       "      <td>-0.177812</td>\n",
       "      <td>-0.373379</td>\n",
       "      <td>-0.331077</td>\n",
       "      <td>-0.39991</td>\n",
       "      <td>-0.393525</td>\n",
       "      <td>-0.422491</td>\n",
       "      <td>-0.466712</td>\n",
       "      <td>-0.474979</td>\n",
       "      <td>1.918604</td>\n",
       "    </tr>\n",
       "  </tbody>\n",
       "</table>\n",
       "</div>"
      ],
      "text/plain": [
       "         fullVisitorId  visitNumber  totals.hits  totals.pageviews  \\\n",
       "0  3162355547410993243    -0.142970    -0.386621         -0.421954   \n",
       "1  8934116514970143966     0.454193    -0.268495         -0.258201   \n",
       "2  7992466427990357681    -0.142970    -0.268495         -0.258201   \n",
       "3  9075655783635761930    -0.142970    -0.268495         -0.258201   \n",
       "4  6960673291025684308    -0.142970    -0.268495         -0.258201   \n",
       "\n",
       "   totals.bounces  totals.newVisits  totals.timeOnSite  totals.transactions  \\\n",
       "0        0.935653          0.569154       8.692996e-18            -0.108285   \n",
       "1       -1.068773         -1.756994      -7.459256e-01            -0.108285   \n",
       "2       -1.068773          0.569154      -7.160812e-01            -0.108285   \n",
       "3       -1.068773          0.569154      -8.265056e-01            -0.108285   \n",
       "4       -1.068773          0.569154      -6.742990e-01            -0.108285   \n",
       "\n",
       "   totals.transactionRevenue  totals.totalTransactionRevenue  device.browser0  \\\n",
       "0                  -0.031169                         -0.0231         1.819898   \n",
       "1                  -0.031169                         -0.0231        -0.876392   \n",
       "2                  -0.031169                         -0.0231        -0.876392   \n",
       "3                  -0.031169                         -0.0231        -0.876392   \n",
       "4                  -0.031169                         -0.0231        -0.876392   \n",
       "\n",
       "   device.browser1  device.browser2  device.browser3  device.browser4  \\\n",
       "0        -2.927731         2.141954         0.683791         0.193770   \n",
       "1         0.056055         0.011706         0.002903        -0.000656   \n",
       "2         0.056055         0.011706         0.002903        -0.000656   \n",
       "3         0.056055         0.011706         0.002903        -0.000656   \n",
       "4         0.056055         0.011706         0.002903        -0.000656   \n",
       "\n",
       "   device.browser5  device.browser6  device.browser7  device.operatingSystem0  \\\n",
       "0        -0.217127        -0.095390         0.391613                 1.680658   \n",
       "1        -0.000775        -0.000077         0.002348                -0.336498   \n",
       "2        -0.000775        -0.000077         0.002348                -0.911337   \n",
       "3        -0.000775        -0.000077         0.002348                 1.680658   \n",
       "4        -0.000775        -0.000077         0.002348                 1.680658   \n",
       "\n",
       "   device.operatingSystem1  device.operatingSystem2  device.operatingSystem3  \\\n",
       "0                -0.077053                -0.188761                -0.155850   \n",
       "1                 0.064134                 0.282601                 2.622491   \n",
       "2                 1.732024                -0.904754                -0.313365   \n",
       "3                -0.077053                -0.188761                -0.155850   \n",
       "4                -0.077053                -0.188761                -0.155850   \n",
       "\n",
       "   device.operatingSystem4  device.operatingSystem5  device.operatingSystem6  \\\n",
       "0                -0.037446                -0.029716                -0.011847   \n",
       "1                 5.086982                -0.583103                -0.188883   \n",
       "2                -0.071728                -0.054057                -0.021334   \n",
       "3                -0.037446                -0.029716                -0.011847   \n",
       "4                -0.037446                -0.029716                -0.011847   \n",
       "\n",
       "   device.operatingSystem7  device.isMobile0  device.isMobile1  \\\n",
       "0                -0.005134         -1.109615      9.210633e-27   \n",
       "1                -0.080958         -1.109615     -9.837069e-33   \n",
       "2                -0.009240          1.802426     -5.875874e-31   \n",
       "3                -0.005134         -1.109615     -8.708557e-33   \n",
       "4                -0.005134         -1.109615     -8.708557e-33   \n",
       "\n",
       "   device.deviceCategory0  device.deviceCategory1  device.deviceCategory2  \\\n",
       "0               -1.073211               -0.118148            4.479896e-13   \n",
       "1               -1.073211               -0.118148            2.120298e-13   \n",
       "2                1.865423               -0.441944            3.745494e-17   \n",
       "3               -1.073211               -0.118148            1.520452e-14   \n",
       "4               -1.073211               -0.118148            1.930043e-17   \n",
       "\n",
       "   geoNetwork.continent0  geoNetwork.continent1  geoNetwork.continent2  \\\n",
       "0               1.489365              -1.718999              -0.335984   \n",
       "1              -1.169121              -0.006282              -0.065484   \n",
       "2              -1.169121              -0.006282              -0.065484   \n",
       "3               1.465265               1.768479              -0.346332   \n",
       "4              -1.169121              -0.006282              -0.065484   \n",
       "\n",
       "   geoNetwork.continent3  geoNetwork.continent4  geoNetwork.continent5  \\\n",
       "0              -0.059062              -0.032320           9.824930e-12   \n",
       "1              -0.012162              -0.006943          -1.221610e-12   \n",
       "2              -0.012162              -0.006943           1.353969e-10   \n",
       "3              -0.060757              -0.033198           1.429378e-10   \n",
       "4              -0.012162              -0.006943           4.074713e-11   \n",
       "\n",
       "   geoNetwork.subContinent0  geoNetwork.subContinent1  \\\n",
       "0                  1.337288                  0.372655   \n",
       "1                 -1.244566                  0.001734   \n",
       "2                 -1.244566                  0.001734   \n",
       "3                  1.129830                 -0.018332   \n",
       "4                  1.203751                  0.065072   \n",
       "\n",
       "   geoNetwork.subContinent2  geoNetwork.subContinent3  \\\n",
       "0                 -2.351502                 -2.426981   \n",
       "1                  0.006543                 -0.016647   \n",
       "2                  0.006543                 -0.016647   \n",
       "3                 -0.122302                  0.264308   \n",
       "4                  0.022227                  0.506842   \n",
       "\n",
       "   geoNetwork.subContinent4  geoNetwork.subContinent5  \\\n",
       "0                  1.023501                 -0.623860   \n",
       "1                  0.009101                 -0.018378   \n",
       "2                  0.009101                 -0.018378   \n",
       "3                  0.402983                  0.772233   \n",
       "4                 -0.196474                  0.513031   \n",
       "\n",
       "   geoNetwork.subContinent6  geoNetwork.subContinent7  \\\n",
       "0                  0.005997                 -0.058253   \n",
       "1                 -0.002107                 -0.001058   \n",
       "2                 -0.002107                 -0.001058   \n",
       "3                  0.230508                  3.013123   \n",
       "4                 -0.024885                  1.063248   \n",
       "\n",
       "   geoNetwork.subContinent8  geoNetwork.subContinent9  geoNetwork.country0  \\\n",
       "0                  0.184349                 -0.107863             1.279311   \n",
       "1                  0.011141                 -0.007545            -1.272838   \n",
       "2                  0.011141                 -0.007545            -1.272838   \n",
       "3                 -5.189582                 -0.952707             1.022105   \n",
       "4                 -0.144125                  7.396341             1.461666   \n",
       "\n",
       "   geoNetwork.country1  geoNetwork.country2  geoNetwork.country3  \\\n",
       "0            -0.369856             0.685697            -0.487179   \n",
       "1            -0.009620             0.009125            -0.002947   \n",
       "2            -0.009620             0.009125            -0.002947   \n",
       "3             0.345498             0.636013             0.230830   \n",
       "4             0.877459            -0.717919             0.010873   \n",
       "\n",
       "   geoNetwork.country4  geoNetwork.country5  geoNetwork.country6  \\\n",
       "0            -1.438397             0.041256             0.398508   \n",
       "1            -0.000539            -0.000067             0.001875   \n",
       "2            -0.000539            -0.000067             0.001875   \n",
       "3             0.864831             0.652089            -0.322274   \n",
       "4             0.140019             0.830000             0.435859   \n",
       "\n",
       "   geoNetwork.country7  geoNetwork.country8  geoNetwork.country9  \\\n",
       "0            -1.252007            -0.405638            -0.130949   \n",
       "1             0.000506             0.000707             0.000612   \n",
       "2             0.000506             0.000707             0.000612   \n",
       "3             1.064102            -0.407231             0.480647   \n",
       "4             0.919181             0.206864            -0.558053   \n",
       "\n",
       "   geoNetwork.region0  geoNetwork.region1  geoNetwork.region2  \\\n",
       "0           -1.127455           -0.042214            0.000409   \n",
       "1            1.616014           -1.089382           -0.017959   \n",
       "2           -1.127455           -0.042214            0.000409   \n",
       "3           -1.127455           -0.042214            0.000409   \n",
       "4           -1.127455           -0.042214            0.000409   \n",
       "\n",
       "   geoNetwork.region3  geoNetwork.region4  geoNetwork.region5  \\\n",
       "0            -0.00409            0.000088            0.001441   \n",
       "1            -0.03455            0.003964            0.002864   \n",
       "2            -0.00409            0.000088            0.001441   \n",
       "3            -0.00409            0.000088            0.001441   \n",
       "4            -0.00409            0.000088            0.001441   \n",
       "\n",
       "   geoNetwork.region6  geoNetwork.region7  geoNetwork.region8  \\\n",
       "0            0.000232            0.000916           -0.000258   \n",
       "1           -0.001808            0.010489           -0.001861   \n",
       "2            0.000232            0.000916           -0.000258   \n",
       "3            0.000232            0.000916           -0.000258   \n",
       "4            0.000232            0.000916           -0.000258   \n",
       "\n",
       "   geoNetwork.region9  geoNetwork.metro0  geoNetwork.metro1  \\\n",
       "0           -0.000720          -1.125112          -0.094864   \n",
       "1           -0.007576           1.234288           1.559074   \n",
       "2           -0.000720          -1.125112          -0.094864   \n",
       "3           -0.000720          -1.125112          -0.094864   \n",
       "4           -0.000720          -1.125112          -0.094864   \n",
       "\n",
       "   geoNetwork.metro2  geoNetwork.metro3  geoNetwork.metro4  geoNetwork.metro5  \\\n",
       "0           0.033667           0.005023          -0.011874          -0.004389   \n",
       "1           0.702201           0.077030          -0.141315          -0.055381   \n",
       "2           0.033667           0.005023          -0.011874          -0.004389   \n",
       "3           0.033667           0.005023          -0.011874          -0.004389   \n",
       "4           0.033667           0.005023          -0.011874          -0.004389   \n",
       "\n",
       "   geoNetwork.metro6  geoNetwork.metro7  geoNetwork.metro8  geoNetwork.metro9  \\\n",
       "0          -0.001103          -0.002154          -0.000026          -0.003504   \n",
       "1          -0.012098          -0.021863           0.002774          -0.039474   \n",
       "2          -0.001103          -0.002154          -0.000026          -0.003504   \n",
       "3          -0.001103          -0.002154          -0.000026          -0.003504   \n",
       "4          -0.001103          -0.002154          -0.000026          -0.003504   \n",
       "\n",
       "   trafficSource.campaign0  trafficSource.campaign1  trafficSource.campaign2  \\\n",
       "0                -0.498572                 -0.00345                -0.002724   \n",
       "1                -0.498572                 -0.00345                -0.002724   \n",
       "2                -0.498572                 -0.00345                -0.002724   \n",
       "3                -0.498572                 -0.00345                -0.002724   \n",
       "4                -0.498572                 -0.00345                -0.002724   \n",
       "\n",
       "   trafficSource.campaign3  trafficSource.campaign4  trafficSource.campaign5  \\\n",
       "0                 0.000687                -0.001603                  0.00059   \n",
       "1                 0.000687                -0.001603                  0.00059   \n",
       "2                 0.000687                -0.001603                  0.00059   \n",
       "3                 0.000687                -0.001603                  0.00059   \n",
       "4                 0.000687                -0.001603                  0.00059   \n",
       "\n",
       "   trafficSource.source0  trafficSource.source1  trafficSource.source2  \\\n",
       "0              -1.175037               0.137448              -0.020991   \n",
       "1               1.001955              -1.230132               1.574007   \n",
       "2               1.708333               0.544903              -0.061165   \n",
       "3              -1.175037               0.137448              -0.020991   \n",
       "4              -1.175037               0.137448              -0.020991   \n",
       "\n",
       "   trafficSource.source3  trafficSource.medium0  trafficSource.medium1  \\\n",
       "0               0.002437              -1.361062              -0.326569   \n",
       "1              -1.492756               0.638626               2.195820   \n",
       "2               0.007623               1.522725              -1.069912   \n",
       "3               0.002437              -1.361062              -0.326569   \n",
       "4               0.002437              -1.361062              -0.326569   \n",
       "\n",
       "   trafficSource.medium2  trafficSource.medium3  trafficSource.medium4  \\\n",
       "0              -0.079705              -0.054637              -0.020767   \n",
       "1              -1.451083              -0.302310              -0.104759   \n",
       "2              -0.186052              -0.108301              -0.040318   \n",
       "3              -0.079705              -0.054637              -0.020767   \n",
       "4              -0.079705              -0.054637              -0.020767   \n",
       "\n",
       "   trafficSource.adContent0  trafficSource.adContent1  \\\n",
       "0                 -0.425892                  0.004821   \n",
       "1                 -0.425892                  0.004821   \n",
       "2                 -0.425892                  0.004821   \n",
       "3                 -0.425892                  0.004821   \n",
       "4                 -0.425892                  0.004821   \n",
       "\n",
       "   trafficSource.adwordsClickInfo.page0  trafficSource.adwordsClickInfo.page1  \\\n",
       "0                             -0.468835                             -0.002795   \n",
       "1                             -0.468835                             -0.002795   \n",
       "2                             -0.468835                             -0.002795   \n",
       "3                             -0.468835                             -0.002795   \n",
       "4                             -0.468835                             -0.002795   \n",
       "\n",
       "   trafficSource.adwordsClickInfo.slot0  trafficSource.adwordsClickInfo.slot1  \\\n",
       "0                             -0.464067                             -0.007767   \n",
       "1                             -0.464067                             -0.007767   \n",
       "2                             -0.464067                             -0.007767   \n",
       "3                             -0.464067                             -0.007767   \n",
       "4                             -0.464067                             -0.007767   \n",
       "\n",
       "   trafficSource.adwordsClickInfo.slot2  \\\n",
       "0                          3.113583e-10   \n",
       "1                          2.108837e-10   \n",
       "2                          7.874439e-14   \n",
       "3                          7.874439e-14   \n",
       "4                          7.874439e-14   \n",
       "\n",
       "   trafficSource.adwordsClickInfo.adNetworkType0  \\\n",
       "0                                      -0.464018   \n",
       "1                                      -0.464018   \n",
       "2                                      -0.464018   \n",
       "3                                      -0.464018   \n",
       "4                                      -0.464018   \n",
       "\n",
       "   trafficSource.adwordsClickInfo.adNetworkType1  \\\n",
       "0                                      -0.007659   \n",
       "1                                      -0.007659   \n",
       "2                                      -0.007659   \n",
       "3                                      -0.007659   \n",
       "4                                      -0.007659   \n",
       "\n",
       "   trafficSource.adwordsClickInfo.adNetworkType2  \\\n",
       "0                                       -0.00008   \n",
       "1                                       -0.00008   \n",
       "2                                       -0.00008   \n",
       "3                                       -0.00008   \n",
       "4                                       -0.00008   \n",
       "\n",
       "   trafficSource.adwordsClickInfo.isVideoAd0  \\\n",
       "0                                  -0.469012   \n",
       "1                                  -0.469012   \n",
       "2                                  -0.469012   \n",
       "3                                  -0.469012   \n",
       "4                                  -0.469012   \n",
       "\n",
       "   trafficSource.adwordsClickInfo.isVideoAd1  trafficSource.isTrueDirect0  \\\n",
       "0                               9.265650e-14                    -0.981890   \n",
       "1                               1.495634e-17                    -0.981890   \n",
       "2                               1.495634e-17                     2.036887   \n",
       "3                               1.495634e-17                    -0.981890   \n",
       "4                               1.495634e-17                    -0.981890   \n",
       "\n",
       "   trafficSource.isTrueDirect1  chann_(Other)  chann_Affiliates  chann_Direct  \\\n",
       "0                 1.528529e-13      -0.004108           -0.1374     -0.441296   \n",
       "1                 4.288801e-17      -0.004108           -0.1374     -0.441296   \n",
       "2                 4.336568e-17      -0.004108           -0.1374      2.266051   \n",
       "3                 4.288801e-17      -0.004108           -0.1374     -0.441296   \n",
       "4                 4.288801e-17      -0.004108           -0.1374     -0.441296   \n",
       "\n",
       "   chann_Display  chann_Organic Search  chann_Paid Search  chann_Referral  \\\n",
       "0      -0.291465              1.023541          -0.177812       -0.373379   \n",
       "1      -0.291465             -0.977000          -0.177812        2.678246   \n",
       "2      -0.291465             -0.977000          -0.177812       -0.373379   \n",
       "3      -0.291465              1.023541          -0.177812       -0.373379   \n",
       "4      -0.291465              1.023541          -0.177812       -0.373379   \n",
       "\n",
       "   chann_Social  date__2017-05-01  date__2017-06-01  date__2017-07-01  \\\n",
       "0     -0.331077          -0.39991         -0.393525         -0.422491   \n",
       "1     -0.331077          -0.39991         -0.393525         -0.422491   \n",
       "2     -0.331077          -0.39991         -0.393525         -0.422491   \n",
       "3     -0.331077          -0.39991         -0.393525         -0.422491   \n",
       "4     -0.331077          -0.39991         -0.393525         -0.422491   \n",
       "\n",
       "   date__2017-08-01  date__2017-09-01  date__2017-10-01  \n",
       "0         -0.466712         -0.474979          1.918604  \n",
       "1         -0.466712         -0.474979          1.918604  \n",
       "2         -0.466712         -0.474979          1.918604  \n",
       "3         -0.466712         -0.474979          1.918604  \n",
       "4         -0.466712         -0.474979          1.918604  "
      ]
     },
     "execution_count": 33,
     "metadata": {},
     "output_type": "execute_result"
    }
   ],
   "source": [
    "train.head()"
   ]
  },
  {
   "cell_type": "code",
   "execution_count": 34,
   "metadata": {},
   "outputs": [
    {
     "name": "stdout",
     "output_type": "stream",
     "text": [
      "<class 'pandas.core.frame.DataFrame'>\n",
      "Int64Index: 474124 entries, 0 to 748306\n",
      "Data columns (total 120 columns):\n",
      " #   Column                                         Non-Null Count   Dtype  \n",
      "---  ------                                         --------------   -----  \n",
      " 0   fullVisitorId                                  474124 non-null  object \n",
      " 1   visitNumber                                    474124 non-null  float64\n",
      " 2   totals.hits                                    474124 non-null  float64\n",
      " 3   totals.pageviews                               474124 non-null  float64\n",
      " 4   totals.bounces                                 474124 non-null  float64\n",
      " 5   totals.newVisits                               474124 non-null  float64\n",
      " 6   totals.timeOnSite                              474124 non-null  float64\n",
      " 7   totals.transactions                            474124 non-null  float64\n",
      " 8   totals.transactionRevenue                      474124 non-null  float64\n",
      " 9   totals.totalTransactionRevenue                 474124 non-null  float64\n",
      " 10  device.browser0                                474124 non-null  float64\n",
      " 11  device.browser1                                474124 non-null  float64\n",
      " 12  device.browser2                                474124 non-null  float64\n",
      " 13  device.browser3                                474124 non-null  float64\n",
      " 14  device.browser4                                474124 non-null  float64\n",
      " 15  device.browser5                                474124 non-null  float64\n",
      " 16  device.browser6                                474124 non-null  float64\n",
      " 17  device.browser7                                474124 non-null  float64\n",
      " 18  device.operatingSystem0                        474124 non-null  float64\n",
      " 19  device.operatingSystem1                        474124 non-null  float64\n",
      " 20  device.operatingSystem2                        474124 non-null  float64\n",
      " 21  device.operatingSystem3                        474124 non-null  float64\n",
      " 22  device.operatingSystem4                        474124 non-null  float64\n",
      " 23  device.operatingSystem5                        474124 non-null  float64\n",
      " 24  device.operatingSystem6                        474124 non-null  float64\n",
      " 25  device.operatingSystem7                        474124 non-null  float64\n",
      " 26  device.isMobile0                               474124 non-null  float64\n",
      " 27  device.isMobile1                               474124 non-null  float64\n",
      " 28  device.deviceCategory0                         474124 non-null  float64\n",
      " 29  device.deviceCategory1                         474124 non-null  float64\n",
      " 30  device.deviceCategory2                         474124 non-null  float64\n",
      " 31  geoNetwork.continent0                          474124 non-null  float64\n",
      " 32  geoNetwork.continent1                          474124 non-null  float64\n",
      " 33  geoNetwork.continent2                          474124 non-null  float64\n",
      " 34  geoNetwork.continent3                          474124 non-null  float64\n",
      " 35  geoNetwork.continent4                          474124 non-null  float64\n",
      " 36  geoNetwork.continent5                          474124 non-null  float64\n",
      " 37  geoNetwork.subContinent0                       474124 non-null  float64\n",
      " 38  geoNetwork.subContinent1                       474124 non-null  float64\n",
      " 39  geoNetwork.subContinent2                       474124 non-null  float64\n",
      " 40  geoNetwork.subContinent3                       474124 non-null  float64\n",
      " 41  geoNetwork.subContinent4                       474124 non-null  float64\n",
      " 42  geoNetwork.subContinent5                       474124 non-null  float64\n",
      " 43  geoNetwork.subContinent6                       474124 non-null  float64\n",
      " 44  geoNetwork.subContinent7                       474124 non-null  float64\n",
      " 45  geoNetwork.subContinent8                       474124 non-null  float64\n",
      " 46  geoNetwork.subContinent9                       474124 non-null  float64\n",
      " 47  geoNetwork.country0                            474124 non-null  float64\n",
      " 48  geoNetwork.country1                            474124 non-null  float64\n",
      " 49  geoNetwork.country2                            474124 non-null  float64\n",
      " 50  geoNetwork.country3                            474124 non-null  float64\n",
      " 51  geoNetwork.country4                            474124 non-null  float64\n",
      " 52  geoNetwork.country5                            474124 non-null  float64\n",
      " 53  geoNetwork.country6                            474124 non-null  float64\n",
      " 54  geoNetwork.country7                            474124 non-null  float64\n",
      " 55  geoNetwork.country8                            474124 non-null  float64\n",
      " 56  geoNetwork.country9                            474124 non-null  float64\n",
      " 57  geoNetwork.region0                             474124 non-null  float64\n",
      " 58  geoNetwork.region1                             474124 non-null  float64\n",
      " 59  geoNetwork.region2                             474124 non-null  float64\n",
      " 60  geoNetwork.region3                             474124 non-null  float64\n",
      " 61  geoNetwork.region4                             474124 non-null  float64\n",
      " 62  geoNetwork.region5                             474124 non-null  float64\n",
      " 63  geoNetwork.region6                             474124 non-null  float64\n",
      " 64  geoNetwork.region7                             474124 non-null  float64\n",
      " 65  geoNetwork.region8                             474124 non-null  float64\n",
      " 66  geoNetwork.region9                             474124 non-null  float64\n",
      " 67  geoNetwork.metro0                              474124 non-null  float64\n",
      " 68  geoNetwork.metro1                              474124 non-null  float64\n",
      " 69  geoNetwork.metro2                              474124 non-null  float64\n",
      " 70  geoNetwork.metro3                              474124 non-null  float64\n",
      " 71  geoNetwork.metro4                              474124 non-null  float64\n",
      " 72  geoNetwork.metro5                              474124 non-null  float64\n",
      " 73  geoNetwork.metro6                              474124 non-null  float64\n",
      " 74  geoNetwork.metro7                              474124 non-null  float64\n",
      " 75  geoNetwork.metro8                              474124 non-null  float64\n",
      " 76  geoNetwork.metro9                              474124 non-null  float64\n",
      " 77  trafficSource.campaign0                        474124 non-null  float64\n",
      " 78  trafficSource.campaign1                        474124 non-null  float64\n",
      " 79  trafficSource.campaign2                        474124 non-null  float64\n",
      " 80  trafficSource.campaign3                        474124 non-null  float64\n",
      " 81  trafficSource.campaign4                        474124 non-null  float64\n",
      " 82  trafficSource.campaign5                        474124 non-null  float64\n",
      " 83  trafficSource.source0                          474124 non-null  float64\n",
      " 84  trafficSource.source1                          474124 non-null  float64\n",
      " 85  trafficSource.source2                          474124 non-null  float64\n",
      " 86  trafficSource.source3                          474124 non-null  float64\n",
      " 87  trafficSource.medium0                          474124 non-null  float64\n",
      " 88  trafficSource.medium1                          474124 non-null  float64\n",
      " 89  trafficSource.medium2                          474124 non-null  float64\n",
      " 90  trafficSource.medium3                          474124 non-null  float64\n",
      " 91  trafficSource.medium4                          474124 non-null  float64\n",
      " 92  trafficSource.adContent0                       474124 non-null  float64\n",
      " 93  trafficSource.adContent1                       474124 non-null  float64\n",
      " 94  trafficSource.adwordsClickInfo.page0           474124 non-null  float64\n",
      " 95  trafficSource.adwordsClickInfo.page1           474124 non-null  float64\n",
      " 96  trafficSource.adwordsClickInfo.slot0           474124 non-null  float64\n",
      " 97  trafficSource.adwordsClickInfo.slot1           474124 non-null  float64\n",
      " 98  trafficSource.adwordsClickInfo.slot2           474124 non-null  float64\n",
      " 99  trafficSource.adwordsClickInfo.adNetworkType0  474124 non-null  float64\n",
      " 100 trafficSource.adwordsClickInfo.adNetworkType1  474124 non-null  float64\n",
      " 101 trafficSource.adwordsClickInfo.adNetworkType2  474124 non-null  float64\n",
      " 102 trafficSource.adwordsClickInfo.isVideoAd0      474124 non-null  float64\n",
      " 103 trafficSource.adwordsClickInfo.isVideoAd1      474124 non-null  float64\n",
      " 104 trafficSource.isTrueDirect0                    474124 non-null  float64\n",
      " 105 trafficSource.isTrueDirect1                    474124 non-null  float64\n",
      " 106 chann_(Other)                                  474124 non-null  float64\n",
      " 107 chann_Affiliates                               474124 non-null  float64\n",
      " 108 chann_Direct                                   474124 non-null  float64\n",
      " 109 chann_Display                                  474124 non-null  float64\n",
      " 110 chann_Organic Search                           474124 non-null  float64\n",
      " 111 chann_Paid Search                              474124 non-null  float64\n",
      " 112 chann_Referral                                 474124 non-null  float64\n",
      " 113 chann_Social                                   474124 non-null  float64\n",
      " 114 date__2017-05-01                               474124 non-null  float64\n",
      " 115 date__2017-06-01                               474124 non-null  float64\n",
      " 116 date__2017-07-01                               474124 non-null  float64\n",
      " 117 date__2017-08-01                               474124 non-null  float64\n",
      " 118 date__2017-09-01                               474124 non-null  float64\n",
      " 119 date__2017-10-01                               474124 non-null  float64\n",
      "dtypes: float64(119), object(1)\n",
      "memory usage: 457.7+ MB\n"
     ]
    }
   ],
   "source": [
    "train.info(verbose=True,max_cols=5000)"
   ]
  },
  {
   "cell_type": "markdown",
   "metadata": {},
   "source": [
    " <body>\n",
    "  <h1>Rearrange Data with respect to full visitor ID</h1>\n",
    "  <p style='font-size:15px'>Recall that our goal is to predict each consumers' future transactions.\n",
    "Thus, one of the most important part of is to rearrange our data in terms of full visitor ID. </p>\n",
    "    <p style='font-size:15px'> Here, we make Python dictionary where keys are full visitor IDs and values are lists of their\n",
    "transactions log </p>\n",
    "</body>"
   ]
  },
  {
   "cell_type": "code",
   "execution_count": 28,
   "metadata": {},
   "outputs": [],
   "source": [
    "train_dict = train.groupby('fullVisitorId')[train.columns[1:]].apply(lambda g: g.values.tolist()).to_dict()\n"
   ]
  },
  {
   "cell_type": "markdown",
   "metadata": {},
   "source": [
    " <body>\n",
    "  <h1>Make target varialbe for each visitor ID</h1>\n",
    "  <p style='font-size:15px'>for each visitor ID, the target varialbe is the amount of transactions during \n",
    "the period December 2017 to January 2018 </p>\n",
    "</body>"
   ]
  },
  {
   "cell_type": "code",
   "execution_count": 29,
   "metadata": {},
   "outputs": [],
   "source": [
    "target = df.loc[(20171201 <= df['date'])  &(df['date'] < 20180201)]\n",
    "target_dict = target.groupby('fullVisitorId')['totals.transactionRevenue'].apply(lambda g: g.values.sum()).to_dict()"
   ]
  },
  {
   "cell_type": "markdown",
   "metadata": {},
   "source": [
    " <body>\n",
    "  <h1>Preprocess for the efficient training</h1>\n",
    "  <p style='font-size:15px'>Before we perform actual training using LSTM, we preprocess data so that we utilize \n",
    "mini-batch size training. Using mini batch size siginificantly improves the time effieicny of the training.</p>\n",
    "    <p style='font-size:15px'> To do so, we group visit log in terms of the number of the visits. \n",
    "Due to the technical constraint, we have to feed training sets which have the same number of \n",
    "time steps for each training session.   </p>\n",
    "   \n",
    "</body>"
   ]
  },
  {
   "cell_type": "code",
   "execution_count": 30,
   "metadata": {},
   "outputs": [],
   "source": [
    "import math\n",
    "from collections import defaultdict\n",
    "train_dict2 = defaultdict(list)\n",
    "target_dict_log = defaultdict(list)\n",
    "for k,v in train_dict.items():\n",
    "    temp = np.asarray(v)\n",
    "    train_dict2[temp.shape[0]].append(temp)\n",
    "    #target_dict_log[temp.shape[0]].append([target_dict[k]] if k in target_dict else [0.0]) \n",
    "    target_dict_log[temp.shape[0]].append([math.log(1+target_dict[k])] if k in target_dict else [0.0] )"
   ]
  },
  {
   "cell_type": "code",
   "execution_count": 31,
   "metadata": {},
   "outputs": [],
   "source": [
    "'''\n",
    "--------------- Change the Python array to Numpy array to feed these to Tensorflow training -----------------\n",
    "\n",
    "'''\n",
    "\n",
    "for k,v in train_dict2.items():\n",
    "    train_dict2[k] = np.asarray(v)\n",
    "for k,v in target_dict_log.items():\n",
    "    target_dict_log[k] = np.asarray(v)"
   ]
  },
  {
   "cell_type": "markdown",
   "metadata": {},
   "source": [
    " <body>\n",
    "  <h1>Build the LSTM model using Keras API</h1>\n",
    "  <p style='font-size:15px'>BWe use stacked LSTM model.\n",
    "For the optimizer, we use ADAM for fast optimization</p>\n",
    "\n",
    "   \n",
    "</body>"
   ]
  },
  {
   "cell_type": "code",
   "execution_count": 35,
   "metadata": {},
   "outputs": [
    {
     "name": "stdout",
     "output_type": "stream",
     "text": [
      "Model: \"sequential\"\n",
      "____________________________________________________________________________________________________\n",
      "Layer (type)                                 Output Shape                            Param #        \n",
      "====================================================================================================\n",
      "lstm (LSTM)                                  (None, None, 250)                       370000         \n",
      "____________________________________________________________________________________________________\n",
      "lstm_1 (LSTM)                                (None, None, 100)                       140400         \n",
      "____________________________________________________________________________________________________\n",
      "lstm_2 (LSTM)                                (None, 20)                              9680           \n",
      "____________________________________________________________________________________________________\n",
      "dense (Dense)                                (None, 1)                               21             \n",
      "====================================================================================================\n",
      "Total params: 520,101\n",
      "Trainable params: 520,101\n",
      "Non-trainable params: 0\n",
      "____________________________________________________________________________________________________\n",
      "None\n"
     ]
    }
   ],
   "source": [
    "from keras.models import Sequential\n",
    "from keras.layers import LSTM, Dense, TimeDistributed\n",
    "from keras.utils import to_categorical\n",
    "from keras.preprocessing import sequence\n",
    "from keras import optimizers\n",
    "\n",
    "\n",
    "model = Sequential()\n",
    "\n",
    "model.add(LSTM(250, return_sequences=True, input_shape=(None, 119)))\n",
    "model.add(LSTM(100, return_sequences=True))\n",
    "model.add(LSTM(20, return_sequences=False))\n",
    "model.add(Dense(1, activation='linear'))\n",
    "#model.add(TimeDistributed(Dense(1)))\n",
    "print(model.summary(100))\n",
    "\n",
    "model.compile(loss='mse',\n",
    "              optimizer='adam')\n",
    "\n",
    "\n",
    "\n"
   ]
  },
  {
   "cell_type": "markdown",
   "metadata": {},
   "source": [
    " <body>\n",
    "  <h1>Training</h1>\n",
    "  <p style='font-size:15px'>Feed preprocessed data to our LSTM model</p>\n",
    "\n",
    "   \n",
    "</body>"
   ]
  },
  {
   "cell_type": "code",
   "execution_count": 50,
   "metadata": {
    "scrolled": true
   },
   "outputs": [
    {
     "name": "stdout",
     "output_type": "stream",
     "text": [
      "2442/2442 [==============================] - 51s 21ms/step - loss: 0.0483\n",
      "548/548 [==============================] - 13s 24ms/step - loss: 0.2841\n",
      "314/314 [==============================] - 6s 18ms/step - loss: 0.7268\n",
      "264/264 [==============================] - 5s 19ms/step - loss: 0.3573\n",
      "125/125 [==============================] - 3s 21ms/step - loss: 1.8832\n",
      "2442/2442 [==============================] - 44s 18ms/step - loss: 0.0483\n",
      "548/548 [==============================] - 11s 20ms/step - loss: 0.2835\n",
      "314/314 [==============================] - 6s 20ms/step - loss: 0.7237\n",
      "264/264 [==============================] - 5s 17ms/step - loss: 0.3569\n",
      "125/125 [==============================] - 2s 20ms/step - loss: 1.8793\n",
      "2442/2442 [==============================] - 44s 18ms/step - loss: 0.0485\n",
      "548/548 [==============================] - 10s 19ms/step - loss: 0.2828\n",
      "314/314 [==============================] - 6s 18ms/step - loss: 0.7193\n",
      "264/264 [==============================] - 5s 18ms/step - loss: 0.3570\n",
      "125/125 [==============================] - 2s 19ms/step - loss: 1.8827\n",
      "2442/2442 [==============================] - 39s 16ms/step - loss: 0.0487\n",
      "548/548 [==============================] - 10s 19ms/step - loss: 0.2830\n",
      "314/314 [==============================] - 5s 17ms/step - loss: 0.7172\n",
      "264/264 [==============================] - 5s 18ms/step - loss: 0.3574\n",
      "125/125 [==============================] - 2s 20ms/step - loss: 1.8829\n",
      "2442/2442 [==============================] - 39s 16ms/step - loss: 0.0485\n",
      "548/548 [==============================] - 10s 19ms/step - loss: 0.2828\n",
      "314/314 [==============================] - 6s 18ms/step - loss: 0.7133\n",
      "264/264 [==============================] - 5s 17ms/step - loss: 0.3581\n",
      "125/125 [==============================] - 3s 20ms/step - loss: 1.8818\n"
     ]
    }
   ],
   "source": [
    "for j in range(5):\n",
    "    for i in train_dict2:\n",
    "        model.fit(train_dict2[i],target_dict_log[i], epochs=1, \n",
    "                  batch_size=max(256//(2**i),16),verbose=1)\n"
   ]
  },
  {
   "cell_type": "markdown",
   "metadata": {},
   "source": [
    " <body>\n",
    "  <h1>Save the trained model</h1>\n",
    "  <p style='font-size:15px'>The saved model will be applied to test set later.</p>\n",
    "\n",
    "   \n",
    "</body>"
   ]
  },
  {
   "cell_type": "code",
   "execution_count": 52,
   "metadata": {},
   "outputs": [],
   "source": [
    "model.save('google_revenue_range_1to6_5times_LSTM.h5')"
   ]
  }
 ],
 "metadata": {
  "kernelspec": {
   "display_name": "Python 3",
   "language": "python",
   "name": "python3"
  },
  "language_info": {
   "codemirror_mode": {
    "name": "ipython",
    "version": 3
   },
   "file_extension": ".py",
   "mimetype": "text/x-python",
   "name": "python",
   "nbconvert_exporter": "python",
   "pygments_lexer": "ipython3",
   "version": "3.7.6"
  }
 },
 "nbformat": 4,
 "nbformat_minor": 4
}
